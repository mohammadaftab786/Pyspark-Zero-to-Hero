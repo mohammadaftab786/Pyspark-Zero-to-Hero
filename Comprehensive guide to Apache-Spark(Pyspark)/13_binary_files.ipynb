{
 "cells": [
  {
   "cell_type": "markdown",
   "id": "286268f6-13ca-43b9-95a0-8d80dcb44616",
   "metadata": {},
   "source": [
    "# Binary Files"
   ]
  },
  {
   "cell_type": "code",
   "execution_count": 1,
   "id": "045aa11d-180c-4e14-9dd5-16e2a2fbc8bb",
   "metadata": {},
   "outputs": [
    {
     "data": {
      "text/html": [
       "\n",
       "            <div>\n",
       "                <p><b>SparkSession - in-memory</b></p>\n",
       "                \n",
       "        <div>\n",
       "            <p><b>SparkContext</b></p>\n",
       "\n",
       "            <p><a href=\"http://e85ba8ba0610:4040\">Spark UI</a></p>\n",
       "\n",
       "            <dl>\n",
       "              <dt>Version</dt>\n",
       "                <dd><code>v3.3.0</code></dd>\n",
       "              <dt>Master</dt>\n",
       "                <dd><code>local[*]</code></dd>\n",
       "              <dt>AppName</dt>\n",
       "                <dd><code>Binary Files</code></dd>\n",
       "            </dl>\n",
       "        </div>\n",
       "        \n",
       "            </div>\n",
       "        "
      ],
      "text/plain": [
       "<pyspark.sql.session.SparkSession at 0x7fe514266170>"
      ]
     },
     "execution_count": 1,
     "metadata": {},
     "output_type": "execute_result"
    }
   ],
   "source": [
    "# Create Spark Session\n",
    "\n",
    "from pyspark.sql import SparkSession\n",
    "\n",
    "spark = SparkSession \\\n",
    "    .builder \\\n",
    "    .appName(\"Binary Files\") \\\n",
    "    .master(\"local[*]\") \\\n",
    "    .getOrCreate()\n",
    "\n",
    "spark"
   ]
  },
  {
   "cell_type": "code",
   "execution_count": 2,
   "id": "c54cc1c4-0ec6-4197-8930-f11afd52f44e",
   "metadata": {},
   "outputs": [
    {
     "name": "stdout",
     "output_type": "stream",
     "text": [
      "total 616K\n",
      "-rwxr-xr-x 1 root root 460K May 21 07:13 form.pdf\n",
      "-rwxr-xr-x 1 root root  46K Sep 13 10:59 aws.png\n",
      "-rwxr-xr-x 1 root root  35K Sep 13 11:00 databricks.png\n",
      "-rwxr-xr-x 1 root root  64K Sep 13 11:09 spark.png\n",
      "-rwxr-xr-x 1 root root 6.6K Oct  1 14:56 spark.jpg\n"
     ]
    }
   ],
   "source": [
    "%%sh\n",
    "\n",
    "ls -lhtr dataset/files"
   ]
  },
  {
   "cell_type": "code",
   "execution_count": 6,
   "id": "4f799014-65ae-4a13-bcee-7245eef605f8",
   "metadata": {},
   "outputs": [
    {
     "name": "stdout",
     "output_type": "stream",
     "text": [
      "root\n",
      " |-- path: string (nullable = true)\n",
      " |-- modificationTime: timestamp (nullable = true)\n",
      " |-- length: long (nullable = true)\n",
      " |-- content: binary (nullable = true)\n",
      "\n",
      "+--------------------+-------------------+------+--------------------+\n",
      "|                path|   modificationTime|length|             content|\n",
      "+--------------------+-------------------+------+--------------------+\n",
      "|file:/home/jovyan...|2022-09-13 11:09:39| 64792|[89 50 4E 47 0D 0...|\n",
      "+--------------------+-------------------+------+--------------------+\n",
      "\n"
     ]
    }
   ],
   "source": [
    "# Lets read a .png file\n",
    "\n",
    "df_spark_png = spark \\\n",
    "    .read \\\n",
    "    .format(\"binaryFile\") \\\n",
    "    .load(\"dataset/files/spark.png\")\n",
    "\n",
    "df_spark_png.printSchema()\n",
    "df_spark_png.show()"
   ]
  },
  {
   "cell_type": "code",
   "execution_count": 7,
   "id": "53f7b532-afbb-45cc-9247-29f1282696eb",
   "metadata": {},
   "outputs": [
    {
     "name": "stdout",
     "output_type": "stream",
     "text": [
      "root\n",
      " |-- path: string (nullable = true)\n",
      " |-- modificationTime: timestamp (nullable = true)\n",
      " |-- length: long (nullable = true)\n",
      " |-- content: binary (nullable = true)\n",
      "\n",
      "+--------------------+-------------------+------+--------------------+\n",
      "|                path|   modificationTime|length|             content|\n",
      "+--------------------+-------------------+------+--------------------+\n",
      "|file:/home/jovyan...|2022-09-13 11:09:39| 64792|[89 50 4E 47 0D 0...|\n",
      "|file:/home/jovyan...|2022-09-13 10:59:22| 46809|[89 50 4E 47 0D 0...|\n",
      "|file:/home/jovyan...|2022-09-13 11:00:32| 35619|[89 50 4E 47 0D 0...|\n",
      "+--------------------+-------------------+------+--------------------+\n",
      "\n"
     ]
    }
   ],
   "source": [
    "# Lets read all .png file\n",
    "\n",
    "df_spark_png = spark \\\n",
    "    .read \\\n",
    "    .format(\"binaryFile\") \\\n",
    "    .load(\"dataset/files/*.png\")\n",
    "\n",
    "df_spark_png.printSchema()\n",
    "df_spark_png.show()"
   ]
  },
  {
   "cell_type": "code",
   "execution_count": 14,
   "id": "2f7986c3-8e2f-43f9-80e5-a93e0be1472f",
   "metadata": {},
   "outputs": [
    {
     "name": "stdout",
     "output_type": "stream",
     "text": [
      "root\n",
      " |-- path: string (nullable = true)\n",
      " |-- modificationTime: timestamp (nullable = true)\n",
      " |-- length: long (nullable = true)\n",
      " |-- content: binary (nullable = true)\n",
      "\n",
      "+--------------------+-------------------+------+--------------------+\n",
      "|                path|   modificationTime|length|             content|\n",
      "+--------------------+-------------------+------+--------------------+\n",
      "|file:/home/jovyan...|2022-05-21 07:13:29|470701|[25 50 44 46 2D 3...|\n",
      "+--------------------+-------------------+------+--------------------+\n",
      "\n"
     ]
    }
   ],
   "source": [
    "# We can even read PDF files\n",
    "\n",
    "df_spark_pdf = spark \\\n",
    "    .read \\\n",
    "    .format(\"binaryFile\") \\\n",
    "    .load(\"dataset/files/*.pdf\")\n",
    "\n",
    "df_spark_pdf.printSchema()\n",
    "df_spark_pdf.show()"
   ]
  },
  {
   "cell_type": "code",
   "execution_count": 4,
   "id": "7e9c59d4-5be2-48e8-a10c-e042ac71bb1f",
   "metadata": {},
   "outputs": [
    {
     "name": "stdout",
     "output_type": "stream",
     "text": [
      "root\n",
      " |-- path: string (nullable = true)\n",
      " |-- modificationTime: timestamp (nullable = true)\n",
      " |-- length: long (nullable = true)\n",
      " |-- content: binary (nullable = true)\n",
      "\n",
      "+--------------------+--------------------+------+--------------------+\n",
      "|                path|    modificationTime|length|             content|\n",
      "+--------------------+--------------------+------+--------------------+\n",
      "|file:/home/jovyan...|2022-10-15 12:11:...|    29|[54 68 69 73 20 6...|\n",
      "+--------------------+--------------------+------+--------------------+\n",
      "\n"
     ]
    }
   ],
   "source": [
    "# We can even read Text files as binary files\n",
    "\n",
    "df_spark_txt = spark \\\n",
    "    .read \\\n",
    "    .format(\"binaryFile\") \\\n",
    "    .load(\"dataset/example.txt\")\n",
    "\n",
    "df_spark_txt.printSchema()\n",
    "df_spark_txt.show()"
   ]
  },
  {
   "cell_type": "code",
   "execution_count": 12,
   "id": "9471569e-8739-49c7-9798-7f1826b00c93",
   "metadata": {},
   "outputs": [],
   "source": [
    "# Lets generate the text file back from the binary content\n",
    "byte_content = df_spark_txt.select(\"content\").collect()[0][0]\n",
    "\n",
    "# Lets write the byte content as file back\n",
    "with open(\"dataset/new_example.txt\", \"wb\") as f:\n",
    "    f.write(byte_content)\n",
    "    f.close()"
   ]
  },
  {
   "cell_type": "code",
   "execution_count": 13,
   "id": "c67bee28-0e60-42ed-92bb-f8734f0ccd34",
   "metadata": {},
   "outputs": [
    {
     "name": "stdout",
     "output_type": "stream",
     "text": [
      "This is an example text file\n"
     ]
    }
   ],
   "source": [
    "%%sh\n",
    "\n",
    "cat dataset/new_example.txt"
   ]
  },
  {
   "cell_type": "code",
   "execution_count": null,
   "id": "25b8c646-85f6-4db5-8211-050785cdc918",
   "metadata": {},
   "outputs": [],
   "source": []
  }
 ],
 "metadata": {
  "kernelspec": {
   "display_name": "Python 3 (ipykernel)",
   "language": "python",
   "name": "python3"
  },
  "language_info": {
   "codemirror_mode": {
    "name": "ipython",
    "version": 3
   },
   "file_extension": ".py",
   "mimetype": "text/x-python",
   "name": "python",
   "nbconvert_exporter": "python",
   "pygments_lexer": "ipython3",
   "version": "3.10.6"
  }
 },
 "nbformat": 4,
 "nbformat_minor": 5
}
