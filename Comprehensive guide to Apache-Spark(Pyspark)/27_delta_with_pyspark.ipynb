{
 "cells": [
  {
   "cell_type": "markdown",
   "id": "686bb1b5-962f-482c-acf1-d3a3ec75f5b5",
   "metadata": {},
   "source": [
    "## Delta with PySpark"
   ]
  },
  {
   "cell_type": "code",
   "execution_count": 2,
   "id": "4e73fb9a-d7f3-4803-ba15-190a7d3e54ea",
   "metadata": {},
   "outputs": [
    {
     "data": {
      "text/html": [
       "\n",
       "            <div>\n",
       "                <p><b>SparkSession - hive</b></p>\n",
       "                \n",
       "        <div>\n",
       "            <p><b>SparkContext</b></p>\n",
       "\n",
       "            <p><a href=\"http://eccf28b1656f:4040\">Spark UI</a></p>\n",
       "\n",
       "            <dl>\n",
       "              <dt>Version</dt>\n",
       "                <dd><code>v3.3.0</code></dd>\n",
       "              <dt>Master</dt>\n",
       "                <dd><code>local[*]</code></dd>\n",
       "              <dt>AppName</dt>\n",
       "                <dd><code>Delta with PySpark</code></dd>\n",
       "            </dl>\n",
       "        </div>\n",
       "        \n",
       "            </div>\n",
       "        "
      ],
      "text/plain": [
       "<pyspark.sql.session.SparkSession at 0x7fb41c28a380>"
      ]
     },
     "execution_count": 2,
     "metadata": {},
     "output_type": "execute_result"
    }
   ],
   "source": [
    "# Create Spark Session with Delta JARS and conf\n",
    "\n",
    "from pyspark.sql import SparkSession\n",
    "\n",
    "spark = SparkSession \\\n",
    "    .builder \\\n",
    "    .appName(\"Delta with PySpark\") \\\n",
    "    .config('spark.jars.packages', 'io.delta:delta-core_2.12:2.1.1') \\\n",
    "    .config(\"spark.sql.extensions\", \"io.delta.sql.DeltaSparkSessionExtension\") \\\n",
    "    .config(\n",
    "        \"spark.sql.catalog.spark_catalog\",\n",
    "        \"org.apache.spark.sql.delta.catalog.DeltaCatalog\",\n",
    "    ) \\\n",
    "    .config(\"spark.sql.warehouse.dir\", \"spark-warehouse\") \\\n",
    "    .master(\"local[*]\") \\\n",
    "    .enableHiveSupport() \\\n",
    "    .getOrCreate()\n",
    "\n",
    "spark"
   ]
  },
  {
   "cell_type": "code",
   "execution_count": 3,
   "id": "5f0bd649-9463-48aa-bfc9-8e59c4468894",
   "metadata": {},
   "outputs": [],
   "source": [
    "# pip install sparksql-magic\n",
    "# Run below command to enable sparksql\n",
    "%load_ext sparksql_magic"
   ]
  },
  {
   "cell_type": "code",
   "execution_count": 47,
   "id": "c58b05fa-b4c9-457d-bcd7-0c492b773754",
   "metadata": {},
   "outputs": [
    {
     "data": {
      "text/html": [
       "<table><tr style=\"border-bottom: 1px solid\"><td style=\"font-weight: bold\">namespace</td><td style=\"font-weight: bold\">tableName</td><td style=\"font-weight: bold\">isTemporary</td></tr><tr><td>default</td><td>sales_managed</td><td>False</td></tr></table>"
      ],
      "text/plain": [
       "<IPython.core.display.HTML object>"
      ]
     },
     "execution_count": 47,
     "metadata": {},
     "output_type": "execute_result"
    }
   ],
   "source": [
    "%%sparksql\n",
    "show tables in default;"
   ]
  },
  {
   "cell_type": "code",
   "execution_count": 48,
   "id": "c497afaa-d264-411a-b766-088fa66bb404",
   "metadata": {},
   "outputs": [
    {
     "name": "stdout",
     "output_type": "stream",
     "text": [
      "root\n",
      " |-- transacted_at: string (nullable = true)\n",
      " |-- trx_id: string (nullable = true)\n",
      " |-- retailer_id: string (nullable = true)\n",
      " |-- description: string (nullable = true)\n",
      " |-- amount: string (nullable = true)\n",
      " |-- city_id: string (nullable = true)\n",
      "\n",
      "+------------------------+----------+-----------+---------------------------------------------+-----------------------+----------+\n",
      "|transacted_at           |trx_id    |retailer_id|description                                  |amount                 |city_id   |\n",
      "+------------------------+----------+-----------+---------------------------------------------+-----------------------+----------+\n",
      "|2017-11-24T19:00:00.000Z|1995601912|2077350195 |Walgreen       11-25                         |197.230000000000000000 |216510442 |\n",
      "|2017-11-24T19:00:00.000Z|1734117021|644879053  |unkn    ppd id: 768641     11-26             |8.580000000000000000   |930259917 |\n",
      "|2017-11-24T19:00:00.000Z|1734117022|847200066  |Wal-Mart  ppd id: 555914     Algiers    11-26|1737.260000000000000000|1646415505|\n",
      "|2017-11-24T19:00:00.000Z|1734117030|1953761884 |Home Depot     ppd id: 265293   11-25        |384.500000000000000000 |287177635 |\n",
      "|2017-11-24T19:00:00.000Z|1734117089|1898522855 |Target        11-25                          |66.330000000000000000  |1855530529|\n",
      "|2017-11-24T19:00:00.000Z|1734117117|997626433  |Sears  ppd id: 856095  Ashgabat              |298.870000000000000000 |957346984 |\n",
      "|2017-11-24T19:00:00.000Z|1734117123|1953761884 |unkn   ppd id: 153174    Little Rock    11-25|19.550000000000000000  |45522086  |\n",
      "|2017-11-24T19:00:00.000Z|1734117152|1429095612 |Ikea     arc id: 527956  Saint John's   11-26|9.390000000000000000   |1268541279|\n",
      "|2017-11-24T19:00:00.000Z|1734117153|847200066  |unkn        Kingstown                        |2907.570000000000000000|1483931123|\n",
      "|2017-11-24T19:00:00.000Z|1734117212|1996661856 |unkn    ppd id: 454437   11-24               |140.380000000000000000 |336763936 |\n",
      "+------------------------+----------+-----------+---------------------------------------------+-----------------------+----------+\n",
      "only showing top 10 rows\n",
      "\n"
     ]
    }
   ],
   "source": [
    "# Lets read our Sales dataset\n",
    "\n",
    "df_sales = spark.read.parquet(\"dataset/sales.parquet/*parquet\")\n",
    "df_sales.printSchema()\n",
    "df_sales.show(10, False)"
   ]
  },
  {
   "cell_type": "code",
   "execution_count": 49,
   "id": "a66317b3-c1ff-4e83-bc66-8a79de9984d9",
   "metadata": {},
   "outputs": [],
   "source": [
    "# Lets create a sales managed delta table\n",
    "from pyspark.sql.functions import to_timestamp, expr\n",
    "\n",
    "df_formatted = (\n",
    "    df_sales\n",
    "    .withColumn(\"transacted_at\", to_timestamp(\"transacted_at\"))\n",
    "    .withColumn(\"amount\", expr(\"CAST(amount as decimal(14,2))\"))\n",
    "               )\n",
    "    \n",
    "df_formatted.write \\\n",
    "    .format(\"delta\") \\\n",
    "    .saveAsTable(\"sales_delta_managed\")"
   ]
  },
  {
   "cell_type": "code",
   "execution_count": 50,
   "id": "6c422f98-3008-4d47-ae04-913cd3ddd291",
   "metadata": {},
   "outputs": [
    {
     "data": {
      "text/html": [
       "<table><tr style=\"border-bottom: 1px solid\"><td style=\"font-weight: bold\">col_name</td><td style=\"font-weight: bold\">data_type</td><td style=\"font-weight: bold\">comment</td></tr><tr><td>transacted_at</td><td>timestamp</td><td></td></tr><tr><td>trx_id</td><td>string</td><td></td></tr><tr><td>retailer_id</td><td>string</td><td></td></tr><tr><td>description</td><td>string</td><td></td></tr><tr><td>amount</td><td>decimal(14,2)</td><td></td></tr><tr><td>city_id</td><td>string</td><td></td></tr><tr><td></td><td></td><td></td></tr><tr><td># Partitioning</td><td></td><td></td></tr><tr><td>Not partitioned</td><td></td><td></td></tr><tr><td></td><td></td><td></td></tr><tr><td># Detailed Table Information</td><td></td><td></td></tr><tr><td>Name</td><td>default.sales_delta_managed</td><td></td></tr><tr><td>Location</td><td>file:/home/jovyan/EaseWithApacheSpark/ease-with-apache-spark/spark-warehouse/sales_delta_managed</td><td></td></tr><tr><td>Provider</td><td>delta</td><td></td></tr><tr><td>Owner</td><td>jovyan</td><td></td></tr><tr><td>Table Properties</td><td>[delta.minReaderVersion=1,delta.minWriterVersion=2]</td><td></td></tr></table>"
      ],
      "text/plain": [
       "<IPython.core.display.HTML object>"
      ]
     },
     "execution_count": 50,
     "metadata": {},
     "output_type": "execute_result"
    }
   ],
   "source": [
    "%%sparksql\n",
    "\n",
    "describe extended default.sales_delta_managed;"
   ]
  },
  {
   "cell_type": "code",
   "execution_count": 51,
   "id": "46118655-c5f5-43de-81e6-20de864e5812",
   "metadata": {},
   "outputs": [
    {
     "data": {
      "text/html": [
       "<table><tr style=\"border-bottom: 1px solid\"><td style=\"font-weight: bold\">transacted_at</td><td style=\"font-weight: bold\">trx_id</td><td style=\"font-weight: bold\">retailer_id</td><td style=\"font-weight: bold\">description</td><td style=\"font-weight: bold\">amount</td><td style=\"font-weight: bold\">city_id</td></tr><tr><td>2017-11-24 19:00:00</td><td>1995601912</td><td>2077350195</td><td>Walgreen       11-25</td><td>197.23</td><td>216510442</td></tr><tr><td>2017-11-24 19:00:00</td><td>1734117021</td><td>644879053</td><td>unkn    ppd id: 768641     11-26</td><td>8.58</td><td>930259917</td></tr><tr><td>2017-11-24 19:00:00</td><td>1734117022</td><td>847200066</td><td>Wal-Mart  ppd id: 555914     Algiers    11-26</td><td>1737.26</td><td>1646415505</td></tr><tr><td>2017-11-24 19:00:00</td><td>1734117030</td><td>1953761884</td><td>Home Depot     ppd id: 265293   11-25</td><td>384.50</td><td>287177635</td></tr><tr><td>2017-11-24 19:00:00</td><td>1734117089</td><td>1898522855</td><td>Target        11-25</td><td>66.33</td><td>1855530529</td></tr><tr><td>2017-11-24 19:00:00</td><td>1734117117</td><td>997626433</td><td>Sears  ppd id: 856095  Ashgabat</td><td>298.87</td><td>957346984</td></tr><tr><td>2017-11-24 19:00:00</td><td>1734117123</td><td>1953761884</td><td>unkn   ppd id: 153174    Little Rock    11-25</td><td>19.55</td><td>45522086</td></tr><tr><td>2017-11-24 19:00:00</td><td>1734117152</td><td>1429095612</td><td>Ikea     arc id: 527956  Saint John&#x27;s   11-26</td><td>9.39</td><td>1268541279</td></tr><tr><td>2017-11-24 19:00:00</td><td>1734117153</td><td>847200066</td><td>unkn        Kingstown</td><td>2907.57</td><td>1483931123</td></tr><tr><td>2017-11-24 19:00:00</td><td>1734117212</td><td>1996661856</td><td>unkn    ppd id: 454437   11-24</td><td>140.38</td><td>336763936</td></tr></table>"
      ],
      "text/plain": [
       "<IPython.core.display.HTML object>"
      ]
     },
     "execution_count": 51,
     "metadata": {},
     "output_type": "execute_result"
    }
   ],
   "source": [
    "%%sparksql\n",
    "\n",
    "select * from default.sales_delta_managed limit 10;"
   ]
  },
  {
   "cell_type": "code",
   "execution_count": 52,
   "id": "4299098d-2b37-40b2-bba1-a803adb67af3",
   "metadata": {},
   "outputs": [
    {
     "name": "stdout",
     "output_type": "stream",
     "text": [
      "+-------+-----------------------+\n",
      "|version|timestamp              |\n",
      "+-------+-----------------------+\n",
      "|0      |2022-11-14 10:32:59.751|\n",
      "+-------+-----------------------+\n",
      "\n"
     ]
    }
   ],
   "source": [
    "# Lets check the current version of the table\n",
    "\n",
    "from delta import DeltaTable\n",
    "\n",
    "dt = DeltaTable.forName(spark, \"sales_delta_managed\")\n",
    "dt.history().select(\"version\", \"timestamp\").show(truncate=False)"
   ]
  },
  {
   "cell_type": "code",
   "execution_count": 53,
   "id": "06a299b6-386e-4130-b4ad-8568d7cb0c8f",
   "metadata": {},
   "outputs": [
    {
     "data": {
      "text/html": [
       "<table><tr style=\"border-bottom: 1px solid\"><td style=\"font-weight: bold\">num_affected_rows</td></tr><tr><td>1</td></tr></table>"
      ],
      "text/plain": [
       "<IPython.core.display.HTML object>"
      ]
     },
     "execution_count": 53,
     "metadata": {},
     "output_type": "execute_result"
    }
   ],
   "source": [
    "%%sparksql\n",
    "\n",
    "update default.sales_delta_managed set amount = 450.56 where trx_id = '1995601912';"
   ]
  },
  {
   "cell_type": "code",
   "execution_count": 54,
   "id": "b84151c2-9040-4888-8b47-d3e4b5cecd1f",
   "metadata": {},
   "outputs": [
    {
     "name": "stdout",
     "output_type": "stream",
     "text": [
      "+-------+-----------------------+\n",
      "|version|timestamp              |\n",
      "+-------+-----------------------+\n",
      "|1      |2022-11-14 10:33:34.513|\n",
      "|0      |2022-11-14 10:32:59.751|\n",
      "+-------+-----------------------+\n",
      "\n"
     ]
    }
   ],
   "source": [
    "# Lets check the current version of the table\n",
    "\n",
    "dt.history().select(\"version\", \"timestamp\").show(truncate=False)"
   ]
  },
  {
   "cell_type": "code",
   "execution_count": 55,
   "id": "304fd29b-e323-4b76-b819-b71480fa45d4",
   "metadata": {},
   "outputs": [
    {
     "data": {
      "text/html": [
       "<table><tr style=\"border-bottom: 1px solid\"><td style=\"font-weight: bold\">transacted_at</td><td style=\"font-weight: bold\">trx_id</td><td style=\"font-weight: bold\">retailer_id</td><td style=\"font-weight: bold\">description</td><td style=\"font-weight: bold\">amount</td><td style=\"font-weight: bold\">city_id</td></tr><tr><td>2017-11-24 19:00:00</td><td>1995601912</td><td>2077350195</td><td>Walgreen       11-25</td><td>450.56</td><td>216510442</td></tr><tr><td>2017-11-24 19:00:00</td><td>1734117021</td><td>644879053</td><td>unkn    ppd id: 768641     11-26</td><td>8.58</td><td>930259917</td></tr><tr><td>2017-11-24 19:00:00</td><td>1734117022</td><td>847200066</td><td>Wal-Mart  ppd id: 555914     Algiers    11-26</td><td>1737.26</td><td>1646415505</td></tr><tr><td>2017-11-24 19:00:00</td><td>1734117030</td><td>1953761884</td><td>Home Depot     ppd id: 265293   11-25</td><td>384.50</td><td>287177635</td></tr><tr><td>2017-11-24 19:00:00</td><td>1734117089</td><td>1898522855</td><td>Target        11-25</td><td>66.33</td><td>1855530529</td></tr><tr><td>2017-11-24 19:00:00</td><td>1734117117</td><td>997626433</td><td>Sears  ppd id: 856095  Ashgabat</td><td>298.87</td><td>957346984</td></tr><tr><td>2017-11-24 19:00:00</td><td>1734117123</td><td>1953761884</td><td>unkn   ppd id: 153174    Little Rock    11-25</td><td>19.55</td><td>45522086</td></tr><tr><td>2017-11-24 19:00:00</td><td>1734117152</td><td>1429095612</td><td>Ikea     arc id: 527956  Saint John&#x27;s   11-26</td><td>9.39</td><td>1268541279</td></tr><tr><td>2017-11-24 19:00:00</td><td>1734117153</td><td>847200066</td><td>unkn        Kingstown</td><td>2907.57</td><td>1483931123</td></tr><tr><td>2017-11-24 19:00:00</td><td>1734117212</td><td>1996661856</td><td>unkn    ppd id: 454437   11-24</td><td>140.38</td><td>336763936</td></tr></table>"
      ],
      "text/plain": [
       "<IPython.core.display.HTML object>"
      ]
     },
     "execution_count": 55,
     "metadata": {},
     "output_type": "execute_result"
    }
   ],
   "source": [
    "%%sparksql\n",
    "\n",
    "select * from default.sales_delta_managed limit 10;"
   ]
  },
  {
   "cell_type": "code",
   "execution_count": 56,
   "id": "8352c4ef-5c0d-472c-9199-a6a4b2a24a90",
   "metadata": {},
   "outputs": [
    {
     "name": "stdout",
     "output_type": "stream",
     "text": [
      "False\n",
      "True\n"
     ]
    }
   ],
   "source": [
    "# Verify if a given table is Delta\n",
    "\n",
    "print(DeltaTable.isDeltaTable(spark, \"spark-warehouse/sales_managed/\"))\n",
    "print(DeltaTable.isDeltaTable(spark, \"spark-warehouse/sales_delta_managed/\"))"
   ]
  },
  {
   "cell_type": "code",
   "execution_count": 58,
   "id": "44cda97d-832e-4195-8989-f3b1970fad79",
   "metadata": {},
   "outputs": [
    {
     "data": {
      "text/plain": [
       "<delta.tables.DeltaTable at 0x7fb3dc549810>"
      ]
     },
     "execution_count": 58,
     "metadata": {},
     "output_type": "execute_result"
    }
   ],
   "source": [
    "# Shortcut to create a Parquet location to delta table\n",
    "# We will convert the sales_managed table to delta\n",
    "\n",
    "DeltaTable.convertToDelta(spark, \"parquet.`spark-warehouse/sales_managed`\")"
   ]
  },
  {
   "cell_type": "code",
   "execution_count": 59,
   "id": "0f9d67f6-7fc9-4015-872d-1bd9ddbfa796",
   "metadata": {},
   "outputs": [
    {
     "name": "stdout",
     "output_type": "stream",
     "text": [
      "True\n",
      "True\n"
     ]
    }
   ],
   "source": [
    "# Verify if a given table is Delta\n",
    "\n",
    "print(DeltaTable.isDeltaTable(spark, \"spark-warehouse/sales_managed/\"))\n",
    "print(DeltaTable.isDeltaTable(spark, \"spark-warehouse/sales_delta_managed/\"))"
   ]
  },
  {
   "cell_type": "code",
   "execution_count": 63,
   "id": "086769df-27c1-4d1e-889f-635c3489836e",
   "metadata": {},
   "outputs": [
    {
     "name": "stdout",
     "output_type": "stream",
     "text": [
      "only showing top 20 row(s)\n"
     ]
    },
    {
     "data": {
      "text/html": [
       "<table><tr style=\"border-bottom: 1px solid\"><td style=\"font-weight: bold\">col_name</td><td style=\"font-weight: bold\">data_type</td><td style=\"font-weight: bold\">comment</td></tr><tr><td>transacted_at</td><td>string</td><td>null</td></tr><tr><td>trx_id</td><td>string</td><td>null</td></tr><tr><td>retailer_id</td><td>string</td><td>null</td></tr><tr><td>description</td><td>string</td><td>null</td></tr><tr><td>amount</td><td>string</td><td>null</td></tr><tr><td>city_id</td><td>string</td><td>null</td></tr><tr><td></td><td></td><td></td></tr><tr><td># Detailed Table Information</td><td></td><td></td></tr><tr><td>Database</td><td>default</td><td></td></tr><tr><td>Table</td><td>sales_managed</td><td></td></tr><tr><td>Owner</td><td>jovyan</td><td></td></tr><tr><td>Created Time</td><td>Thu Nov 10 13:52:58 UTC 2022</td><td></td></tr><tr><td>Last Access</td><td>UNKNOWN</td><td></td></tr><tr><td>Created By</td><td>Spark 3.3.0</td><td></td></tr><tr><td>Type</td><td>MANAGED</td><td></td></tr><tr><td>Provider</td><td>parquet</td><td></td></tr><tr><td>Statistics</td><td>123051140 bytes</td><td></td></tr><tr><td>Location</td><td>file:/home/jovyan/EaseWithApacheSpark/ease-with-apache-spark/spark-warehouse/sales_managed</td><td></td></tr><tr><td>Serde Library</td><td>org.apache.hadoop.hive.ql.io.parquet.serde.ParquetHiveSerDe</td><td></td></tr><tr><td>InputFormat</td><td>org.apache.hadoop.hive.ql.io.parquet.MapredParquetInputFormat</td><td></td></tr></table>"
      ],
      "text/plain": [
       "<IPython.core.display.HTML object>"
      ]
     },
     "execution_count": 63,
     "metadata": {},
     "output_type": "execute_result"
    }
   ],
   "source": [
    "%%sparksql\n",
    "\n",
    "describe extended default.sales_managed;"
   ]
  },
  {
   "cell_type": "code",
   "execution_count": 66,
   "id": "862a4bb5-ee1d-486b-8111-30db947764ee",
   "metadata": {},
   "outputs": [
    {
     "data": {
      "text/html": [
       "<table><tr style=\"border-bottom: 1px solid\"></tr></table>"
      ],
      "text/plain": [
       "<IPython.core.display.HTML object>"
      ]
     },
     "execution_count": 66,
     "metadata": {},
     "output_type": "execute_result"
    }
   ],
   "source": [
    "%%sparksql\n",
    "\n",
    "CONVERT TO DELTA default.sales_managed;"
   ]
  },
  {
   "cell_type": "code",
   "execution_count": 67,
   "id": "465ae294-3d2f-4626-9097-f3591fb7781b",
   "metadata": {},
   "outputs": [
    {
     "data": {
      "text/html": [
       "<table><tr style=\"border-bottom: 1px solid\"><td style=\"font-weight: bold\">col_name</td><td style=\"font-weight: bold\">data_type</td><td style=\"font-weight: bold\">comment</td></tr><tr><td>transacted_at</td><td>string</td><td></td></tr><tr><td>trx_id</td><td>string</td><td></td></tr><tr><td>retailer_id</td><td>string</td><td></td></tr><tr><td>description</td><td>string</td><td></td></tr><tr><td>amount</td><td>string</td><td></td></tr><tr><td>city_id</td><td>string</td><td></td></tr><tr><td></td><td></td><td></td></tr><tr><td># Partitioning</td><td></td><td></td></tr><tr><td>Not partitioned</td><td></td><td></td></tr><tr><td></td><td></td><td></td></tr><tr><td># Detailed Table Information</td><td></td><td></td></tr><tr><td>Name</td><td>default.sales_managed</td><td></td></tr><tr><td>Location</td><td>file:/home/jovyan/EaseWithApacheSpark/ease-with-apache-spark/spark-warehouse/sales_managed</td><td></td></tr><tr><td>Provider</td><td>delta</td><td></td></tr><tr><td>Owner</td><td>jovyan</td><td></td></tr><tr><td>Table Properties</td><td>[delta.minReaderVersion=1,delta.minWriterVersion=2]</td><td></td></tr></table>"
      ],
      "text/plain": [
       "<IPython.core.display.HTML object>"
      ]
     },
     "execution_count": 67,
     "metadata": {},
     "output_type": "execute_result"
    }
   ],
   "source": [
    "%%sparksql\n",
    "\n",
    "describe extended default.sales_managed;"
   ]
  },
  {
   "cell_type": "code",
   "execution_count": null,
   "id": "1ebae3e4-5e9d-4793-a588-caa387916cdb",
   "metadata": {},
   "outputs": [],
   "source": []
  }
 ],
 "metadata": {
  "kernelspec": {
   "display_name": "Python 3 (ipykernel)",
   "language": "python",
   "name": "python3"
  },
  "language_info": {
   "codemirror_mode": {
    "name": "ipython",
    "version": 3
   },
   "file_extension": ".py",
   "mimetype": "text/x-python",
   "name": "python",
   "nbconvert_exporter": "python",
   "pygments_lexer": "ipython3",
   "version": "3.10.6"
  }
 },
 "nbformat": 4,
 "nbformat_minor": 5
}
