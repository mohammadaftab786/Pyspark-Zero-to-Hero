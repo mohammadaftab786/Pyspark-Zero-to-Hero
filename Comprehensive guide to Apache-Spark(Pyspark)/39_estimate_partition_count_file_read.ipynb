{
 "cells": [
  {
   "cell_type": "markdown",
   "id": "829809d3-6b2a-4115-84e1-67b79131bc2e",
   "metadata": {},
   "source": [
    "### Estimate Partition Count for File Read"
   ]
  },
  {
   "cell_type": "code",
   "execution_count": 57,
   "id": "7dc5ca1c-36e7-4ca7-9558-21b02692c04a",
   "metadata": {},
   "outputs": [
    {
     "data": {
      "text/html": [
       "\n",
       "            <div>\n",
       "                <p><b>SparkSession - in-memory</b></p>\n",
       "                \n",
       "        <div>\n",
       "            <p><b>SparkContext</b></p>\n",
       "\n",
       "            <p><a href=\"http://eccf28b1656f:4041\">Spark UI</a></p>\n",
       "\n",
       "            <dl>\n",
       "              <dt>Version</dt>\n",
       "                <dd><code>v3.3.0</code></dd>\n",
       "              <dt>Master</dt>\n",
       "                <dd><code>local[*]</code></dd>\n",
       "              <dt>AppName</dt>\n",
       "                <dd><code>Estimate Partition Count</code></dd>\n",
       "            </dl>\n",
       "        </div>\n",
       "        \n",
       "            </div>\n",
       "        "
      ],
      "text/plain": [
       "<pyspark.sql.session.SparkSession at 0x7fad50742d40>"
      ]
     },
     "execution_count": 57,
     "metadata": {},
     "output_type": "execute_result"
    }
   ],
   "source": [
    "# Create Spark Session\n",
    "\n",
    "from pyspark.sql import SparkSession\n",
    "\n",
    "spark = SparkSession \\\n",
    "    .builder \\\n",
    "    .appName(\"Estimate Partition Count\") \\\n",
    "    .master(\"local[*]\") \\\n",
    "    .getOrCreate()\n",
    "\n",
    "spark"
   ]
  },
  {
   "cell_type": "code",
   "execution_count": 58,
   "id": "982b7f9c-22a7-4d6d-a0a0-2489a470ca2a",
   "metadata": {},
   "outputs": [
    {
     "name": "stdout",
     "output_type": "stream",
     "text": [
      "Partition Size: 134217728 in bytes and 128.0 in MB\n",
      "Open Cost Size: 4194304 in bytes and 4.0 in MB\n",
      "Default Parallelism: 8\n"
     ]
    }
   ],
   "source": [
    "# Check the default partition size\n",
    "partition_size = int(spark.conf.get(\"spark.sql.files.maxPartitionBytes\").replace(\"b\",\"\"))\n",
    "print(f\"Partition Size: {partition_size} in bytes and {int(partition_size) / 1024 / 1024} in MB\")\n",
    "\n",
    "# Check the default open Cost in Bytes\n",
    "open_cost_size = int(spark.conf.get(\"spark.sql.files.openCostInBytes\").replace(\"b\",\"\"))\n",
    "print(f\"Open Cost Size: {open_cost_size} in bytes and {int(open_cost_size) / 1024 / 1024} in MB\")\n",
    "\n",
    "# Default parallelism\n",
    "parallelism = int(spark.sparkContext.defaultParallelism)\n",
    "print(f\"Default Parallelism: {parallelism}\")"
   ]
  },
  {
   "cell_type": "code",
   "execution_count": 59,
   "id": "0e30bd8a-9fb7-4e93-b64f-45c87ad84a33",
   "metadata": {},
   "outputs": [
    {
     "name": "stdout",
     "output_type": "stream",
     "text": [
      "Total File size on disk: 2647733632 in bytes and 2525.0755615234375 in MB\n"
     ]
    }
   ],
   "source": [
    "# File size in Bytes\n",
    "average_file_size = 2647733632\n",
    "total_files = 1\n",
    "\n",
    "# Total Actual File Size in Bytes\n",
    "total_file_size = average_file_size * total_files\n",
    "print(f\"Total File size on disk: {total_file_size} in bytes and {total_file_size / 1024 /1024} in MB\")"
   ]
  },
  {
   "cell_type": "code",
   "execution_count": 60,
   "id": "8a2d48f4-15db-4afc-ba58-4b80697c2ec7",
   "metadata": {},
   "outputs": [
    {
     "name": "stdout",
     "output_type": "stream",
     "text": [
      "Total padded file size: 2651927936 in bytes and 2529.0755615234375 in MB\n"
     ]
    }
   ],
   "source": [
    "# Padded file size for Spark read\n",
    "padded_file_size = total_file_size + (total_files * open_cost_size)\n",
    "print(f\"Total padded file size: {padded_file_size} in bytes and {padded_file_size / 1024 /1024} in MB\")"
   ]
  },
  {
   "cell_type": "code",
   "execution_count": 61,
   "id": "ccac2ab4-3584-4511-81d9-db0d8a08524b",
   "metadata": {},
   "outputs": [
    {
     "name": "stdout",
     "output_type": "stream",
     "text": [
      "Bytes per Core: 331490992.0 in bytes and 316.1344451904297 in MB\n"
     ]
    }
   ],
   "source": [
    "# Number of Bytes per Core\n",
    "bytes_per_core = padded_file_size / parallelism\n",
    "print(f\"Bytes per Core: {bytes_per_core} in bytes and {bytes_per_core / 1024 /1024} in MB\")"
   ]
  },
  {
   "cell_type": "code",
   "execution_count": 62,
   "id": "591018f1-f748-4a08-8834-a53ee2d0661f",
   "metadata": {},
   "outputs": [
    {
     "name": "stdout",
     "output_type": "stream",
     "text": [
      "Max bytes per Partition: 134217728 in bytes and 128.0 in MB\n"
     ]
    }
   ],
   "source": [
    "# Max Split Bytes\n",
    "max_bytes_per_split = min(partition_size, max(open_cost_size, bytes_per_core))\n",
    "print(f\"Max bytes per Partition: {max_bytes_per_split} in bytes and {max_bytes_per_split / 1024 /1024} in MB\")"
   ]
  },
  {
   "cell_type": "code",
   "execution_count": 63,
   "id": "8ab1c5f1-6579-48fe-affa-bfd0cbe890f9",
   "metadata": {},
   "outputs": [
    {
     "name": "stdout",
     "output_type": "stream",
     "text": [
      "Approx number of partitions: 19.758402824401855\n"
     ]
    }
   ],
   "source": [
    "# Total number of Partitions\n",
    "num_of_partitions = padded_file_size / max_bytes_per_split\n",
    "print(f\"Approx number of partitions: {num_of_partitions}\")"
   ]
  },
  {
   "cell_type": "code",
   "execution_count": 64,
   "id": "f1abfc54-5618-429c-88e1-9e441f1bc709",
   "metadata": {},
   "outputs": [
    {
     "name": "stdout",
     "output_type": "stream",
     "text": [
      "Number of Partition -> 20\n"
     ]
    }
   ],
   "source": [
    "# Read the file to see the number of partitons\n",
    "df_1 = spark.read.format(\"csv\").option(\"header\", True).load(\"dataset/sales_combined_2.csv\")\n",
    "print(f\"Number of Partition -> {df_1.rdd.getNumPartitions()}\")"
   ]
  },
  {
   "cell_type": "code",
   "execution_count": 51,
   "id": "3d15733e-ef65-4a0b-b66e-287438af650e",
   "metadata": {},
   "outputs": [],
   "source": [
    "# Lets pack all code in single function\n",
    "def num_partitions(file_size, num_of_files, spark):\n",
    "    # Check the default partition size\n",
    "    partition_size = int(spark.conf.get(\"spark.sql.files.maxPartitionBytes\").replace(\"b\",\"\"))\n",
    "    # Check the default open Cost in Bytes\n",
    "    open_cost_size = int(spark.conf.get(\"spark.sql.files.openCostInBytes\").replace(\"b\",\"\"))\n",
    "    # Default parallelism\n",
    "    parallelism = int(spark.sparkContext.defaultParallelism)\n",
    "    # Total Actual File Size in Bytes\n",
    "    total_file_size = file_size * num_of_files\n",
    "    # Padded file size for Spark read\n",
    "    padded_file_size = total_file_size + (num_of_files * open_cost_size)\n",
    "    # Number of Bytes per Core\n",
    "    bytes_per_core = padded_file_size / parallelism\n",
    "    # Max Split Bytes\n",
    "    max_bytes_per_split = min(partition_size, max(open_cost_size, bytes_per_core))\n",
    "    # Total number of Partitions\n",
    "    num_of_partitions = padded_file_size / max_bytes_per_split\n",
    "    \n",
    "    return num_of_partitions"
   ]
  },
  {
   "cell_type": "code",
   "execution_count": 52,
   "id": "6fb6b585-1626-4751-89d4-fa9519d60ecb",
   "metadata": {},
   "outputs": [
    {
     "name": "stdout",
     "output_type": "stream",
     "text": [
      "Estimated number of partitions = 19.758402824401855\n",
      "Number of Partition -> 20\n"
     ]
    }
   ],
   "source": [
    "# Validation 1\n",
    "# Calculate the number of partitions as per our logic\n",
    "estimated_num_partition = num_partitions(2647733632, 1, spark)\n",
    "print(f\"Estimated number of partitions = {estimated_num_partition}\")\n",
    "\n",
    "# Lets read a single csv file with approx size 2647733632 bytes or 2.5 GB\n",
    "df_1 = spark.read.format(\"csv\").option(\"header\", True).load(\"dataset/sales_combined_2.csv\")\n",
    "print(f\"Number of Partition -> {df_1.rdd.getNumPartitions()}\")\n"
   ]
  },
  {
   "cell_type": "code",
   "execution_count": 53,
   "id": "59c4c7d4-e6ec-4d6e-bea3-41daa812a819",
   "metadata": {},
   "outputs": [
    {
     "name": "stdout",
     "output_type": "stream",
     "text": [
      "Estimated number of partitions = 1293.018052726984\n",
      "Number of Partition -> 1292\n"
     ]
    }
   ],
   "source": [
    "# Validation 2\n",
    "# Calculate the number of partitions as per our logic for tiny files\n",
    "estimated_num_partition = num_partitions(7777, 41300, spark)\n",
    "print(f\"Estimated number of partitions = {estimated_num_partition}\")\n",
    "\n",
    "# Lets read multiple parquet file with approx size 7777 bytes or 7.7 KB\n",
    "df_2 = spark.read.format(\"parquet\").load(\"dataset/sales_trx_id.parquet/\")\n",
    "print(f\"Number of Partition -> {df_2.rdd.getNumPartitions()}\")"
   ]
  },
  {
   "cell_type": "code",
   "execution_count": 54,
   "id": "7534da41-afa2-4a40-b86a-9cc05c4d3a79",
   "metadata": {},
   "outputs": [
    {
     "name": "stdout",
     "output_type": "stream",
     "text": [
      "Estimated number of partitions = 8.77503752708435\n",
      "Number of Partition -> 8\n"
     ]
    }
   ],
   "source": [
    "# Validation 3\n",
    "# Calculate the number of partitions as per our logic for avg files\n",
    "estimated_num_partition = num_partitions(1159176, 220, spark)\n",
    "print(f\"Estimated number of partitions = {estimated_num_partition}\")\n",
    "\n",
    "# Lets read multiple parquet file with approx size 1159176 bytes or 1.1 MB\n",
    "df_3 = spark.read.format(\"parquet\").load(\"dataset/sales_city_id.parquet/\")\n",
    "print(f\"Number of Partition -> {df_3.rdd.getNumPartitions()}\")"
   ]
  },
  {
   "cell_type": "code",
   "execution_count": 55,
   "id": "b1bc77a7-11ef-410b-8a2e-8244023bbac1",
   "metadata": {},
   "outputs": [],
   "source": [
    "spark.stop()"
   ]
  },
  {
   "cell_type": "code",
   "execution_count": null,
   "id": "1fcf32c7-0963-4d25-b1ba-afb5b922031d",
   "metadata": {},
   "outputs": [],
   "source": []
  }
 ],
 "metadata": {
  "kernelspec": {
   "display_name": "Python 3 (ipykernel)",
   "language": "python",
   "name": "python3"
  },
  "language_info": {
   "codemirror_mode": {
    "name": "ipython",
    "version": 3
   },
   "file_extension": ".py",
   "mimetype": "text/x-python",
   "name": "python",
   "nbconvert_exporter": "python",
   "pygments_lexer": "ipython3",
   "version": "3.10.6"
  }
 },
 "nbformat": 4,
 "nbformat_minor": 5
}
