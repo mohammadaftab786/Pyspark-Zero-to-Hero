{
 "cells": [
  {
   "cell_type": "markdown",
   "id": "7e2d7f9b-a26d-4015-a246-1b5d1cacc176",
   "metadata": {},
   "source": [
    "## Delta table Column Mapping"
   ]
  },
  {
   "cell_type": "code",
   "execution_count": 1,
   "id": "8f92b86c-7dfb-45f7-ac61-f211a4f92dbf",
   "metadata": {},
   "outputs": [
    {
     "data": {
      "text/html": [
       "\n",
       "            <div>\n",
       "                <p><b>SparkSession - hive</b></p>\n",
       "                \n",
       "        <div>\n",
       "            <p><b>SparkContext</b></p>\n",
       "\n",
       "            <p><a href=\"http://eccf28b1656f:4040\">Spark UI</a></p>\n",
       "\n",
       "            <dl>\n",
       "              <dt>Version</dt>\n",
       "                <dd><code>v3.3.0</code></dd>\n",
       "              <dt>Master</dt>\n",
       "                <dd><code>local[*]</code></dd>\n",
       "              <dt>AppName</dt>\n",
       "                <dd><code>Delta table with Column Mapping</code></dd>\n",
       "            </dl>\n",
       "        </div>\n",
       "        \n",
       "            </div>\n",
       "        "
      ],
      "text/plain": [
       "<pyspark.sql.session.SparkSession at 0x7f8891b93430>"
      ]
     },
     "execution_count": 1,
     "metadata": {},
     "output_type": "execute_result"
    }
   ],
   "source": [
    "# Create Spark Session with Delta JARS and conf\n",
    "\n",
    "from pyspark.sql import SparkSession\n",
    "\n",
    "spark = SparkSession \\\n",
    "    .builder \\\n",
    "    .appName(\"Delta table with Column Mapping\") \\\n",
    "    .config('spark.jars.packages', 'io.delta:delta-core_2.12:2.1.1') \\\n",
    "    .config(\"spark.sql.extensions\", \"io.delta.sql.DeltaSparkSessionExtension\") \\\n",
    "    .config(\n",
    "        \"spark.sql.catalog.spark_catalog\",\n",
    "        \"org.apache.spark.sql.delta.catalog.DeltaCatalog\",\n",
    "    ) \\\n",
    "    .config(\"spark.sql.warehouse.dir\", \"spark-warehouse\") \\\n",
    "    .master(\"local[*]\") \\\n",
    "    .enableHiveSupport() \\\n",
    "    .getOrCreate()\n",
    "\n",
    "spark"
   ]
  },
  {
   "cell_type": "code",
   "execution_count": 2,
   "id": "05b5394e-a86f-484e-940b-14a0fb560fd1",
   "metadata": {},
   "outputs": [],
   "source": [
    "# pip install sparksql-magic\n",
    "# Run below command to enable sparksql\n",
    "%load_ext sparksql_magic"
   ]
  },
  {
   "cell_type": "code",
   "execution_count": 97,
   "id": "e66368b8-c7c7-4b9c-bef9-8b9217f42b11",
   "metadata": {},
   "outputs": [
    {
     "data": {
      "text/html": [
       "<table><tr style=\"border-bottom: 1px solid\"></tr></table>"
      ],
      "text/plain": [
       "<IPython.core.display.HTML object>"
      ]
     },
     "execution_count": 97,
     "metadata": {},
     "output_type": "execute_result"
    }
   ],
   "source": [
    "%%sparksql\n",
    "\n",
    "create table sales_delta_mapping\n",
    "using delta\n",
    "as\n",
    "select * from sales_managed;"
   ]
  },
  {
   "cell_type": "code",
   "execution_count": 98,
   "id": "56eed6d3-5f68-4fab-9195-6c4987d7df34",
   "metadata": {},
   "outputs": [
    {
     "data": {
      "text/html": [
       "<table><tr style=\"border-bottom: 1px solid\"><td style=\"font-weight: bold\">col_name</td><td style=\"font-weight: bold\">data_type</td><td style=\"font-weight: bold\">comment</td></tr><tr><td>transacted_at</td><td>string</td><td></td></tr><tr><td>trx_id</td><td>string</td><td></td></tr><tr><td>retailer_id</td><td>string</td><td></td></tr><tr><td>description</td><td>string</td><td></td></tr><tr><td>amount</td><td>string</td><td></td></tr><tr><td>city_id</td><td>string</td><td></td></tr><tr><td></td><td></td><td></td></tr><tr><td># Partitioning</td><td></td><td></td></tr><tr><td>Not partitioned</td><td></td><td></td></tr></table>"
      ],
      "text/plain": [
       "<IPython.core.display.HTML object>"
      ]
     },
     "execution_count": 98,
     "metadata": {},
     "output_type": "execute_result"
    }
   ],
   "source": [
    "%%sparksql\n",
    "\n",
    "describe sales_delta_mapping"
   ]
  },
  {
   "cell_type": "code",
   "execution_count": 12,
   "id": "ee2bfc4d-9878-4cb5-9c01-bafc59c0f8c3",
   "metadata": {},
   "outputs": [
    {
     "ename": "AnalysisException",
     "evalue": "Column rename is not supported for your Delta table. \nPlease upgrade your Delta table to reader version 2 and writer version 5\nand change the column mapping mode to 'name' mapping. You can use the following command:\n\nALTER TABLE <table_name> SET TBLPROPERTIES (\n   'delta.columnMapping.mode' = 'name',\n   'delta.minReaderVersion' = '2',\n   'delta.minWriterVersion' = '5')\n",
     "output_type": "error",
     "traceback": [
      "\u001b[0;31m---------------------------------------------------------------------------\u001b[0m",
      "\u001b[0;31mAnalysisException\u001b[0m                         Traceback (most recent call last)",
      "Cell \u001b[0;32mIn [12], line 1\u001b[0m\n\u001b[0;32m----> 1\u001b[0m \u001b[43mget_ipython\u001b[49m\u001b[43m(\u001b[49m\u001b[43m)\u001b[49m\u001b[38;5;241;43m.\u001b[39;49m\u001b[43mrun_cell_magic\u001b[49m\u001b[43m(\u001b[49m\u001b[38;5;124;43m'\u001b[39;49m\u001b[38;5;124;43msparksql\u001b[39;49m\u001b[38;5;124;43m'\u001b[39;49m\u001b[43m,\u001b[49m\u001b[43m \u001b[49m\u001b[38;5;124;43m'\u001b[39;49m\u001b[38;5;124;43m'\u001b[39;49m\u001b[43m,\u001b[49m\u001b[43m \u001b[49m\u001b[38;5;124;43m'\u001b[39;49m\u001b[38;5;130;43;01m\\n\u001b[39;49;00m\u001b[38;5;124;43malter table sales_delta_mapping rename column amount to total_amount;\u001b[39;49m\u001b[38;5;130;43;01m\\n\u001b[39;49;00m\u001b[38;5;124;43m'\u001b[39;49m\u001b[43m)\u001b[49m\n",
      "File \u001b[0;32m/opt/conda/lib/python3.10/site-packages/IPython/core/interactiveshell.py:2362\u001b[0m, in \u001b[0;36mInteractiveShell.run_cell_magic\u001b[0;34m(self, magic_name, line, cell)\u001b[0m\n\u001b[1;32m   2360\u001b[0m \u001b[38;5;28;01mwith\u001b[39;00m \u001b[38;5;28mself\u001b[39m\u001b[38;5;241m.\u001b[39mbuiltin_trap:\n\u001b[1;32m   2361\u001b[0m     args \u001b[38;5;241m=\u001b[39m (magic_arg_s, cell)\n\u001b[0;32m-> 2362\u001b[0m     result \u001b[38;5;241m=\u001b[39m \u001b[43mfn\u001b[49m\u001b[43m(\u001b[49m\u001b[38;5;241;43m*\u001b[39;49m\u001b[43margs\u001b[49m\u001b[43m,\u001b[49m\u001b[43m \u001b[49m\u001b[38;5;241;43m*\u001b[39;49m\u001b[38;5;241;43m*\u001b[39;49m\u001b[43mkwargs\u001b[49m\u001b[43m)\u001b[49m\n\u001b[1;32m   2363\u001b[0m \u001b[38;5;28;01mreturn\u001b[39;00m result\n",
      "File \u001b[0;32m/opt/conda/lib/python3.10/site-packages/sparksql_magic/sparksql.py:40\u001b[0m, in \u001b[0;36mSparkSql.sparksql\u001b[0;34m(self, line, cell, local_ns)\u001b[0m\n\u001b[1;32m     37\u001b[0m     \u001b[38;5;28mprint\u001b[39m(\u001b[38;5;124m\"\u001b[39m\u001b[38;5;124mactive spark session is not found\u001b[39m\u001b[38;5;124m\"\u001b[39m)\n\u001b[1;32m     38\u001b[0m     \u001b[38;5;28;01mreturn\u001b[39;00m\n\u001b[0;32m---> 40\u001b[0m df \u001b[38;5;241m=\u001b[39m \u001b[43mspark\u001b[49m\u001b[38;5;241;43m.\u001b[39;49m\u001b[43msql\u001b[49m\u001b[43m(\u001b[49m\u001b[43mbind_variables\u001b[49m\u001b[43m(\u001b[49m\u001b[43mcell\u001b[49m\u001b[43m,\u001b[49m\u001b[43m \u001b[49m\u001b[43muser_ns\u001b[49m\u001b[43m)\u001b[49m\u001b[43m)\u001b[49m\n\u001b[1;32m     41\u001b[0m \u001b[38;5;28;01mif\u001b[39;00m args\u001b[38;5;241m.\u001b[39mcache \u001b[38;5;129;01mor\u001b[39;00m args\u001b[38;5;241m.\u001b[39meager:\n\u001b[1;32m     42\u001b[0m     \u001b[38;5;28mprint\u001b[39m(\u001b[38;5;124m'\u001b[39m\u001b[38;5;124mcache dataframe with \u001b[39m\u001b[38;5;132;01m%s\u001b[39;00m\u001b[38;5;124m load\u001b[39m\u001b[38;5;124m'\u001b[39m \u001b[38;5;241m%\u001b[39m (\u001b[38;5;124m'\u001b[39m\u001b[38;5;124meager\u001b[39m\u001b[38;5;124m'\u001b[39m \u001b[38;5;28;01mif\u001b[39;00m args\u001b[38;5;241m.\u001b[39meager \u001b[38;5;28;01melse\u001b[39;00m \u001b[38;5;124m'\u001b[39m\u001b[38;5;124mlazy\u001b[39m\u001b[38;5;124m'\u001b[39m))\n",
      "File \u001b[0;32m/usr/local/spark/python/pyspark/sql/session.py:1034\u001b[0m, in \u001b[0;36mSparkSession.sql\u001b[0;34m(self, sqlQuery, **kwargs)\u001b[0m\n\u001b[1;32m   1032\u001b[0m     sqlQuery \u001b[38;5;241m=\u001b[39m formatter\u001b[38;5;241m.\u001b[39mformat(sqlQuery, \u001b[38;5;241m*\u001b[39m\u001b[38;5;241m*\u001b[39mkwargs)\n\u001b[1;32m   1033\u001b[0m \u001b[38;5;28;01mtry\u001b[39;00m:\n\u001b[0;32m-> 1034\u001b[0m     \u001b[38;5;28;01mreturn\u001b[39;00m DataFrame(\u001b[38;5;28;43mself\u001b[39;49m\u001b[38;5;241;43m.\u001b[39;49m\u001b[43m_jsparkSession\u001b[49m\u001b[38;5;241;43m.\u001b[39;49m\u001b[43msql\u001b[49m\u001b[43m(\u001b[49m\u001b[43msqlQuery\u001b[49m\u001b[43m)\u001b[49m, \u001b[38;5;28mself\u001b[39m)\n\u001b[1;32m   1035\u001b[0m \u001b[38;5;28;01mfinally\u001b[39;00m:\n\u001b[1;32m   1036\u001b[0m     \u001b[38;5;28;01mif\u001b[39;00m \u001b[38;5;28mlen\u001b[39m(kwargs) \u001b[38;5;241m>\u001b[39m \u001b[38;5;241m0\u001b[39m:\n",
      "File \u001b[0;32m/usr/local/spark/python/lib/py4j-0.10.9.5-src.zip/py4j/java_gateway.py:1321\u001b[0m, in \u001b[0;36mJavaMember.__call__\u001b[0;34m(self, *args)\u001b[0m\n\u001b[1;32m   1315\u001b[0m command \u001b[38;5;241m=\u001b[39m proto\u001b[38;5;241m.\u001b[39mCALL_COMMAND_NAME \u001b[38;5;241m+\u001b[39m\\\n\u001b[1;32m   1316\u001b[0m     \u001b[38;5;28mself\u001b[39m\u001b[38;5;241m.\u001b[39mcommand_header \u001b[38;5;241m+\u001b[39m\\\n\u001b[1;32m   1317\u001b[0m     args_command \u001b[38;5;241m+\u001b[39m\\\n\u001b[1;32m   1318\u001b[0m     proto\u001b[38;5;241m.\u001b[39mEND_COMMAND_PART\n\u001b[1;32m   1320\u001b[0m answer \u001b[38;5;241m=\u001b[39m \u001b[38;5;28mself\u001b[39m\u001b[38;5;241m.\u001b[39mgateway_client\u001b[38;5;241m.\u001b[39msend_command(command)\n\u001b[0;32m-> 1321\u001b[0m return_value \u001b[38;5;241m=\u001b[39m \u001b[43mget_return_value\u001b[49m\u001b[43m(\u001b[49m\n\u001b[1;32m   1322\u001b[0m \u001b[43m    \u001b[49m\u001b[43manswer\u001b[49m\u001b[43m,\u001b[49m\u001b[43m \u001b[49m\u001b[38;5;28;43mself\u001b[39;49m\u001b[38;5;241;43m.\u001b[39;49m\u001b[43mgateway_client\u001b[49m\u001b[43m,\u001b[49m\u001b[43m \u001b[49m\u001b[38;5;28;43mself\u001b[39;49m\u001b[38;5;241;43m.\u001b[39;49m\u001b[43mtarget_id\u001b[49m\u001b[43m,\u001b[49m\u001b[43m \u001b[49m\u001b[38;5;28;43mself\u001b[39;49m\u001b[38;5;241;43m.\u001b[39;49m\u001b[43mname\u001b[49m\u001b[43m)\u001b[49m\n\u001b[1;32m   1324\u001b[0m \u001b[38;5;28;01mfor\u001b[39;00m temp_arg \u001b[38;5;129;01min\u001b[39;00m temp_args:\n\u001b[1;32m   1325\u001b[0m     temp_arg\u001b[38;5;241m.\u001b[39m_detach()\n",
      "File \u001b[0;32m/usr/local/spark/python/pyspark/sql/utils.py:196\u001b[0m, in \u001b[0;36mcapture_sql_exception.<locals>.deco\u001b[0;34m(*a, **kw)\u001b[0m\n\u001b[1;32m    192\u001b[0m converted \u001b[38;5;241m=\u001b[39m convert_exception(e\u001b[38;5;241m.\u001b[39mjava_exception)\n\u001b[1;32m    193\u001b[0m \u001b[38;5;28;01mif\u001b[39;00m \u001b[38;5;129;01mnot\u001b[39;00m \u001b[38;5;28misinstance\u001b[39m(converted, UnknownException):\n\u001b[1;32m    194\u001b[0m     \u001b[38;5;66;03m# Hide where the exception came from that shows a non-Pythonic\u001b[39;00m\n\u001b[1;32m    195\u001b[0m     \u001b[38;5;66;03m# JVM exception message.\u001b[39;00m\n\u001b[0;32m--> 196\u001b[0m     \u001b[38;5;28;01mraise\u001b[39;00m converted \u001b[38;5;28;01mfrom\u001b[39;00m \u001b[38;5;28mNone\u001b[39m\n\u001b[1;32m    197\u001b[0m \u001b[38;5;28;01melse\u001b[39;00m:\n\u001b[1;32m    198\u001b[0m     \u001b[38;5;28;01mraise\u001b[39;00m\n",
      "\u001b[0;31mAnalysisException\u001b[0m: Column rename is not supported for your Delta table. \nPlease upgrade your Delta table to reader version 2 and writer version 5\nand change the column mapping mode to 'name' mapping. You can use the following command:\n\nALTER TABLE <table_name> SET TBLPROPERTIES (\n   'delta.columnMapping.mode' = 'name',\n   'delta.minReaderVersion' = '2',\n   'delta.minWriterVersion' = '5')\n"
     ]
    }
   ],
   "source": [
    "%%sparksql\n",
    "\n",
    "alter table sales_delta_mapping rename column amount to total_amount;"
   ]
  },
  {
   "cell_type": "code",
   "execution_count": 73,
   "id": "88546177-535f-4298-9517-a4de4492a6b9",
   "metadata": {},
   "outputs": [
    {
     "data": {
      "text/html": [
       "<table><tr style=\"border-bottom: 1px solid\"></tr></table>"
      ],
      "text/plain": [
       "<IPython.core.display.HTML object>"
      ]
     },
     "execution_count": 73,
     "metadata": {},
     "output_type": "execute_result"
    }
   ],
   "source": [
    "%%sparksql\n",
    "\n",
    "ALTER TABLE sales_delta_mapping SET TBLPROPERTIES (\n",
    "   'delta.columnMapping.mode' = 'name',\n",
    "   'delta.minReaderVersion' = '2',\n",
    "   'delta.minWriterVersion' = '5')\n",
    ";"
   ]
  },
  {
   "cell_type": "code",
   "execution_count": 75,
   "id": "75e0cd00-f863-45f9-a47b-22d310c2db72",
   "metadata": {},
   "outputs": [
    {
     "data": {
      "text/html": [
       "<table><tr style=\"border-bottom: 1px solid\"></tr></table>"
      ],
      "text/plain": [
       "<IPython.core.display.HTML object>"
      ]
     },
     "execution_count": 75,
     "metadata": {},
     "output_type": "execute_result"
    }
   ],
   "source": [
    "%%sparksql\n",
    "\n",
    "alter table sales_delta_mapping rename column amount to total_amount;"
   ]
  },
  {
   "cell_type": "code",
   "execution_count": 84,
   "id": "b501bd8c-2e2b-4519-b550-a0c62f26d947",
   "metadata": {},
   "outputs": [
    {
     "data": {
      "text/html": [
       "<table><tr style=\"border-bottom: 1px solid\"><td style=\"font-weight: bold\">col_name</td><td style=\"font-weight: bold\">data_type</td><td style=\"font-weight: bold\">comment</td></tr><tr><td>transacted_at</td><td>string</td><td></td></tr><tr><td>trx_id</td><td>string</td><td></td></tr><tr><td>retailer_id</td><td>string</td><td></td></tr><tr><td>description</td><td>string</td><td></td></tr><tr><td>total_amount</td><td>string</td><td></td></tr><tr><td>city_id</td><td>string</td><td></td></tr><tr><td></td><td></td><td></td></tr><tr><td># Partitioning</td><td></td><td></td></tr><tr><td>Not partitioned</td><td></td><td></td></tr></table>"
      ],
      "text/plain": [
       "<IPython.core.display.HTML object>"
      ]
     },
     "execution_count": 84,
     "metadata": {},
     "output_type": "execute_result"
    }
   ],
   "source": [
    "%%sparksql\n",
    "\n",
    "describe sales_delta_mapping"
   ]
  },
  {
   "cell_type": "code",
   "execution_count": 99,
   "id": "edde280c-aa62-4d0c-8595-009683007d5e",
   "metadata": {},
   "outputs": [
    {
     "data": {
      "text/html": [
       "<table><tr style=\"border-bottom: 1px solid\"><td style=\"font-weight: bold\">transacted_at</td><td style=\"font-weight: bold\">trx_id</td><td style=\"font-weight: bold\">retailer_id</td><td style=\"font-weight: bold\">description</td><td style=\"font-weight: bold\">amount</td><td style=\"font-weight: bold\">city_id</td></tr><tr><td>2017-11-24T19:00:00.000Z</td><td>1995601912</td><td>2077350195</td><td>Walgreen       11-25</td><td>197.230000000000000000</td><td>216510442</td></tr><tr><td>2017-11-24T19:00:00.000Z</td><td>1734117021</td><td>644879053</td><td>unkn    ppd id: 768641     11-26</td><td>8.580000000000000000</td><td>930259917</td></tr><tr><td>2017-11-24T19:00:00.000Z</td><td>1734117022</td><td>847200066</td><td>Wal-Mart  ppd id: 555914     Algiers    11-26</td><td>1737.260000000000000000</td><td>1646415505</td></tr><tr><td>2017-11-24T19:00:00.000Z</td><td>1734117030</td><td>1953761884</td><td>Home Depot     ppd id: 265293   11-25</td><td>384.500000000000000000</td><td>287177635</td></tr><tr><td>2017-11-24T19:00:00.000Z</td><td>1734117089</td><td>1898522855</td><td>Target        11-25</td><td>66.330000000000000000</td><td>1855530529</td></tr><tr><td>2017-11-24T19:00:00.000Z</td><td>1734117117</td><td>997626433</td><td>Sears  ppd id: 856095  Ashgabat</td><td>298.870000000000000000</td><td>957346984</td></tr><tr><td>2017-11-24T19:00:00.000Z</td><td>1734117123</td><td>1953761884</td><td>unkn   ppd id: 153174    Little Rock    11-25</td><td>19.550000000000000000</td><td>45522086</td></tr><tr><td>2017-11-24T19:00:00.000Z</td><td>1734117152</td><td>1429095612</td><td>Ikea     arc id: 527956  Saint John&#x27;s   11-26</td><td>9.390000000000000000</td><td>1268541279</td></tr><tr><td>2017-11-24T19:00:00.000Z</td><td>1734117153</td><td>847200066</td><td>unkn        Kingstown</td><td>2907.570000000000000000</td><td>1483931123</td></tr><tr><td>2017-11-24T19:00:00.000Z</td><td>1734117212</td><td>1996661856</td><td>unkn    ppd id: 454437   11-24</td><td>140.380000000000000000</td><td>336763936</td></tr></table>"
      ],
      "text/plain": [
       "<IPython.core.display.HTML object>"
      ]
     },
     "execution_count": 99,
     "metadata": {},
     "output_type": "execute_result"
    }
   ],
   "source": [
    "%%sparksql\n",
    "\n",
    "select * from sales_delta_mapping limit 10;"
   ]
  },
  {
   "cell_type": "code",
   "execution_count": 78,
   "id": "bd33c2bb-fb7e-4811-b19c-1a0b94cd223c",
   "metadata": {},
   "outputs": [
    {
     "name": "stdout",
     "output_type": "stream",
     "text": [
      "root\n",
      " |-- transacted_at: string (nullable = true)\n",
      " |-- trx_id: string (nullable = true)\n",
      " |-- retailer_id: string (nullable = true)\n",
      " |-- description: string (nullable = true)\n",
      " |-- total_amount: string (nullable = true)\n",
      " |-- city_id: string (nullable = true)\n",
      "\n",
      "+--------------------+------+-----------+--------------------+------------+-------+\n",
      "|       transacted_at|trx_id|retailer_id|         description|total_amount|city_id|\n",
      "+--------------------+------+-----------+--------------------+------------+-------+\n",
      "|2022-11-19T21:00:...|  0000|      10001|Test data for rename|      100.00|    111|\n",
      "+--------------------+------+-----------+--------------------+------------+-------+\n",
      "\n"
     ]
    }
   ],
   "source": [
    "# Create a dataset with old name \"amount\"\n",
    "_data = [\n",
    "    [\"2022-11-19T21:00:00.000Z\", \"0000\", \"10001\", \"Test data for rename\", \"100.00\", \"111\"]\n",
    "]\n",
    "\n",
    "# Schema with old name\n",
    "_schema = [\"transacted_at\", \"trx_id\", \"retailer_id\", \"description\", \"total_amount\", \"city_id\"]\n",
    "\n",
    "old_df = spark.createDataFrame(data=_data, schema=_schema)\n",
    "old_df.printSchema()\n",
    "old_df.show()"
   ]
  },
  {
   "cell_type": "code",
   "execution_count": 79,
   "id": "c271f7c9-198a-4138-8d04-bb8caf2e89f8",
   "metadata": {},
   "outputs": [],
   "source": [
    "# Lets write the data into the delta table\n",
    "\n",
    "old_df.write.format('delta').mode(\"append\").saveAsTable(\"sales_delta_mapping\")"
   ]
  },
  {
   "cell_type": "code",
   "execution_count": 80,
   "id": "bbf26e95-4dd4-444a-ba82-c1e87eaf431b",
   "metadata": {},
   "outputs": [
    {
     "data": {
      "text/html": [
       "<table><tr style=\"border-bottom: 1px solid\"><td style=\"font-weight: bold\">transacted_at</td><td style=\"font-weight: bold\">trx_id</td><td style=\"font-weight: bold\">retailer_id</td><td style=\"font-weight: bold\">description</td><td style=\"font-weight: bold\">total_amount</td><td style=\"font-weight: bold\">city_id</td></tr><tr><td>2022-11-19T21:00:00.000Z</td><td>0000</td><td>10001</td><td>Test data for rename</td><td>100.00</td><td>111</td></tr></table>"
      ],
      "text/plain": [
       "<IPython.core.display.HTML object>"
      ]
     },
     "execution_count": 80,
     "metadata": {},
     "output_type": "execute_result"
    }
   ],
   "source": [
    "%%sparksql\n",
    "\n",
    "select * from sales_delta_mapping where city_id = '111';"
   ]
  },
  {
   "cell_type": "code",
   "execution_count": 85,
   "id": "269968b3-410d-4193-b221-44f0d9ed1080",
   "metadata": {},
   "outputs": [
    {
     "data": {
      "text/html": [
       "<table><tr style=\"border-bottom: 1px solid\"><td style=\"font-weight: bold\">version</td><td style=\"font-weight: bold\">timestamp</td><td style=\"font-weight: bold\">userId</td><td style=\"font-weight: bold\">userName</td><td style=\"font-weight: bold\">operation</td><td style=\"font-weight: bold\">operationParameters</td><td style=\"font-weight: bold\">job</td><td style=\"font-weight: bold\">notebook</td><td style=\"font-weight: bold\">clusterId</td><td style=\"font-weight: bold\">readVersion</td><td style=\"font-weight: bold\">isolationLevel</td><td style=\"font-weight: bold\">isBlindAppend</td><td style=\"font-weight: bold\">operationMetrics</td><td style=\"font-weight: bold\">userMetadata</td><td style=\"font-weight: bold\">engineInfo</td></tr><tr><td>3</td><td>2022-11-19 06:14:30.370000</td><td>null</td><td>null</td><td>WRITE</td><td>{&#x27;mode&#x27;: &#x27;Append&#x27;, &#x27;partitionBy&#x27;: &#x27;[]&#x27;}</td><td>null</td><td>null</td><td>null</td><td>2</td><td>Serializable</td><td>True</td><td>{&#x27;numOutputRows&#x27;: &#x27;1&#x27;, &#x27;numOutputBytes&#x27;: &#x27;3321&#x27;, &#x27;numFiles&#x27;: &#x27;2&#x27;}</td><td>null</td><td>Apache-Spark/3.3.0 Delta-Lake/2.1.1</td></tr><tr><td>2</td><td>2022-11-19 06:13:50.667000</td><td>null</td><td>null</td><td>RENAME COLUMN</td><td>{&#x27;newColumnPath&#x27;: &#x27;total_amount&#x27;, &#x27;oldColumnPath&#x27;: &#x27;amount&#x27;}</td><td>null</td><td>null</td><td>null</td><td>1</td><td>Serializable</td><td>True</td><td>{}</td><td>null</td><td>Apache-Spark/3.3.0 Delta-Lake/2.1.1</td></tr><tr><td>1</td><td>2022-11-19 06:13:43.237000</td><td>null</td><td>null</td><td>SET TBLPROPERTIES</td><td>{&#x27;properties&#x27;: &#x27;{&quot;delta.columnMapping.mode&quot;:&quot;name&quot;,&quot;delta.minReaderVersion&quot;:&quot;2&quot;,&quot;delta.minWriterVersion&quot;:&quot;5&quot;}&#x27;}</td><td>null</td><td>null</td><td>null</td><td>0</td><td>Serializable</td><td>True</td><td>{}</td><td>null</td><td>Apache-Spark/3.3.0 Delta-Lake/2.1.1</td></tr><tr><td>0</td><td>2022-11-19 06:13:32.797000</td><td>null</td><td>null</td><td>CREATE TABLE AS SELECT</td><td>{&#x27;description&#x27;: None, &#x27;partitionBy&#x27;: &#x27;[]&#x27;, &#x27;properties&#x27;: &#x27;{}&#x27;, &#x27;isManaged&#x27;: &#x27;true&#x27;}</td><td>null</td><td>null</td><td>null</td><td>null</td><td>Serializable</td><td>True</td><td>{&#x27;numOutputRows&#x27;: &#x27;4132056&#x27;, &#x27;numOutputBytes&#x27;: &#x27;123051140&#x27;, &#x27;numFiles&#x27;: &#x27;2&#x27;}</td><td>null</td><td>Apache-Spark/3.3.0 Delta-Lake/2.1.1</td></tr></table>"
      ],
      "text/plain": [
       "<IPython.core.display.HTML object>"
      ]
     },
     "execution_count": 85,
     "metadata": {},
     "output_type": "execute_result"
    }
   ],
   "source": [
    "%%sparksql\n",
    "\n",
    "describe history sales_delta_mapping;"
   ]
  },
  {
   "cell_type": "code",
   "execution_count": 86,
   "id": "6e9ba7a6-59c9-4792-ad6f-4cf1401001b8",
   "metadata": {},
   "outputs": [
    {
     "data": {
      "text/html": [
       "<table><tr style=\"border-bottom: 1px solid\"></tr></table>"
      ],
      "text/plain": [
       "<IPython.core.display.HTML object>"
      ]
     },
     "execution_count": 86,
     "metadata": {},
     "output_type": "execute_result"
    }
   ],
   "source": [
    "%%sparksql\n",
    "\n",
    "alter table sales_delta_mapping drop column description;"
   ]
  },
  {
   "cell_type": "code",
   "execution_count": 87,
   "id": "7765e316-1d9f-4976-aae8-87d6ce5b0ae7",
   "metadata": {},
   "outputs": [
    {
     "data": {
      "text/html": [
       "<table><tr style=\"border-bottom: 1px solid\"><td style=\"font-weight: bold\">version</td><td style=\"font-weight: bold\">timestamp</td><td style=\"font-weight: bold\">userId</td><td style=\"font-weight: bold\">userName</td><td style=\"font-weight: bold\">operation</td><td style=\"font-weight: bold\">operationParameters</td><td style=\"font-weight: bold\">job</td><td style=\"font-weight: bold\">notebook</td><td style=\"font-weight: bold\">clusterId</td><td style=\"font-weight: bold\">readVersion</td><td style=\"font-weight: bold\">isolationLevel</td><td style=\"font-weight: bold\">isBlindAppend</td><td style=\"font-weight: bold\">operationMetrics</td><td style=\"font-weight: bold\">userMetadata</td><td style=\"font-weight: bold\">engineInfo</td></tr><tr><td>4</td><td>2022-11-19 06:22:24.961000</td><td>null</td><td>null</td><td>DROP COLUMNS</td><td>{&#x27;columns&#x27;: &#x27;[&quot;description&quot;]&#x27;}</td><td>null</td><td>null</td><td>null</td><td>3</td><td>Serializable</td><td>True</td><td>{}</td><td>null</td><td>Apache-Spark/3.3.0 Delta-Lake/2.1.1</td></tr><tr><td>3</td><td>2022-11-19 06:14:30.370000</td><td>null</td><td>null</td><td>WRITE</td><td>{&#x27;mode&#x27;: &#x27;Append&#x27;, &#x27;partitionBy&#x27;: &#x27;[]&#x27;}</td><td>null</td><td>null</td><td>null</td><td>2</td><td>Serializable</td><td>True</td><td>{&#x27;numOutputRows&#x27;: &#x27;1&#x27;, &#x27;numOutputBytes&#x27;: &#x27;3321&#x27;, &#x27;numFiles&#x27;: &#x27;2&#x27;}</td><td>null</td><td>Apache-Spark/3.3.0 Delta-Lake/2.1.1</td></tr><tr><td>2</td><td>2022-11-19 06:13:50.667000</td><td>null</td><td>null</td><td>RENAME COLUMN</td><td>{&#x27;newColumnPath&#x27;: &#x27;total_amount&#x27;, &#x27;oldColumnPath&#x27;: &#x27;amount&#x27;}</td><td>null</td><td>null</td><td>null</td><td>1</td><td>Serializable</td><td>True</td><td>{}</td><td>null</td><td>Apache-Spark/3.3.0 Delta-Lake/2.1.1</td></tr><tr><td>1</td><td>2022-11-19 06:13:43.237000</td><td>null</td><td>null</td><td>SET TBLPROPERTIES</td><td>{&#x27;properties&#x27;: &#x27;{&quot;delta.columnMapping.mode&quot;:&quot;name&quot;,&quot;delta.minReaderVersion&quot;:&quot;2&quot;,&quot;delta.minWriterVersion&quot;:&quot;5&quot;}&#x27;}</td><td>null</td><td>null</td><td>null</td><td>0</td><td>Serializable</td><td>True</td><td>{}</td><td>null</td><td>Apache-Spark/3.3.0 Delta-Lake/2.1.1</td></tr><tr><td>0</td><td>2022-11-19 06:13:32.797000</td><td>null</td><td>null</td><td>CREATE TABLE AS SELECT</td><td>{&#x27;description&#x27;: None, &#x27;partitionBy&#x27;: &#x27;[]&#x27;, &#x27;properties&#x27;: &#x27;{}&#x27;, &#x27;isManaged&#x27;: &#x27;true&#x27;}</td><td>null</td><td>null</td><td>null</td><td>null</td><td>Serializable</td><td>True</td><td>{&#x27;numOutputRows&#x27;: &#x27;4132056&#x27;, &#x27;numOutputBytes&#x27;: &#x27;123051140&#x27;, &#x27;numFiles&#x27;: &#x27;2&#x27;}</td><td>null</td><td>Apache-Spark/3.3.0 Delta-Lake/2.1.1</td></tr></table>"
      ],
      "text/plain": [
       "<IPython.core.display.HTML object>"
      ]
     },
     "execution_count": 87,
     "metadata": {},
     "output_type": "execute_result"
    }
   ],
   "source": [
    "%%sparksql\n",
    "\n",
    "describe history sales_delta_mapping;"
   ]
  },
  {
   "cell_type": "code",
   "execution_count": 88,
   "id": "5e9f7150-84f5-47f0-a898-8798abb160d3",
   "metadata": {},
   "outputs": [
    {
     "data": {
      "text/html": [
       "<table><tr style=\"border-bottom: 1px solid\"><td style=\"font-weight: bold\">transacted_at</td><td style=\"font-weight: bold\">trx_id</td><td style=\"font-weight: bold\">retailer_id</td><td style=\"font-weight: bold\">total_amount</td><td style=\"font-weight: bold\">city_id</td></tr><tr><td>2022-11-19T21:00:00.000Z</td><td>0000</td><td>10001</td><td>100.00</td><td>111</td></tr></table>"
      ],
      "text/plain": [
       "<IPython.core.display.HTML object>"
      ]
     },
     "execution_count": 88,
     "metadata": {},
     "output_type": "execute_result"
    }
   ],
   "source": [
    "%%sparksql\n",
    "\n",
    "select * from sales_delta_mapping where city_id = '111';"
   ]
  },
  {
   "cell_type": "code",
   "execution_count": 91,
   "id": "63438b36-7d24-49ca-abb6-c592db6a7997",
   "metadata": {},
   "outputs": [],
   "source": [
    "# Renaming column with underlying data\n",
    "\n",
    "spark.read.table(\"sales_delta_mapping\") \\\n",
    "    .withColumnRenamed(\"trx_id\", \"transaction_id\") \\\n",
    "    .write \\\n",
    "    .format(\"delta\") \\\n",
    "    .mode(\"overwrite\") \\\n",
    "    .option(\"overwriteSchema\", \"true\") \\\n",
    "    .saveAsTable(\"sales_delta_mapping\")"
   ]
  },
  {
   "cell_type": "code",
   "execution_count": 92,
   "id": "758604ce-4db0-4d4a-85e4-082c5772a583",
   "metadata": {},
   "outputs": [
    {
     "data": {
      "text/html": [
       "<table><tr style=\"border-bottom: 1px solid\"><td style=\"font-weight: bold\">transacted_at</td><td style=\"font-weight: bold\">transaction_id</td><td style=\"font-weight: bold\">retailer_id</td><td style=\"font-weight: bold\">total_amount</td><td style=\"font-weight: bold\">city_id</td></tr><tr><td>2022-11-19T21:00:00.000Z</td><td>0000</td><td>10001</td><td>100.00</td><td>111</td></tr></table>"
      ],
      "text/plain": [
       "<IPython.core.display.HTML object>"
      ]
     },
     "execution_count": 92,
     "metadata": {},
     "output_type": "execute_result"
    }
   ],
   "source": [
    "%%sparksql\n",
    "\n",
    "select * from sales_delta_mapping where city_id = '111';"
   ]
  },
  {
   "cell_type": "code",
   "execution_count": 93,
   "id": "7a58130b-5aa5-4c4b-9944-977651f35bd5",
   "metadata": {},
   "outputs": [],
   "source": [
    "# Dropping column with underlying data\n",
    "\n",
    "spark.read.table(\"sales_delta_mapping\") \\\n",
    "    .drop(\"transaction_id\") \\\n",
    "    .write \\\n",
    "    .format(\"delta\") \\\n",
    "    .mode(\"overwrite\") \\\n",
    "    .option(\"overwriteSchema\", \"true\") \\\n",
    "    .saveAsTable(\"sales_delta_mapping\")"
   ]
  },
  {
   "cell_type": "code",
   "execution_count": 94,
   "id": "58d117fc-387a-4a26-8ebb-b9d8f8871415",
   "metadata": {},
   "outputs": [
    {
     "data": {
      "text/html": [
       "<table><tr style=\"border-bottom: 1px solid\"><td style=\"font-weight: bold\">transacted_at</td><td style=\"font-weight: bold\">retailer_id</td><td style=\"font-weight: bold\">total_amount</td><td style=\"font-weight: bold\">city_id</td></tr><tr><td>2022-11-19T21:00:00.000Z</td><td>10001</td><td>100.00</td><td>111</td></tr></table>"
      ],
      "text/plain": [
       "<IPython.core.display.HTML object>"
      ]
     },
     "execution_count": 94,
     "metadata": {},
     "output_type": "execute_result"
    }
   ],
   "source": [
    "%%sparksql\n",
    "\n",
    "select * from sales_delta_mapping where city_id = '111';"
   ]
  },
  {
   "cell_type": "code",
   "execution_count": 96,
   "id": "27a156eb-85eb-4da8-b643-04b591737d7f",
   "metadata": {},
   "outputs": [
    {
     "data": {
      "text/html": [
       "<table><tr style=\"border-bottom: 1px solid\"></tr></table>"
      ],
      "text/plain": [
       "<IPython.core.display.HTML object>"
      ]
     },
     "execution_count": 96,
     "metadata": {},
     "output_type": "execute_result"
    }
   ],
   "source": [
    "%%sparksql\n",
    "\n",
    "drop table sales_delta_mapping"
   ]
  },
  {
   "cell_type": "code",
   "execution_count": null,
   "id": "69898a54-4512-4b60-afe3-9440b22fe06f",
   "metadata": {},
   "outputs": [],
   "source": []
  }
 ],
 "metadata": {
  "kernelspec": {
   "display_name": "Python 3 (ipykernel)",
   "language": "python",
   "name": "python3"
  },
  "language_info": {
   "codemirror_mode": {
    "name": "ipython",
    "version": 3
   },
   "file_extension": ".py",
   "mimetype": "text/x-python",
   "name": "python",
   "nbconvert_exporter": "python",
   "pygments_lexer": "ipython3",
   "version": "3.10.6"
  }
 },
 "nbformat": 4,
 "nbformat_minor": 5
}
