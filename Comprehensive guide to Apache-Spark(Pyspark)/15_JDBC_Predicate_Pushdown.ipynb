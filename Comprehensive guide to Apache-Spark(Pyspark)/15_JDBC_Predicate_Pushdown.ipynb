{
 "cells": [
  {
   "cell_type": "markdown",
   "id": "525df10c-3ede-4f4b-9dae-a03ac3c70826",
   "metadata": {},
   "source": [
    "# JDBC Predicate Pushdown"
   ]
  },
  {
   "cell_type": "code",
   "execution_count": 3,
   "id": "0d0b62f3-06cb-4efe-ad29-b238898af089",
   "metadata": {},
   "outputs": [
    {
     "data": {
      "text/html": [
       "\n",
       "            <div>\n",
       "                <p><b>SparkSession - in-memory</b></p>\n",
       "                \n",
       "        <div>\n",
       "            <p><b>SparkContext</b></p>\n",
       "\n",
       "            <p><a href=\"http://e85ba8ba0610:4040\">Spark UI</a></p>\n",
       "\n",
       "            <dl>\n",
       "              <dt>Version</dt>\n",
       "                <dd><code>v3.3.0</code></dd>\n",
       "              <dt>Master</dt>\n",
       "                <dd><code>local[*]</code></dd>\n",
       "              <dt>AppName</dt>\n",
       "                <dd><code>Predicate Pushdown</code></dd>\n",
       "            </dl>\n",
       "        </div>\n",
       "        \n",
       "            </div>\n",
       "        "
      ],
      "text/plain": [
       "<pyspark.sql.session.SparkSession at 0x7f4facac0b20>"
      ]
     },
     "execution_count": 3,
     "metadata": {},
     "output_type": "execute_result"
    }
   ],
   "source": [
    "# Create Spark Session\n",
    "\n",
    "from pyspark.sql import SparkSession\n",
    "\n",
    "spark = SparkSession \\\n",
    "    .builder \\\n",
    "    .appName(\"Predicate Pushdown\") \\\n",
    "    .config('spark.jars.packages', 'org.xerial:sqlite-jdbc:3.39.3.0') \\\n",
    "    .master(\"local[*]\") \\\n",
    "    .getOrCreate()\n",
    "\n",
    "sparks"
   ]
  },
  {
   "cell_type": "code",
   "execution_count": 21,
   "id": "eefdba71-b71d-4712-9fa0-f4ab613fd905",
   "metadata": {},
   "outputs": [],
   "source": [
    "# Lets create a simple Python decorator - {get_time} to get the execution timings\n",
    "# If you dont know about Python decorators - check out : https://www.geeksforgeeks.org/decorators-in-python/\n",
    "import time\n",
    "\n",
    "def get_time(func):\n",
    "    def inner_get_time() -> str:\n",
    "        start_time = time.time()\n",
    "        func()\n",
    "        end_time = time.time()\n",
    "        return (f\"Execution time: {(end_time - start_time)*1000} ms\")\n",
    "    print(inner_get_time())"
   ]
  },
  {
   "cell_type": "code",
   "execution_count": 52,
   "id": "13163d1d-c920-424e-beca-0dd7523cee75",
   "metadata": {},
   "outputs": [],
   "source": [
    "# Set up to read from JDBC SQLite database\n",
    "driver: str = \"org.sqlite.JDBC\"\n",
    "db_path: str = \"dataset/jdbc/demo-sqlite.db\"\n",
    "jdbc_url: str = \"jdbc:sqlite:\" + db_path\n",
    "table_name: str = \"sales_csv\""
   ]
  },
  {
   "cell_type": "code",
   "execution_count": 63,
   "id": "3e785501-fe71-4713-9e4d-fdc766dde59a",
   "metadata": {},
   "outputs": [
    {
     "name": "stdout",
     "output_type": "stream",
     "text": [
      "root\n",
      " |-- transacted_at: string (nullable = true)\n",
      " |-- trx_id: integer (nullable = true)\n",
      " |-- retailer_id: integer (nullable = true)\n",
      " |-- description: string (nullable = true)\n",
      " |-- amount: double (nullable = true)\n",
      " |-- city_id: integer (nullable = true)\n",
      "\n",
      "+------------------------+----------+-----------+---------------------------------------------+-------+----------+\n",
      "|transacted_at           |trx_id    |retailer_id|description                                  |amount |city_id   |\n",
      "+------------------------+----------+-----------+---------------------------------------------+-------+----------+\n",
      "|2017-11-24T19:00:00.000Z|1995601912|2077350195 |Walgreen       11-25                         |197.23 |216510442 |\n",
      "|2017-11-24T19:00:00.000Z|1734117021|644879053  |unkn    ppd id: 768641     11-26             |8.58   |930259917 |\n",
      "|2017-11-24T19:00:00.000Z|1734117022|847200066  |Wal-Mart  ppd id: 555914     Algiers    11-26|1737.26|1646415505|\n",
      "|2017-11-24T19:00:00.000Z|1734117030|1953761884 |Home Depot     ppd id: 265293   11-25        |384.5  |287177635 |\n",
      "|2017-11-24T19:00:00.000Z|1734117089|1898522855 |Target        11-25                          |66.33  |1855530529|\n",
      "|2017-11-24T19:00:00.000Z|1734117117|997626433  |Sears  ppd id: 856095  Ashgabat              |298.87 |957346984 |\n",
      "|2017-11-24T19:00:00.000Z|1734117123|1953761884 |unkn   ppd id: 153174    Little Rock    11-25|19.55  |45522086  |\n",
      "|2017-11-24T19:00:00.000Z|1734117152|1429095612 |Ikea     arc id: 527956  Saint John's   11-26|9.39   |1268541279|\n",
      "|2017-11-24T19:00:00.000Z|1734117153|847200066  |unkn        Kingstown                        |2907.57|1483931123|\n",
      "|2017-11-24T19:00:00.000Z|1734117212|1996661856 |unkn    ppd id: 454437   11-24               |140.38 |336763936 |\n",
      "+------------------------+----------+-----------+---------------------------------------------+-------+----------+\n",
      "only showing top 10 rows\n",
      "\n"
     ]
    }
   ],
   "source": [
    "# Lets read the SQLite table using JDBC driver and validate the data\n",
    "df = spark \\\n",
    "    .read \\\n",
    "    .format(\"jdbc\") \\\n",
    "    .option(\"driver\", driver) \\\n",
    "    .option(\"url\", jdbc_url) \\\n",
    "    .option(\"dbtable\", table_name) \\\n",
    "    .load()\n",
    "\n",
    "df.printSchema()\n",
    "df.show(10, False)"
   ]
  },
  {
   "cell_type": "code",
   "execution_count": 65,
   "id": "1aa5f6c3-8d21-4d1b-91e9-520f83cb99ef",
   "metadata": {},
   "outputs": [
    {
     "name": "stdout",
     "output_type": "stream",
     "text": [
      "== Parsed Logical Plan ==\n",
      "Relation [transacted_at#414,trx_id#415,retailer_id#416,description#417,amount#418,city_id#419] JDBCRelation(sales_csv) [numPartitions=1]\n",
      "\n",
      "== Analyzed Logical Plan ==\n",
      "transacted_at: string, trx_id: int, retailer_id: int, description: string, amount: double, city_id: int\n",
      "Relation [transacted_at#414,trx_id#415,retailer_id#416,description#417,amount#418,city_id#419] JDBCRelation(sales_csv) [numPartitions=1]\n",
      "\n",
      "== Optimized Logical Plan ==\n",
      "Relation [transacted_at#414,trx_id#415,retailer_id#416,description#417,amount#418,city_id#419] JDBCRelation(sales_csv) [numPartitions=1]\n",
      "\n",
      "== Physical Plan ==\n",
      "*(1) Scan JDBCRelation(sales_csv) [numPartitions=1] [transacted_at#414,trx_id#415,retailer_id#416,description#417,amount#418,city_id#419] PushedFilters: [], ReadSchema: struct<transacted_at:string,trx_id:int,retailer_id:int,description:string,amount:double,city_id:int>\n",
      "\n"
     ]
    }
   ],
   "source": [
    "# Checking the explain plan\n",
    "df.explain(True)"
   ]
  },
  {
   "cell_type": "code",
   "execution_count": 80,
   "id": "bfbbd2f0-e947-4d40-8c2c-9a2f794aca14",
   "metadata": {},
   "outputs": [
    {
     "name": "stdout",
     "output_type": "stream",
     "text": [
      "== Parsed Logical Plan ==\n",
      "Relation [transacted_at#1131,trx_id#1132,retailer_id#1133,description#1134,amount#1135,city_id#1136] JDBCRelation(sales_csv) [numPartitions=1]\n",
      "\n",
      "== Analyzed Logical Plan ==\n",
      "transacted_at: string, trx_id: int, retailer_id: int, description: string, amount: double, city_id: int\n",
      "Relation [transacted_at#1131,trx_id#1132,retailer_id#1133,description#1134,amount#1135,city_id#1136] JDBCRelation(sales_csv) [numPartitions=1]\n",
      "\n",
      "== Optimized Logical Plan ==\n",
      "Relation [transacted_at#1131,trx_id#1132,retailer_id#1133,description#1134,amount#1135,city_id#1136] JDBCRelation(sales_csv) [numPartitions=1]\n",
      "\n",
      "== Physical Plan ==\n",
      "*(1) Scan JDBCRelation(sales_csv) [numPartitions=1] [transacted_at#1131,trx_id#1132,retailer_id#1133,description#1134,amount#1135,city_id#1136] PushedFilters: [], ReadSchema: struct<transacted_at:string,trx_id:int,retailer_id:int,description:string,amount:double,city_id:int>\n",
      "\n",
      "Execution time: 9063.788414001465 ms\n"
     ]
    }
   ],
   "source": [
    "# Checking the performance for Full read without any Predicate Pushdown\n",
    "@get_time\n",
    "def x():\n",
    "    df_full = spark \\\n",
    "    .read \\\n",
    "    .format(\"jdbc\") \\\n",
    "    .option(\"driver\", driver) \\\n",
    "    .option(\"url\", jdbc_url) \\\n",
    "    .option(\"dbtable\", table_name) \\\n",
    "    .load()\n",
    "    \n",
    "    df_full.write.format(\"noop\").mode(\"overwrite\").save()\n",
    "    df_full.explain(True)"
   ]
  },
  {
   "cell_type": "code",
   "execution_count": 71,
   "id": "ba921ab5-31ab-4e2d-98b5-b552e06d58d4",
   "metadata": {},
   "outputs": [
    {
     "name": "stdout",
     "output_type": "stream",
     "text": [
      "== Parsed Logical Plan ==\n",
      "'Filter ('city_id = 216510442)\n",
      "+- Relation [transacted_at#541,trx_id#542,retailer_id#543,description#544,amount#545,city_id#546] JDBCRelation(sales_csv) [numPartitions=1]\n",
      "\n",
      "== Analyzed Logical Plan ==\n",
      "transacted_at: string, trx_id: int, retailer_id: int, description: string, amount: double, city_id: int\n",
      "Filter (city_id#546 = 216510442)\n",
      "+- Relation [transacted_at#541,trx_id#542,retailer_id#543,description#544,amount#545,city_id#546] JDBCRelation(sales_csv) [numPartitions=1]\n",
      "\n",
      "== Optimized Logical Plan ==\n",
      "Filter (isnotnull(city_id#546) AND (city_id#546 = 216510442))\n",
      "+- Relation [transacted_at#541,trx_id#542,retailer_id#543,description#544,amount#545,city_id#546] JDBCRelation(sales_csv) [numPartitions=1]\n",
      "\n",
      "== Physical Plan ==\n",
      "*(1) Scan JDBCRelation(sales_csv) [numPartitions=1] [transacted_at#541,trx_id#542,retailer_id#543,description#544,amount#545,city_id#546] PushedFilters: [*IsNotNull(city_id), *EqualTo(city_id,216510442)], ReadSchema: struct<transacted_at:string,trx_id:int,retailer_id:int,description:string,amount:double,city_id:int>\n",
      "\n",
      "Execution time: 521.1873054504395 ms\n"
     ]
    }
   ],
   "source": [
    "# Checking the performance for Predicate Pushdown\n",
    "@get_time\n",
    "def x():\n",
    "    df_filtered = spark \\\n",
    "    .read \\\n",
    "    .format(\"jdbc\") \\\n",
    "    .option(\"driver\", driver) \\\n",
    "    .option(\"url\", jdbc_url) \\\n",
    "    .option(\"dbtable\", table_name) \\\n",
    "    .load() \\\n",
    "    .filter(\"city_id = 216510442\")\n",
    "    \n",
    "    df_filtered.write.format(\"noop\").mode(\"overwrite\").save()\n",
    "    df_filtered.explain(True)"
   ]
  },
  {
   "cell_type": "code",
   "execution_count": 73,
   "id": "d3d2d58f-f615-48de-8ae9-62d9f3db8093",
   "metadata": {},
   "outputs": [
    {
     "name": "stdout",
     "output_type": "stream",
     "text": [
      "== Parsed Logical Plan ==\n",
      "'Filter ('city_id = 216510442)\n",
      "+- Relation [transacted_at#817,trx_id#818,retailer_id#819,description#820,amount#821,city_id#822] JDBCRelation(sales_csv) [numPartitions=1]\n",
      "\n",
      "== Analyzed Logical Plan ==\n",
      "transacted_at: string, trx_id: int, retailer_id: int, description: string, amount: double, city_id: int\n",
      "Filter (city_id#822 = 216510442)\n",
      "+- Relation [transacted_at#817,trx_id#818,retailer_id#819,description#820,amount#821,city_id#822] JDBCRelation(sales_csv) [numPartitions=1]\n",
      "\n",
      "== Optimized Logical Plan ==\n",
      "Filter (isnotnull(city_id#822) AND (city_id#822 = 216510442))\n",
      "+- InMemoryRelation [transacted_at#817, trx_id#818, retailer_id#819, description#820, amount#821, city_id#822], StorageLevel(disk, memory, deserialized, 1 replicas)\n",
      "      +- *(1) Scan JDBCRelation(sales_csv) [numPartitions=1] [transacted_at#817,trx_id#818,retailer_id#819,description#820,amount#821,city_id#822] PushedFilters: [], ReadSchema: struct<transacted_at:string,trx_id:int,retailer_id:int,description:string,amount:double,city_id:int>\n",
      "\n",
      "== Physical Plan ==\n",
      "*(1) Filter (isnotnull(city_id#822) AND (city_id#822 = 216510442))\n",
      "+- InMemoryTableScan [transacted_at#817, trx_id#818, retailer_id#819, description#820, amount#821, city_id#822], [isnotnull(city_id#822), (city_id#822 = 216510442)]\n",
      "      +- InMemoryRelation [transacted_at#817, trx_id#818, retailer_id#819, description#820, amount#821, city_id#822], StorageLevel(disk, memory, deserialized, 1 replicas)\n",
      "            +- *(1) Scan JDBCRelation(sales_csv) [numPartitions=1] [transacted_at#817,trx_id#818,retailer_id#819,description#820,amount#821,city_id#822] PushedFilters: [], ReadSchema: struct<transacted_at:string,trx_id:int,retailer_id:int,description:string,amount:double,city_id:int>\n",
      "\n",
      "Execution time: 15713.536024093628 ms\n"
     ]
    }
   ],
   "source": [
    "# Cripple the performance for Predicate Pushdown\n",
    "@get_time\n",
    "def x():\n",
    "    df_filtered = spark \\\n",
    "    .read \\\n",
    "    .format(\"jdbc\") \\\n",
    "    .option(\"driver\", driver) \\\n",
    "    .option(\"url\", jdbc_url) \\\n",
    "    .option(\"dbtable\", table_name) \\\n",
    "    .load() \\\n",
    "    .cache() \\\n",
    "    .filter(\"city_id = 216510442\")\n",
    "    \n",
    "    df_filtered.write.format(\"noop\").mode(\"overwrite\").save()\n",
    "    df_filtered.explain(True)"
   ]
  },
  {
   "cell_type": "code",
   "execution_count": 79,
   "id": "bee0d7a5-2807-4b31-89fb-4895c2d98f94",
   "metadata": {},
   "outputs": [
    {
     "name": "stdout",
     "output_type": "stream",
     "text": [
      "== Parsed Logical Plan ==\n",
      "Relation [city_id#1125,cnt#1126] JDBCRelation((select city_id, count(1) as cnt from sales_csv group by city_id) as sales_csv) [numPartitions=1]\n",
      "\n",
      "== Analyzed Logical Plan ==\n",
      "city_id: int, cnt: decimal(38,18)\n",
      "Relation [city_id#1125,cnt#1126] JDBCRelation((select city_id, count(1) as cnt from sales_csv group by city_id) as sales_csv) [numPartitions=1]\n",
      "\n",
      "== Optimized Logical Plan ==\n",
      "Relation [city_id#1125,cnt#1126] JDBCRelation((select city_id, count(1) as cnt from sales_csv group by city_id) as sales_csv) [numPartitions=1]\n",
      "\n",
      "== Physical Plan ==\n",
      "*(1) Scan JDBCRelation((select city_id, count(1) as cnt from sales_csv group by city_id) as sales_csv) [numPartitions=1] [city_id#1125,cnt#1126] PushedFilters: [], ReadSchema: struct<city_id:int,cnt:decimal(38,18)>\n",
      "\n",
      "Execution time: 2027.7936458587646 ms\n"
     ]
    }
   ],
   "source": [
    "# We can even push down Queries for perfomance benifits\n",
    "pushDownQuery = \"\"\"(select city_id, count(1) as cnt from sales_csv group by city_id) as sales_csv\"\"\"\n",
    "@get_time\n",
    "def x():\n",
    "    df_filtered = spark \\\n",
    "    .read \\\n",
    "    .format(\"jdbc\") \\\n",
    "    .option(\"driver\", driver) \\\n",
    "    .option(\"url\", jdbc_url) \\\n",
    "    .option(\"dbtable\", pushDownQuery) \\\n",
    "    .load()\n",
    "    \n",
    "    df_filtered.write.format(\"noop\").mode(\"overwrite\").save()\n",
    "    df_filtered.explain(True)"
   ]
  }
 ],
 "metadata": {
  "kernelspec": {
   "display_name": "Python 3 (ipykernel)",
   "language": "python",
   "name": "python3"
  },
  "language_info": {
   "codemirror_mode": {
    "name": "ipython",
    "version": 3
   },
   "file_extension": ".py",
   "mimetype": "text/x-python",
   "name": "python",
   "nbconvert_exporter": "python",
   "pygments_lexer": "ipython3",
   "version": "3.10.6"
  }
 },
 "nbformat": 4,
 "nbformat_minor": 5
}
