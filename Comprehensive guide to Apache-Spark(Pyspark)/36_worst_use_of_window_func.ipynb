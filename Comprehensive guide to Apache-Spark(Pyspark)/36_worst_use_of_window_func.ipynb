{
 "cells": [
  {
   "cell_type": "markdown",
   "id": "7dd6f56d-b27d-4a7f-a8b0-357b54e10354",
   "metadata": {},
   "source": [
    "### Worst use of Window Functions"
   ]
  },
  {
   "cell_type": "code",
   "execution_count": 84,
   "id": "c635856e-dde1-43eb-9935-ccf2c0ec0c6c",
   "metadata": {},
   "outputs": [
    {
     "data": {
      "text/html": [
       "\n",
       "            <div>\n",
       "                <p><b>SparkSession - in-memory</b></p>\n",
       "                \n",
       "        <div>\n",
       "            <p><b>SparkContext</b></p>\n",
       "\n",
       "            <p><a href=\"http://eccf28b1656f:4040\">Spark UI</a></p>\n",
       "\n",
       "            <dl>\n",
       "              <dt>Version</dt>\n",
       "                <dd><code>v3.3.0</code></dd>\n",
       "              <dt>Master</dt>\n",
       "                <dd><code>local[*]</code></dd>\n",
       "              <dt>AppName</dt>\n",
       "                <dd><code>Worst use of Window Function</code></dd>\n",
       "            </dl>\n",
       "        </div>\n",
       "        \n",
       "            </div>\n",
       "        "
      ],
      "text/plain": [
       "<pyspark.sql.session.SparkSession at 0x7f677b13f130>"
      ]
     },
     "execution_count": 84,
     "metadata": {},
     "output_type": "execute_result"
    }
   ],
   "source": [
    "# Create Spark Session\n",
    "\n",
    "from pyspark.sql import SparkSession\n",
    "\n",
    "spark = SparkSession \\\n",
    "    .builder \\\n",
    "    .appName(\"Worst use of Window Function\") \\\n",
    "    .master(\"local[*]\") \\\n",
    "    .getOrCreate()\n",
    "\n",
    "spark"
   ]
  },
  {
   "cell_type": "code",
   "execution_count": 85,
   "id": "15271b5d-0825-420f-9080-f76362e02120",
   "metadata": {},
   "outputs": [],
   "source": [
    "# Set Spark default config\n",
    "spark.conf.set(\"spark.sql.shuffle.partitions\", 8)"
   ]
  },
  {
   "cell_type": "code",
   "execution_count": 86,
   "id": "122fe091-8da7-4633-b998-26fc9532847e",
   "metadata": {},
   "outputs": [
    {
     "name": "stdout",
     "output_type": "stream",
     "text": [
      "Initial Partition after read: 8\n"
     ]
    }
   ],
   "source": [
    "# Read example data set\n",
    "from pyspark.sql.functions import sum, expr, monotonically_increasing_id\n",
    "\n",
    "df = spark.read.format(\"csv\").option(\"header\", True).load(\"dataset/sales.csv\")\n",
    "\n",
    "print(\"Initial Partition after read: \" + str(df.rdd.getNumPartitions()))"
   ]
  },
  {
   "cell_type": "code",
   "execution_count": 87,
   "id": "005cf23a-3d1f-41d0-8ccb-bf523b8888fe",
   "metadata": {},
   "outputs": [],
   "source": [
    "# Use row_number() to generate ids\n",
    "df_with_row_num = df.withColumn(\"_id\", expr(\"row_number() over (order by null)\"))\n",
    "\n",
    "# Write the dataset in noop for performance benchmarking\n",
    "df_with_row_num.write.format(\"noop\").mode(\"overwrite\").save()"
   ]
  },
  {
   "cell_type": "code",
   "execution_count": 78,
   "id": "f7dfa359-4aa5-4126-9f97-8a0088475968",
   "metadata": {},
   "outputs": [
    {
     "data": {
      "text/plain": [
       "1"
      ]
     },
     "execution_count": 78,
     "metadata": {},
     "output_type": "execute_result"
    }
   ],
   "source": [
    "# Validate the number of partitions\n",
    "df_with_row_num.rdd.getNumPartitions()"
   ]
  },
  {
   "cell_type": "code",
   "execution_count": 88,
   "id": "ea4380ed-8b22-4d95-887f-d9fdf3b8b62a",
   "metadata": {},
   "outputs": [],
   "source": [
    "# Use Spark in-built monotonically_increasing_id to generate ids\n",
    "df_with_incr_id = df.withColumn(\"_id\", monotonically_increasing_id())\n",
    "\n",
    "# Write the dataset in noop for performance benchmarking\n",
    "df_with_incr_id.write.format(\"noop\").mode(\"overwrite\").save()"
   ]
  },
  {
   "cell_type": "code",
   "execution_count": 80,
   "id": "4cfae94f-c1a4-420e-9517-cfb90eb92782",
   "metadata": {},
   "outputs": [
    {
     "data": {
      "text/plain": [
       "8"
      ]
     },
     "execution_count": 80,
     "metadata": {},
     "output_type": "execute_result"
    }
   ],
   "source": [
    "# Validate the number of partitions\n",
    "df_with_incr_id.rdd.getNumPartitions()"
   ]
  },
  {
   "cell_type": "code",
   "execution_count": 83,
   "id": "d3d39b7d-dfc8-4286-b1d2-c6065c51a0cd",
   "metadata": {},
   "outputs": [],
   "source": [
    "spark.stop()"
   ]
  },
  {
   "cell_type": "code",
   "execution_count": null,
   "id": "dfcf0ecf-a1b4-470e-b672-466167169867",
   "metadata": {},
   "outputs": [],
   "source": []
  }
 ],
 "metadata": {
  "kernelspec": {
   "display_name": "Python 3 (ipykernel)",
   "language": "python",
   "name": "python3"
  },
  "language_info": {
   "codemirror_mode": {
    "name": "ipython",
    "version": 3
   },
   "file_extension": ".py",
   "mimetype": "text/x-python",
   "name": "python",
   "nbconvert_exporter": "python",
   "pygments_lexer": "ipython3",
   "version": "3.10.6"
  }
 },
 "nbformat": 4,
 "nbformat_minor": 5
}
