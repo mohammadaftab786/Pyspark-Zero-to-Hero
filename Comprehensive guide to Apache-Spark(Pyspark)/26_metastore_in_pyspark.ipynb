{
 "cells": [
  {
   "cell_type": "markdown",
   "id": "f29a4367-4509-4d67-ae48-55880f2ba294",
   "metadata": {},
   "source": [
    "## Metastore in PySpark"
   ]
  },
  {
   "cell_type": "code",
   "execution_count": 1,
   "id": "c8583913-c976-41af-9bef-9538c68cea7e",
   "metadata": {},
   "outputs": [
    {
     "data": {
      "text/html": [
       "\n",
       "            <div>\n",
       "                <p><b>SparkSession - hive</b></p>\n",
       "                \n",
       "        <div>\n",
       "            <p><b>SparkContext</b></p>\n",
       "\n",
       "            <p><a href=\"http://eccf28b1656f:4040\">Spark UI</a></p>\n",
       "\n",
       "            <dl>\n",
       "              <dt>Version</dt>\n",
       "                <dd><code>v3.3.0</code></dd>\n",
       "              <dt>Master</dt>\n",
       "                <dd><code>local[*]</code></dd>\n",
       "              <dt>AppName</dt>\n",
       "                <dd><code>Metastore with Hive Support</code></dd>\n",
       "            </dl>\n",
       "        </div>\n",
       "        \n",
       "            </div>\n",
       "        "
      ],
      "text/plain": [
       "<pyspark.sql.session.SparkSession at 0x7fee2a6a8e50>"
      ]
     },
     "execution_count": 1,
     "metadata": {},
     "output_type": "execute_result"
    }
   ],
   "source": [
    "# Create Spark Session\n",
    "\n",
    "from pyspark.sql import SparkSession\n",
    "\n",
    "spark = SparkSession \\\n",
    "    .builder \\\n",
    "    .appName(\"Metastore with Hive Support\") \\\n",
    "    .master(\"local[*]\") \\\n",
    "    .config(\"spark.sql.warehouse.dir\", \"spark-warehouse\") \\\n",
    "    .enableHiveSupport() \\\n",
    "    .getOrCreate()\n",
    "\n",
    "spark"
   ]
  },
  {
   "cell_type": "code",
   "execution_count": 2,
   "id": "490c2507-4b96-4e28-a6be-96f2e5a894e6",
   "metadata": {},
   "outputs": [
    {
     "data": {
      "text/plain": [
       "'hive'"
      ]
     },
     "execution_count": 2,
     "metadata": {},
     "output_type": "execute_result"
    }
   ],
   "source": [
    "# Validate if catalog is Hive\n",
    "spark.conf.get(\"spark.sql.catalogImplementation\")"
   ]
  },
  {
   "cell_type": "code",
   "execution_count": 3,
   "id": "cf8ce974-1c4b-4e9e-a24a-a8569f5dac36",
   "metadata": {},
   "outputs": [],
   "source": [
    "%load_ext sparksql_magic"
   ]
  },
  {
   "cell_type": "code",
   "execution_count": 4,
   "id": "f9ae6525-35ea-4819-a8fe-b39ee280f473",
   "metadata": {},
   "outputs": [
    {
     "data": {
      "text/html": [
       "<table><tr style=\"border-bottom: 1px solid\"><td style=\"font-weight: bold\">namespace</td></tr><tr><td>default</td></tr></table>"
      ],
      "text/plain": [
       "<IPython.core.display.HTML object>"
      ]
     },
     "execution_count": 4,
     "metadata": {},
     "output_type": "execute_result"
    }
   ],
   "source": [
    "%%sparksql\n",
    "\n",
    "show databases;"
   ]
  },
  {
   "cell_type": "code",
   "execution_count": 10,
   "id": "866868d2-46b5-4c30-8e9a-47a1ce586717",
   "metadata": {},
   "outputs": [
    {
     "name": "stdout",
     "output_type": "stream",
     "text": [
      "root\n",
      " |-- transacted_at: string (nullable = true)\n",
      " |-- trx_id: string (nullable = true)\n",
      " |-- retailer_id: string (nullable = true)\n",
      " |-- description: string (nullable = true)\n",
      " |-- amount: string (nullable = true)\n",
      " |-- city_id: string (nullable = true)\n",
      "\n",
      "+--------------------+----------+-----------+--------------------+--------------------+----------+\n",
      "|       transacted_at|    trx_id|retailer_id|         description|              amount|   city_id|\n",
      "+--------------------+----------+-----------+--------------------+--------------------+----------+\n",
      "|2017-11-24T19:00:...|1995601912| 2077350195|Walgreen       11-25|197.2300000000000...| 216510442|\n",
      "|2017-11-24T19:00:...|1734117021|  644879053|unkn    ppd id: 7...|8.580000000000000000| 930259917|\n",
      "|2017-11-24T19:00:...|1734117022|  847200066|Wal-Mart  ppd id:...|1737.260000000000...|1646415505|\n",
      "|2017-11-24T19:00:...|1734117030| 1953761884|Home Depot     pp...|384.5000000000000...| 287177635|\n",
      "|2017-11-24T19:00:...|1734117089| 1898522855| Target        11-25|66.33000000000000...|1855530529|\n",
      "|2017-11-24T19:00:...|1734117117|  997626433|Sears  ppd id: 85...|298.8700000000000...| 957346984|\n",
      "|2017-11-24T19:00:...|1734117123| 1953761884|unkn   ppd id: 15...|19.55000000000000...|  45522086|\n",
      "|2017-11-24T19:00:...|1734117152| 1429095612|Ikea     arc id: ...|9.390000000000000000|1268541279|\n",
      "|2017-11-24T19:00:...|1734117153|  847200066|unkn        Kings...|2907.570000000000...|1483931123|\n",
      "|2017-11-24T19:00:...|1734117212| 1996661856|unkn    ppd id: 4...|140.3800000000000...| 336763936|\n",
      "+--------------------+----------+-----------+--------------------+--------------------+----------+\n",
      "only showing top 10 rows\n",
      "\n"
     ]
    }
   ],
   "source": [
    "# Read data from Parquet\n",
    "\n",
    "df = spark.read \\\n",
    "    .format(\"parquet\") \\\n",
    "    .load(\"dataset/sales.parquet\")\n",
    "\n",
    "df.printSchema()\n",
    "df.show(10)"
   ]
  },
  {
   "cell_type": "code",
   "execution_count": 12,
   "id": "92037e3f-bc47-424b-a7f8-1ee86353bf02",
   "metadata": {},
   "outputs": [],
   "source": [
    "# Write dataframe as table\n",
    "\n",
    "df.write.saveAsTable(\"sales_managed\")"
   ]
  },
  {
   "cell_type": "code",
   "execution_count": 5,
   "id": "9889dad1-d660-44e8-8a27-03ba9bfe3ba0",
   "metadata": {},
   "outputs": [
    {
     "data": {
      "text/html": [
       "<table><tr style=\"border-bottom: 1px solid\"><td style=\"font-weight: bold\">namespace</td><td style=\"font-weight: bold\">tableName</td><td style=\"font-weight: bold\">isTemporary</td></tr><tr><td>default</td><td>sales_managed</td><td>False</td></tr></table>"
      ],
      "text/plain": [
       "<IPython.core.display.HTML object>"
      ]
     },
     "execution_count": 5,
     "metadata": {},
     "output_type": "execute_result"
    }
   ],
   "source": [
    "%%sparksql\n",
    "\n",
    "show tables in default;"
   ]
  },
  {
   "cell_type": "code",
   "execution_count": 16,
   "id": "45272723-57a7-4240-8f7b-babf46d78a3f",
   "metadata": {},
   "outputs": [
    {
     "data": {
      "text/html": [
       "<table><tr style=\"border-bottom: 1px solid\"><td style=\"font-weight: bold\">transacted_at</td><td style=\"font-weight: bold\">trx_id</td><td style=\"font-weight: bold\">retailer_id</td><td style=\"font-weight: bold\">description</td><td style=\"font-weight: bold\">amount</td><td style=\"font-weight: bold\">city_id</td></tr><tr><td>2017-11-24T19:00:00.000Z</td><td>1995601912</td><td>2077350195</td><td>Walgreen       11-25</td><td>197.230000000000000000</td><td>216510442</td></tr><tr><td>2017-11-24T19:00:00.000Z</td><td>1734117021</td><td>644879053</td><td>unkn    ppd id: 768641     11-26</td><td>8.580000000000000000</td><td>930259917</td></tr><tr><td>2017-11-24T19:00:00.000Z</td><td>1734117022</td><td>847200066</td><td>Wal-Mart  ppd id: 555914     Algiers    11-26</td><td>1737.260000000000000000</td><td>1646415505</td></tr><tr><td>2017-11-24T19:00:00.000Z</td><td>1734117030</td><td>1953761884</td><td>Home Depot     ppd id: 265293   11-25</td><td>384.500000000000000000</td><td>287177635</td></tr><tr><td>2017-11-24T19:00:00.000Z</td><td>1734117089</td><td>1898522855</td><td>Target        11-25</td><td>66.330000000000000000</td><td>1855530529</td></tr><tr><td>2017-11-24T19:00:00.000Z</td><td>1734117117</td><td>997626433</td><td>Sears  ppd id: 856095  Ashgabat</td><td>298.870000000000000000</td><td>957346984</td></tr><tr><td>2017-11-24T19:00:00.000Z</td><td>1734117123</td><td>1953761884</td><td>unkn   ppd id: 153174    Little Rock    11-25</td><td>19.550000000000000000</td><td>45522086</td></tr><tr><td>2017-11-24T19:00:00.000Z</td><td>1734117152</td><td>1429095612</td><td>Ikea     arc id: 527956  Saint John&#x27;s   11-26</td><td>9.390000000000000000</td><td>1268541279</td></tr><tr><td>2017-11-24T19:00:00.000Z</td><td>1734117153</td><td>847200066</td><td>unkn        Kingstown</td><td>2907.570000000000000000</td><td>1483931123</td></tr><tr><td>2017-11-24T19:00:00.000Z</td><td>1734117212</td><td>1996661856</td><td>unkn    ppd id: 454437   11-24</td><td>140.380000000000000000</td><td>336763936</td></tr></table>"
      ],
      "text/plain": [
       "<IPython.core.display.HTML object>"
      ]
     },
     "execution_count": 16,
     "metadata": {},
     "output_type": "execute_result"
    }
   ],
   "source": [
    "%%sparksql\n",
    "\n",
    "select * from sales_managed limit 10;"
   ]
  },
  {
   "cell_type": "code",
   "execution_count": 21,
   "id": "d3d0e848-7f04-4f1a-905f-4ae6954c75aa",
   "metadata": {},
   "outputs": [],
   "source": [
    "# Stop Spark to check is metastore persists\n",
    "spark.stop()"
   ]
  },
  {
   "cell_type": "code",
   "execution_count": 1,
   "id": "ea9e5e69-11e9-4605-9c19-5ed65352c471",
   "metadata": {},
   "outputs": [
    {
     "data": {
      "text/html": [
       "\n",
       "            <div>\n",
       "                <p><b>SparkSession - in-memory</b></p>\n",
       "                \n",
       "        <div>\n",
       "            <p><b>SparkContext</b></p>\n",
       "\n",
       "            <p><a href=\"http://eccf28b1656f:4040\">Spark UI</a></p>\n",
       "\n",
       "            <dl>\n",
       "              <dt>Version</dt>\n",
       "                <dd><code>v3.3.0</code></dd>\n",
       "              <dt>Master</dt>\n",
       "                <dd><code>local[*]</code></dd>\n",
       "              <dt>AppName</dt>\n",
       "                <dd><code>Metastore Without HiveSupport</code></dd>\n",
       "            </dl>\n",
       "        </div>\n",
       "        \n",
       "            </div>\n",
       "        "
      ],
      "text/plain": [
       "<pyspark.sql.session.SparkSession at 0x7fe5d5c279a0>"
      ]
     },
     "execution_count": 1,
     "metadata": {},
     "output_type": "execute_result"
    }
   ],
   "source": [
    "# Create Spark Session with Hive Support\n",
    "\n",
    "from pyspark.sql import SparkSession\n",
    "\n",
    "spark = SparkSession \\\n",
    "    .builder \\\n",
    "    .appName(\"Metastore Without HiveSupport\") \\\n",
    "    .master(\"local[*]\") \\\n",
    "    .config(\"spark.sql.warehouse.dir\", \"spark-warehouse\") \\\n",
    "    .getOrCreate()\n",
    "\n",
    "spark"
   ]
  },
  {
   "cell_type": "code",
   "execution_count": 2,
   "id": "f71bd191-2dbc-44b3-a3be-059bb8ac86da",
   "metadata": {},
   "outputs": [
    {
     "data": {
      "text/plain": [
       "'in-memory'"
      ]
     },
     "execution_count": 2,
     "metadata": {},
     "output_type": "execute_result"
    }
   ],
   "source": [
    "# Validate CatalogImplementation\n",
    "spark.conf.get(\"spark.sql.catalogImplementation\")"
   ]
  },
  {
   "cell_type": "code",
   "execution_count": null,
   "id": "48e1d093-1968-4e2c-a161-5333a6a4ed18",
   "metadata": {},
   "outputs": [],
   "source": []
  }
 ],
 "metadata": {
  "kernelspec": {
   "display_name": "Python 3 (ipykernel)",
   "language": "python",
   "name": "python3"
  },
  "language_info": {
   "codemirror_mode": {
    "name": "ipython",
    "version": 3
   },
   "file_extension": ".py",
   "mimetype": "text/x-python",
   "name": "python",
   "nbconvert_exporter": "python",
   "pygments_lexer": "ipython3",
   "version": "3.10.6"
  }
 },
 "nbformat": 4,
 "nbformat_minor": 5
}
