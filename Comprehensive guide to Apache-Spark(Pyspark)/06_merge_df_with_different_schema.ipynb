{
 "cells": [
  {
   "cell_type": "markdown",
   "id": "364389ed-670a-40cf-98d7-93f241f637ef",
   "metadata": {},
   "source": [
    "# Merge two dataframe with different schema"
   ]
  },
  {
   "cell_type": "code",
   "execution_count": 1,
   "id": "f3cd2f01-0fb4-47ea-aa45-d68375514499",
   "metadata": {},
   "outputs": [
    {
     "data": {
      "text/html": [
       "\n",
       "            <div>\n",
       "                <p><b>SparkSession - in-memory</b></p>\n",
       "                \n",
       "        <div>\n",
       "            <p><b>SparkContext</b></p>\n",
       "\n",
       "            <p><a href=\"http://e85ba8ba0610:4040\">Spark UI</a></p>\n",
       "\n",
       "            <dl>\n",
       "              <dt>Version</dt>\n",
       "                <dd><code>v3.3.0</code></dd>\n",
       "              <dt>Master</dt>\n",
       "                <dd><code>local[*]</code></dd>\n",
       "              <dt>AppName</dt>\n",
       "                <dd><code>Merge Data Frames</code></dd>\n",
       "            </dl>\n",
       "        </div>\n",
       "        \n",
       "            </div>\n",
       "        "
      ],
      "text/plain": [
       "<pyspark.sql.session.SparkSession at 0x7fe89f7786d0>"
      ]
     },
     "execution_count": 1,
     "metadata": {},
     "output_type": "execute_result"
    }
   ],
   "source": [
    "# Create Spark Session\n",
    "\n",
    "from pyspark.sql import SparkSession\n",
    "\n",
    "spark = SparkSession \\\n",
    "    .builder \\\n",
    "    .appName(\"Merge Data Frames\") \\\n",
    "    .master(\"local[*]\") \\\n",
    "    .getOrCreate()\n",
    "\n",
    "spark"
   ]
  },
  {
   "cell_type": "code",
   "execution_count": 26,
   "id": "73232818-5e56-4799-96bd-58bfe1061550",
   "metadata": {},
   "outputs": [
    {
     "name": "stdout",
     "output_type": "stream",
     "text": [
      "root\n",
      " |-- ID: string (nullable = true)\n",
      " |-- NAME: string (nullable = true)\n",
      " |-- AGE: long (nullable = true)\n",
      " |-- DOB: string (nullable = true)\n",
      "\n",
      "+----+------+---+----------+\n",
      "|ID  |NAME  |AGE|DOB       |\n",
      "+----+------+---+----------+\n",
      "|C101|Akshay|21 |22-10-2001|\n",
      "|C102|Sivay |20 |07-09-2000|\n",
      "|C103|Aslam |23 |04-05-1998|\n",
      "+----+------+---+----------+\n",
      "\n"
     ]
    }
   ],
   "source": [
    "# Example DataFrame 1\n",
    "_data = [\n",
    "    [\"C101\", \"Akshay\", 21, \"22-10-2001\"],\n",
    "    [\"C102\", \"Sivay\", 20, \"07-09-2000\"],\n",
    "    [\"C103\", \"Aslam\", 23, \"04-05-1998\"],\n",
    "]\n",
    "\n",
    "_cols = [\"ID\", \"NAME\", \"AGE\", \"DOB\"]\n",
    "\n",
    "df_1 = spark.createDataFrame(data = _data, schema = _cols)\n",
    "df_1.printSchema()\n",
    "df_1.show(10, False)"
   ]
  },
  {
   "cell_type": "code",
   "execution_count": 27,
   "id": "2cc3141d-2b20-4ba5-8f55-25a88727c467",
   "metadata": {},
   "outputs": [
    {
     "name": "stdout",
     "output_type": "stream",
     "text": [
      "root\n",
      " |-- ID: string (nullable = true)\n",
      " |-- NAME: string (nullable = true)\n",
      " |-- ADDRESS: string (nullable = true)\n",
      " |-- SUBJECTS: array (nullable = true)\n",
      " |    |-- element: string (containsNull = true)\n",
      "\n",
      "+----+----+-------+-------------------------+\n",
      "|ID  |NAME|ADDRESS|SUBJECTS                 |\n",
      "+----+----+-------+-------------------------+\n",
      "|C106|Suku|Indore |[Maths, English]         |\n",
      "|C110|Jack|Mumbai |[Maths, English, Science]|\n",
      "|C113|Gopi|Rajkot |[Social Science]         |\n",
      "+----+----+-------+-------------------------+\n",
      "\n"
     ]
    }
   ],
   "source": [
    "# Example DataFrame 2\n",
    "_data = [\n",
    "    [\"C106\", \"Suku\", \"Indore\", [\"Maths\", \"English\"]],\n",
    "    [\"C110\", \"Jack\", \"Mumbai\", [\"Maths\", \"English\", \"Science\"]],\n",
    "    [\"C113\", \"Gopi\", \"Rajkot\", [\"Social Science\"]],\n",
    "]\n",
    "\n",
    "_cols = [\"ID\", \"NAME\", \"ADDRESS\", \"SUBJECTS\"]\n",
    "\n",
    "df_2 = spark.createDataFrame(data = _data, schema = _cols)\n",
    "df_2.printSchema()\n",
    "df_2.show(10, False)"
   ]
  },
  {
   "cell_type": "code",
   "execution_count": 30,
   "id": "c2da84cf-1cfe-425c-a095-702f8214f8cd",
   "metadata": {},
   "outputs": [
    {
     "name": "stdout",
     "output_type": "stream",
     "text": [
      "+----+------+---+----------+-------+--------+\n",
      "|  ID|  NAME|AGE|       DOB|ADDRESS|SUBJECTS|\n",
      "+----+------+---+----------+-------+--------+\n",
      "|C101|Akshay| 21|22-10-2001|   null|    null|\n",
      "|C102| Sivay| 20|07-09-2000|   null|    null|\n",
      "|C103| Aslam| 23|04-05-1998|   null|    null|\n",
      "+----+------+---+----------+-------+--------+\n",
      "\n",
      "+----+----+-------+--------------------+----+----+\n",
      "|  ID|NAME|ADDRESS|            SUBJECTS| AGE| DOB|\n",
      "+----+----+-------+--------------------+----+----+\n",
      "|C106|Suku| Indore|    [Maths, English]|null|null|\n",
      "|C110|Jack| Mumbai|[Maths, English, ...|null|null|\n",
      "|C113|Gopi| Rajkot|    [Social Science]|null|null|\n",
      "+----+----+-------+--------------------+----+----+\n",
      "\n"
     ]
    }
   ],
   "source": [
    "# Now before we can merge the dataframes we have to add the extra columns from either dataframes\n",
    "from pyspark.sql.functions import lit\n",
    "\n",
    "# Lets add missing columns from df_2 to df_1\n",
    "for col in df_2.columns:\n",
    "    if col not in df_1.columns:\n",
    "        df_1 = df_1.withColumn(col, lit(None))\n",
    "        \n",
    "# Lets add missing columns from df_1 to df_2\n",
    "for col in df_1.columns:\n",
    "    if col not in df_2.columns:\n",
    "        df_2 = df_2.withColumn(col, lit(None))\n",
    "        \n",
    "# View the dataframes\n",
    "df_1.show()\n",
    "df_2.show()"
   ]
  },
  {
   "cell_type": "code",
   "execution_count": 31,
   "id": "37da3ff5-6741-4963-a0af-1c3a994cffe6",
   "metadata": {},
   "outputs": [
    {
     "name": "stdout",
     "output_type": "stream",
     "text": [
      "root\n",
      " |-- ID: string (nullable = true)\n",
      " |-- NAME: string (nullable = true)\n",
      " |-- AGE: long (nullable = true)\n",
      " |-- DOB: string (nullable = true)\n",
      " |-- ADDRESS: string (nullable = true)\n",
      " |-- SUBJECTS: array (nullable = true)\n",
      " |    |-- element: string (containsNull = true)\n",
      "\n",
      "+----+------+----+----------+-------+-------------------------+\n",
      "|ID  |NAME  |AGE |DOB       |ADDRESS|SUBJECTS                 |\n",
      "+----+------+----+----------+-------+-------------------------+\n",
      "|C101|Akshay|21  |22-10-2001|null   |null                     |\n",
      "|C102|Sivay |20  |07-09-2000|null   |null                     |\n",
      "|C103|Aslam |23  |04-05-1998|null   |null                     |\n",
      "|C106|Suku  |null|null      |Indore |[Maths, English]         |\n",
      "|C110|Jack  |null|null      |Mumbai |[Maths, English, Science]|\n",
      "|C113|Gopi  |null|null      |Rajkot |[Social Science]         |\n",
      "+----+------+----+----------+-------+-------------------------+\n",
      "\n"
     ]
    }
   ],
   "source": [
    "# Lets use unionByName to do the merge successfully\n",
    "df = df_1.unionByName(df_2)\n",
    "df.printSchema()\n",
    "df.show(10, False)"
   ]
  }
 ],
 "metadata": {
  "kernelspec": {
   "display_name": "Python 3 (ipykernel)",
   "language": "python",
   "name": "python3"
  },
  "language_info": {
   "codemirror_mode": {
    "name": "ipython",
    "version": 3
   },
   "file_extension": ".py",
   "mimetype": "text/x-python",
   "name": "python",
   "nbconvert_exporter": "python",
   "pygments_lexer": "ipython3",
   "version": "3.10.6"
  }
 },
 "nbformat": 4,
 "nbformat_minor": 5
}
