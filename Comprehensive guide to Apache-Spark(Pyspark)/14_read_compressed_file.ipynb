{
 "cells": [
  {
   "cell_type": "markdown",
   "id": "a19f0a8d-1dce-429c-8fe9-212f2eb1eafb",
   "metadata": {},
   "source": [
    "# Read compressed file"
   ]
  },
  {
   "cell_type": "code",
   "execution_count": 1,
   "id": "e3699170-0eee-4311-ba2b-6b9839ea8b36",
   "metadata": {},
   "outputs": [
    {
     "data": {
      "text/html": [
       "\n",
       "            <div>\n",
       "                <p><b>SparkSession - in-memory</b></p>\n",
       "                \n",
       "        <div>\n",
       "            <p><b>SparkContext</b></p>\n",
       "\n",
       "            <p><a href=\"http://e85ba8ba0610:4040\">Spark UI</a></p>\n",
       "\n",
       "            <dl>\n",
       "              <dt>Version</dt>\n",
       "                <dd><code>v3.3.0</code></dd>\n",
       "              <dt>Master</dt>\n",
       "                <dd><code>local[*]</code></dd>\n",
       "              <dt>AppName</dt>\n",
       "                <dd><code>Compressed files</code></dd>\n",
       "            </dl>\n",
       "        </div>\n",
       "        \n",
       "            </div>\n",
       "        "
      ],
      "text/plain": [
       "<pyspark.sql.session.SparkSession at 0x7f96540f8520>"
      ]
     },
     "execution_count": 1,
     "metadata": {},
     "output_type": "execute_result"
    }
   ],
   "source": [
    "# Create Spark Session\n",
    "\n",
    "from pyspark.sql import SparkSession\n",
    "\n",
    "spark = SparkSession \\\n",
    "    .builder \\\n",
    "    .appName(\"Compressed files\") \\\n",
    "    .master(\"local[*]\") \\\n",
    "    .getOrCreate()\n",
    "\n",
    "spark"
   ]
  },
  {
   "cell_type": "code",
   "execution_count": 3,
   "id": "4e4e874d-d37f-409f-aac6-fe4937876974",
   "metadata": {},
   "outputs": [
    {
     "name": "stdout",
     "output_type": "stream",
     "text": [
      "root\n",
      " |-- transacted_at: string (nullable = true)\n",
      " |-- trx_id: string (nullable = true)\n",
      " |-- retailer_id: string (nullable = true)\n",
      " |-- description: string (nullable = true)\n",
      " |-- amount: string (nullable = true)\n",
      " |-- city_id: string (nullable = true)\n",
      "\n"
     ]
    }
   ],
   "source": [
    "# Read zipped file directly from Spark\n",
    "df_zipped = spark \\\n",
    "    .read \\\n",
    "    .format(\"csv\") \\\n",
    "    .option(\"compression\", \"gzip\") \\\n",
    "    .option(\"header\", True) \\\n",
    "    .load(\"dataset/tmp/sales.csv.gz\")\n",
    "\n",
    "df_zipped.printSchema()"
   ]
  },
  {
   "cell_type": "code",
   "execution_count": 4,
   "id": "5fde56a9-32e6-4eae-ad3e-27b41c1c54fa",
   "metadata": {},
   "outputs": [
    {
     "data": {
      "text/plain": [
       "1"
      ]
     },
     "execution_count": 4,
     "metadata": {},
     "output_type": "execute_result"
    }
   ],
   "source": [
    "# Check the number of partitions\n",
    "df_zipped.rdd.getNumPartitions()"
   ]
  },
  {
   "cell_type": "code",
   "execution_count": 5,
   "id": "f79c85fe-5a91-42ac-aef0-67927bf6ac6a",
   "metadata": {},
   "outputs": [],
   "source": [
    "%%sh\n",
    "\n",
    "gzip -d dataset/tmp/sales.csv.gz"
   ]
  },
  {
   "cell_type": "code",
   "execution_count": 6,
   "id": "260dccd3-d3e3-4474-86d7-48356626b0c0",
   "metadata": {},
   "outputs": [
    {
     "name": "stdout",
     "output_type": "stream",
     "text": [
      "total 432M\n",
      "-rw-r--r-- 1 jovyan users 432M Oct 16 11:15 sales.csv\n"
     ]
    }
   ],
   "source": [
    "%%sh\n",
    "\n",
    "ls -lhtr dataset/tmp/"
   ]
  },
  {
   "cell_type": "code",
   "execution_count": 7,
   "id": "2493d00c-7103-4af9-9c5b-e397c9b9e804",
   "metadata": {},
   "outputs": [
    {
     "name": "stdout",
     "output_type": "stream",
     "text": [
      "root\n",
      " |-- transacted_at: string (nullable = true)\n",
      " |-- trx_id: string (nullable = true)\n",
      " |-- retailer_id: string (nullable = true)\n",
      " |-- description: string (nullable = true)\n",
      " |-- amount: string (nullable = true)\n",
      " |-- city_id: string (nullable = true)\n",
      "\n"
     ]
    }
   ],
   "source": [
    "# Read un-zipped file directly from Spark\n",
    "df_unzipped = spark \\\n",
    "    .read \\\n",
    "    .format(\"csv\") \\\n",
    "    .option(\"header\", True) \\\n",
    "    .load(\"dataset/tmp/sales.csv\")\n",
    "\n",
    "df_unzipped.printSchema()"
   ]
  },
  {
   "cell_type": "code",
   "execution_count": 8,
   "id": "c07432d4-9b74-4a47-a57f-d8bdadebeeb5",
   "metadata": {},
   "outputs": [
    {
     "data": {
      "text/plain": [
       "8"
      ]
     },
     "execution_count": 8,
     "metadata": {},
     "output_type": "execute_result"
    }
   ],
   "source": [
    "# Check the number of partitions\n",
    "df_unzipped.rdd.getNumPartitions()"
   ]
  },
  {
   "cell_type": "code",
   "execution_count": null,
   "id": "281b1ae2-3746-4ec8-bcae-97d2e4303017",
   "metadata": {},
   "outputs": [],
   "source": []
  }
 ],
 "metadata": {
  "kernelspec": {
   "display_name": "Python 3 (ipykernel)",
   "language": "python",
   "name": "python3"
  },
  "language_info": {
   "codemirror_mode": {
    "name": "ipython",
    "version": 3
   },
   "file_extension": ".py",
   "mimetype": "text/x-python",
   "name": "python",
   "nbconvert_exporter": "python",
   "pygments_lexer": "ipython3",
   "version": "3.10.6"
  }
 },
 "nbformat": 4,
 "nbformat_minor": 5
}
