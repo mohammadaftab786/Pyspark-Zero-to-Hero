{
 "cells": [
  {
   "cell_type": "markdown",
   "id": "d8df35d6-b828-4d28-bab5-36decc84da6c",
   "metadata": {},
   "source": [
    "## Delta table read from Hive"
   ]
  },
  {
   "cell_type": "code",
   "execution_count": 1,
   "id": "5a63f66e-89c1-41cd-a53b-3102c8ca2d8d",
   "metadata": {},
   "outputs": [
    {
     "data": {
      "text/html": [
       "\n",
       "            <div>\n",
       "                <p><b>SparkSession - hive</b></p>\n",
       "                \n",
       "        <div>\n",
       "            <p><b>SparkContext</b></p>\n",
       "\n",
       "            <p><a href=\"http://eccf28b1656f:4040\">Spark UI</a></p>\n",
       "\n",
       "            <dl>\n",
       "              <dt>Version</dt>\n",
       "                <dd><code>v3.3.0</code></dd>\n",
       "              <dt>Master</dt>\n",
       "                <dd><code>local[*]</code></dd>\n",
       "              <dt>AppName</dt>\n",
       "                <dd><code>Delta table with Column Mapping</code></dd>\n",
       "            </dl>\n",
       "        </div>\n",
       "        \n",
       "            </div>\n",
       "        "
      ],
      "text/plain": [
       "<pyspark.sql.session.SparkSession at 0x7fca5b623430>"
      ]
     },
     "execution_count": 1,
     "metadata": {},
     "output_type": "execute_result"
    }
   ],
   "source": [
    "# Create Spark Session with Delta JARS and conf\n",
    "\n",
    "from pyspark.sql import SparkSession\n",
    "\n",
    "spark = SparkSession \\\n",
    "    .builder \\\n",
    "    .appName(\"Delta table with Column Mapping\") \\\n",
    "    .config('spark.jars.packages', 'io.delta:delta-core_2.12:2.1.1') \\\n",
    "    .config(\"spark.sql.extensions\", \"io.delta.sql.DeltaSparkSessionExtension\") \\\n",
    "    .config(\n",
    "        \"spark.sql.catalog.spark_catalog\",\n",
    "        \"org.apache.spark.sql.delta.catalog.DeltaCatalog\",\n",
    "    ) \\\n",
    "    .config(\"spark.sql.warehouse.dir\", \"spark-warehouse\") \\\n",
    "    .master(\"local[*]\") \\\n",
    "    .enableHiveSupport() \\\n",
    "    .getOrCreate()\n",
    "\n",
    "spark"
   ]
  },
  {
   "cell_type": "code",
   "execution_count": 2,
   "id": "8eeb8ecb-2ce9-4424-86cb-aaace03c2c68",
   "metadata": {},
   "outputs": [],
   "source": [
    "# pip install sparksql-magic\n",
    "# Run below command to enable sparksql\n",
    "%load_ext sparksql_magic"
   ]
  },
  {
   "cell_type": "code",
   "execution_count": 17,
   "id": "0105db55-19f7-45a3-bb36-54087c6218a9",
   "metadata": {},
   "outputs": [
    {
     "name": "stdout",
     "output_type": "stream",
     "text": [
      "+-------+--------------------+--------------------+--------------------+\n",
      "|version|           timestamp|           operation|    operationMetrics|\n",
      "+-------+--------------------+--------------------+--------------------+\n",
      "|      1|2022-11-14 10:33:...|              UPDATE|{numRemovedFiles ...|\n",
      "|      0|2022-11-14 10:32:...|CREATE OR REPLACE...|{numFiles -> 2, n...|\n",
      "+-------+--------------------+--------------------+--------------------+\n",
      "\n"
     ]
    }
   ],
   "source": [
    "from delta import DeltaTable\n",
    "\n",
    "dt = DeltaTable.forName(spark, \"sales_delta_managed\")\n",
    "dt.history().select(\"version\", \"timestamp\", \"operation\", \"operationMetrics\").show()"
   ]
  },
  {
   "cell_type": "code",
   "execution_count": 29,
   "id": "22af40e7-fd8f-4ded-8dc4-626567c8cee8",
   "metadata": {},
   "outputs": [
    {
     "data": {
      "text/html": [
       "<table><tr style=\"border-bottom: 1px solid\"><td style=\"font-weight: bold\">col_name</td><td style=\"font-weight: bold\">data_type</td><td style=\"font-weight: bold\">comment</td></tr><tr><td>transacted_at</td><td>timestamp</td><td></td></tr><tr><td>trx_id</td><td>string</td><td></td></tr><tr><td>retailer_id</td><td>string</td><td></td></tr><tr><td>description</td><td>string</td><td></td></tr><tr><td>amount</td><td>decimal(14,2)</td><td></td></tr><tr><td>city_id</td><td>string</td><td></td></tr><tr><td></td><td></td><td></td></tr><tr><td># Partitioning</td><td></td><td></td></tr><tr><td>Not partitioned</td><td></td><td></td></tr><tr><td></td><td></td><td></td></tr><tr><td># Detailed Table Information</td><td></td><td></td></tr><tr><td>Name</td><td>default.sales_delta_managed</td><td></td></tr><tr><td>Location</td><td>file:/home/jovyan/EaseWithApacheSpark/ease-with-apache-spark/spark-warehouse/sales_delta_managed</td><td></td></tr><tr><td>Provider</td><td>delta</td><td></td></tr><tr><td>Owner</td><td>jovyan</td><td></td></tr><tr><td>Table Properties</td><td>[delta.minReaderVersion=1,delta.minWriterVersion=2]</td><td></td></tr></table>"
      ],
      "text/plain": [
       "<IPython.core.display.HTML object>"
      ]
     },
     "execution_count": 29,
     "metadata": {},
     "output_type": "execute_result"
    }
   ],
   "source": [
    "%%sparksql\n",
    "\n",
    "describe extended default.sales_delta_managed;"
   ]
  },
  {
   "cell_type": "code",
   "execution_count": 24,
   "id": "67154e88-f3b9-4271-8150-6c9712149ee1",
   "metadata": {},
   "outputs": [
    {
     "data": {
      "text/html": [
       "<table><tr style=\"border-bottom: 1px solid\"></tr></table>"
      ],
      "text/plain": [
       "<IPython.core.display.HTML object>"
      ]
     },
     "execution_count": 24,
     "metadata": {},
     "output_type": "execute_result"
    }
   ],
   "source": [
    "%%sparksql\n",
    "\n",
    "CREATE TABLE default.sales_hive_table\n",
    "(\n",
    "    transacted_at timestamp,\n",
    "    trx_id string,\n",
    "    retailer_id string,\n",
    "    description string,\n",
    "    amount decimal(14,2),\n",
    "    city string   \n",
    ")\n",
    "STORED AS PARQUET\n",
    "LOCATION \"sales_delta_managed/\"\n",
    ";"
   ]
  },
  {
   "cell_type": "code",
   "execution_count": 28,
   "id": "1ccc7c0a-b099-4bd0-a08c-9276dde693d1",
   "metadata": {},
   "outputs": [
    {
     "name": "stdout",
     "output_type": "stream",
     "text": [
      "only showing top 20 row(s)\n"
     ]
    },
    {
     "data": {
      "text/html": [
       "<table><tr style=\"border-bottom: 1px solid\"><td style=\"font-weight: bold\">col_name</td><td style=\"font-weight: bold\">data_type</td><td style=\"font-weight: bold\">comment</td></tr><tr><td>transacted_at</td><td>timestamp</td><td>null</td></tr><tr><td>trx_id</td><td>string</td><td>null</td></tr><tr><td>retailer_id</td><td>string</td><td>null</td></tr><tr><td>description</td><td>string</td><td>null</td></tr><tr><td>amount</td><td>decimal(14,2)</td><td>null</td></tr><tr><td>city</td><td>string</td><td>null</td></tr><tr><td></td><td></td><td></td></tr><tr><td># Detailed Table Information</td><td></td><td></td></tr><tr><td>Database</td><td>default</td><td></td></tr><tr><td>Table</td><td>sales_hive_table</td><td></td></tr><tr><td>Owner</td><td>jovyan</td><td></td></tr><tr><td>Created Time</td><td>Sun Nov 27 04:09:06 UTC 2022</td><td></td></tr><tr><td>Last Access</td><td>UNKNOWN</td><td></td></tr><tr><td>Created By</td><td>Spark 3.3.0</td><td></td></tr><tr><td>Type</td><td>EXTERNAL</td><td></td></tr><tr><td>Provider</td><td>hive</td><td></td></tr><tr><td>Table Properties</td><td>[transient_lastDdlTime=1669522146]</td><td></td></tr><tr><td>Statistics</td><td>220114688 bytes</td><td></td></tr><tr><td>Location</td><td>file:/home/jovyan/EaseWithApacheSpark/ease-with-apache-spark/spark-warehouse/sales_delta_managed</td><td></td></tr><tr><td>Serde Library</td><td>org.apache.hadoop.hive.ql.io.parquet.serde.ParquetHiveSerDe</td><td></td></tr></table>"
      ],
      "text/plain": [
       "<IPython.core.display.HTML object>"
      ]
     },
     "execution_count": 28,
     "metadata": {},
     "output_type": "execute_result"
    }
   ],
   "source": [
    "%%sparksql\n",
    "\n",
    "describe extended default.sales_hive_table;"
   ]
  },
  {
   "cell_type": "code",
   "execution_count": 26,
   "id": "eb2342ff-6a8a-4987-bf85-ad36eb1806db",
   "metadata": {},
   "outputs": [
    {
     "data": {
      "text/html": [
       "<table><tr style=\"border-bottom: 1px solid\"><td style=\"font-weight: bold\">count(1)</td></tr><tr><td>8264112</td></tr></table>"
      ],
      "text/plain": [
       "<IPython.core.display.HTML object>"
      ]
     },
     "execution_count": 26,
     "metadata": {},
     "output_type": "execute_result"
    }
   ],
   "source": [
    "%%sparksql\n",
    "\n",
    "select count(1) from sales_hive_table;"
   ]
  },
  {
   "cell_type": "code",
   "execution_count": 27,
   "id": "74c2e6f3-05dd-440f-a427-098f17a425e1",
   "metadata": {},
   "outputs": [
    {
     "data": {
      "text/html": [
       "<table><tr style=\"border-bottom: 1px solid\"><td style=\"font-weight: bold\">count(1)</td></tr><tr><td>4132056</td></tr></table>"
      ],
      "text/plain": [
       "<IPython.core.display.HTML object>"
      ]
     },
     "execution_count": 27,
     "metadata": {},
     "output_type": "execute_result"
    }
   ],
   "source": [
    "%%sparksql\n",
    "\n",
    "select count(1) from sales_delta_managed;"
   ]
  },
  {
   "cell_type": "code",
   "execution_count": 31,
   "id": "3221bdd4-c5a8-477f-b029-b93ea2c37024",
   "metadata": {},
   "outputs": [],
   "source": [
    "# Generate the symlink manifest for the delta table\n",
    "dt.generate(\"symlink_format_manifest\")"
   ]
  },
  {
   "cell_type": "code",
   "execution_count": 42,
   "id": "73886063-73fa-49a8-8fb9-94e212082514",
   "metadata": {},
   "outputs": [
    {
     "data": {
      "text/plain": [
       "DataFrame[]"
      ]
     },
     "execution_count": 42,
     "metadata": {},
     "output_type": "execute_result"
    }
   ],
   "source": [
    "# Vaccum the delta table to read from hive\n",
    "spark.conf.set(\"spark.databricks.delta.retentionDurationCheck.enabled\",\"false\")\n",
    "dt.vacuum(0)"
   ]
  },
  {
   "cell_type": "code",
   "execution_count": 45,
   "id": "3abbba62-1997-424c-a1bf-99359eccfcb3",
   "metadata": {},
   "outputs": [
    {
     "data": {
      "text/html": [
       "<table><tr style=\"border-bottom: 1px solid\"></tr></table>"
      ],
      "text/plain": [
       "<IPython.core.display.HTML object>"
      ]
     },
     "execution_count": 45,
     "metadata": {},
     "output_type": "execute_result"
    }
   ],
   "source": [
    "%%sparksql\n",
    "\n",
    "REFRESH TABLE sales_hive_table;"
   ]
  },
  {
   "cell_type": "code",
   "execution_count": 46,
   "id": "4ec2de57-9cc2-4a0d-a76f-c7a52b9cbf40",
   "metadata": {},
   "outputs": [
    {
     "data": {
      "text/html": [
       "<table><tr style=\"border-bottom: 1px solid\"><td style=\"font-weight: bold\">count(1)</td></tr><tr><td>4132056</td></tr></table>"
      ],
      "text/plain": [
       "<IPython.core.display.HTML object>"
      ]
     },
     "execution_count": 46,
     "metadata": {},
     "output_type": "execute_result"
    }
   ],
   "source": [
    "%%sparksql\n",
    "\n",
    "\n",
    "select count(1) from sales_hive_table;"
   ]
  },
  {
   "cell_type": "code",
   "execution_count": null,
   "id": "48ef2be0-c541-4fc3-8922-5a6f86757ea8",
   "metadata": {},
   "outputs": [],
   "source": []
  }
 ],
 "metadata": {
  "kernelspec": {
   "display_name": "Python 3 (ipykernel)",
   "language": "python",
   "name": "python3"
  },
  "language_info": {
   "codemirror_mode": {
    "name": "ipython",
    "version": 3
   },
   "file_extension": ".py",
   "mimetype": "text/x-python",
   "name": "python",
   "nbconvert_exporter": "python",
   "pygments_lexer": "ipython3",
   "version": "3.10.6"
  }
 },
 "nbformat": 4,
 "nbformat_minor": 5
}
