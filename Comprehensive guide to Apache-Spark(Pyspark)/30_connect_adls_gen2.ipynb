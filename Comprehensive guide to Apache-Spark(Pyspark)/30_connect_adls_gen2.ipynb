{
 "cells": [
  {
   "cell_type": "markdown",
   "id": "337c959b-040d-4e45-9e42-03348f69dcdb",
   "metadata": {},
   "source": [
    "## Connect to ADLS Gen 2"
   ]
  },
  {
   "cell_type": "code",
   "execution_count": 1,
   "id": "1df5bfaf-1dc5-461f-8c87-079908f0f031",
   "metadata": {},
   "outputs": [
    {
     "data": {
      "text/html": [
       "\n",
       "            <div>\n",
       "                <p><b>SparkSession - in-memory</b></p>\n",
       "                \n",
       "        <div>\n",
       "            <p><b>SparkContext</b></p>\n",
       "\n",
       "            <p><a href=\"http://eccf28b1656f:4040\">Spark UI</a></p>\n",
       "\n",
       "            <dl>\n",
       "              <dt>Version</dt>\n",
       "                <dd><code>v3.3.0</code></dd>\n",
       "              <dt>Master</dt>\n",
       "                <dd><code>local[*]</code></dd>\n",
       "              <dt>AppName</dt>\n",
       "                <dd><code>Connect ADLS</code></dd>\n",
       "            </dl>\n",
       "        </div>\n",
       "        \n",
       "            </div>\n",
       "        "
      ],
      "text/plain": [
       "<pyspark.sql.session.SparkSession at 0x7fe1f8e20e80>"
      ]
     },
     "execution_count": 1,
     "metadata": {},
     "output_type": "execute_result"
    }
   ],
   "source": [
    "# Create Spark Session\n",
    "\n",
    "from pyspark.sql import SparkSession\n",
    "from pyspark import SparkConf\n",
    "\n",
    "conf = SparkConf().setAppName(\"Connect ADLS\").setMaster(\"local[*]\")\n",
    "conf.set(\"spark.jars.packages\",\"org.apache.hadoop:hadoop-azure:3.3.1\")\n",
    "\n",
    "spark = SparkSession \\\n",
    "    .builder \\\n",
    "    .config(conf=conf) \\\n",
    "    .getOrCreate()\n",
    "\n",
    "spark"
   ]
  },
  {
   "cell_type": "code",
   "execution_count": 3,
   "id": "8c2e13ca-f2a3-4cca-97b4-8179b7fb4282",
   "metadata": {},
   "outputs": [],
   "source": [
    " spark.conf.set(\"fs.azure.account.auth.type.easewithapachespark.dfs.core.windows.net\", \"OAuth\")\n",
    " spark.conf.set(\"fs.azure.account.oauth.provider.type.easewithapachespark.dfs.core.windows.net\",  \"org.apache.hadoop.fs.azurebfs.oauth2.ClientCredsTokenProvider\")\n",
    " spark.conf.set(\"fs.azure.account.oauth2.client.id.easewithapachespark.dfs.core.windows.net\", \"f5ad39b3-3223-4eb6-af73-***********\")\n",
    " spark.conf.set(\"fs.azure.account.oauth2.client.secret.easewithapachespark.dfs.core.windows.net\",\"SC58Q~xZxmXQ4VQgUDuHbJ~YZr0QCz*********\")\n",
    " spark.conf.set(\"fs.azure.account.oauth2.client.endpoint.easewithapachespark.dfs.core.windows.net\", \"https://login.microsoftonline.com/d7d52289-b2f8-4c21-99e5-ea5*******/oauth2/token\")"
   ]
  },
  {
   "cell_type": "code",
   "execution_count": 4,
   "id": "be94356e-ec0b-4711-bd8f-711a53152321",
   "metadata": {},
   "outputs": [],
   "source": [
    "spark.conf.set(\"fs.azure.createRemoteFileSystemDuringInitialization\", \"true\")"
   ]
  },
  {
   "cell_type": "code",
   "execution_count": 13,
   "id": "d084fc2e-fffe-48e7-8dab-04bf38751531",
   "metadata": {},
   "outputs": [],
   "source": [
    "# Read the dataset\n",
    "\n",
    "df = spark \\\n",
    "    .read \\\n",
    "    .format(\"csv\") \\\n",
    "    .option(\"header\", True) \\\n",
    "    .load(\"abfss://pyspark@easewithapachespark.dfs.core.windows.net/datasets/students.csv\")"
   ]
  },
  {
   "cell_type": "code",
   "execution_count": 10,
   "id": "75c57b96-9aa9-4e60-98e6-f1a6cc3b4ab7",
   "metadata": {},
   "outputs": [
    {
     "name": "stdout",
     "output_type": "stream",
     "text": [
      "+----------+----------+---------+-------+------+\n",
      "|First Name| Last Name|Dept Name|Dept ID|Salary|\n",
      "+----------+----------+---------+-------+------+\n",
      "|      Amit|     Kumar|  Physics|    PHY| 30000|\n",
      "|     Anwar|    Ansari|Chemistry|   CHEM| 30000|\n",
      "|      Rita|      null|    Maths|   MATH| 39000|\n",
      "|    Deepak|Chaturvedi|  Biology|    BIO| 30000|\n",
      "+----------+----------+---------+-------+------+\n",
      "\n"
     ]
    }
   ],
   "source": [
    "df.show()"
   ]
  },
  {
   "cell_type": "code",
   "execution_count": 19,
   "id": "2bc5ac46-29f9-4a1d-9532-532c4d581e17",
   "metadata": {},
   "outputs": [],
   "source": [
    "# Lets compute and write back to ADLS\n",
    "\n",
    "df \\\n",
    "    .write \\\n",
    "    .format(\"parquet\") \\\n",
    "    .partitionBy(\"DEPT ID\") \\\n",
    "    .save(\"abfss://pyspark@easewithapachespark.dfs.core.windows.net/output/students_parquet/\")"
   ]
  },
  {
   "cell_type": "code",
   "execution_count": null,
   "id": "413f3376-5c2b-4b88-bb1b-3b34e72525e8",
   "metadata": {},
   "outputs": [],
   "source": []
  }
 ],
 "metadata": {
  "kernelspec": {
   "display_name": "Python 3 (ipykernel)",
   "language": "python",
   "name": "python3"
  },
  "language_info": {
   "codemirror_mode": {
    "name": "ipython",
    "version": 3
   },
   "file_extension": ".py",
   "mimetype": "text/x-python",
   "name": "python",
   "nbconvert_exporter": "python",
   "pygments_lexer": "ipython3",
   "version": "3.10.6"
  }
 },
 "nbformat": 4,
 "nbformat_minor": 5
}
