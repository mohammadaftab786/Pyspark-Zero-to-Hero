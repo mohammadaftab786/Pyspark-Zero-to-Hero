{
 "cells": [
  {
   "cell_type": "markdown",
   "id": "53927771-5fe9-488f-9815-6b9818b1be5c",
   "metadata": {},
   "source": [
    "## Upsert in PySpark"
   ]
  },
  {
   "cell_type": "code",
   "execution_count": 1,
   "id": "1387c7bb-b4e8-4d52-8531-b4b2f0cf6481",
   "metadata": {},
   "outputs": [
    {
     "data": {
      "text/html": [
       "\n",
       "            <div>\n",
       "                <p><b>SparkSession - in-memory</b></p>\n",
       "                \n",
       "        <div>\n",
       "            <p><b>SparkContext</b></p>\n",
       "\n",
       "            <p><a href=\"http://eccf28b1656f:4040\">Spark UI</a></p>\n",
       "\n",
       "            <dl>\n",
       "              <dt>Version</dt>\n",
       "                <dd><code>v3.3.0</code></dd>\n",
       "              <dt>Master</dt>\n",
       "                <dd><code>local[*]</code></dd>\n",
       "              <dt>AppName</dt>\n",
       "                <dd><code>Upsert</code></dd>\n",
       "            </dl>\n",
       "        </div>\n",
       "        \n",
       "            </div>\n",
       "        "
      ],
      "text/plain": [
       "<pyspark.sql.session.SparkSession at 0x7fddcd72c790>"
      ]
     },
     "execution_count": 1,
     "metadata": {},
     "output_type": "execute_result"
    }
   ],
   "source": [
    "# Create Spark Session\n",
    "\n",
    "from pyspark.sql import SparkSession\n",
    "\n",
    "spark = SparkSession \\\n",
    "    .builder \\\n",
    "    .appName(\"Upsert\") \\\n",
    "    .master(\"local[*]\") \\\n",
    "    .getOrCreate()\n",
    "\n",
    "spark"
   ]
  },
  {
   "cell_type": "code",
   "execution_count": 4,
   "id": "7ecb395a-2020-4588-8fc2-58155f103797",
   "metadata": {},
   "outputs": [
    {
     "name": "stdout",
     "output_type": "stream",
     "text": [
      "dynamic\n"
     ]
    }
   ],
   "source": [
    "# Set the mode to dynamic to work on Upsert\n",
    "spark.conf.set(\"spark.sql.sources.partitionOverwriteMode\", \"dynamic\")\n",
    "\n",
    "# Check the mode for Partition Overwrite\n",
    "print(spark.conf.get(\"spark.sql.sources.partitionOverwriteMode\"))"
   ]
  },
  {
   "cell_type": "code",
   "execution_count": 55,
   "id": "aeafb3f8-452e-440e-9121-b78a3612b9c0",
   "metadata": {},
   "outputs": [
    {
     "name": "stdout",
     "output_type": "stream",
     "text": [
      "root\n",
      " |-- order_id: string (nullable = true)\n",
      " |-- prod_id: string (nullable = true)\n",
      " |-- qty: long (nullable = true)\n",
      " |-- order_date: date (nullable = true)\n",
      " |-- insert_date: date (nullable = true)\n",
      "\n",
      "+--------+-------+---+----------+-----------+\n",
      "|order_id|prod_id|qty|order_date|insert_date|\n",
      "+--------+-------+---+----------+-----------+\n",
      "| ORD1001|   P003| 70|2022-01-21| 2022-01-30|\n",
      "| ORD1004|   P033| 12|2022-01-24| 2022-01-30|\n",
      "| ORD1005|   P036| 10|2022-01-20| 2022-01-30|\n",
      "| ORD1002|   P016|  2|2022-01-10| 2022-01-30|\n",
      "| ORD1003|   P012|  6|2022-01-10| 2022-01-30|\n",
      "+--------+-------+---+----------+-----------+\n",
      "\n"
     ]
    }
   ],
   "source": [
    "# Create the Full history dataset\n",
    "from pyspark.sql.functions import to_date\n",
    "_data = [\n",
    "    [\"ORD1001\", \"P003\", 70, \"01-21-2022\", \"01-30-2022\"],\n",
    "    [\"ORD1004\", \"P033\", 12, \"01-24-2022\", \"01-30-2022\"],\n",
    "    [\"ORD1005\", \"P036\", 10, \"01-20-2022\", \"01-30-2022\"],\n",
    "    [\"ORD1002\", \"P016\", 2, \"01-10-2022\", \"01-30-2022\"],\n",
    "    [\"ORD1003\", \"P012\", 6, \"01-10-2022\", \"01-30-2022\"],\n",
    "]\n",
    "\n",
    "_cols = [\"order_id\", \"prod_id\", \"qty\", \"order_date\", \"insert_date\"]\n",
    "\n",
    "# Create the dataframe\n",
    "df = spark.createDataFrame(data=_data, schema=_cols)\n",
    "\n",
    "# Cast the Order date from String to Date\n",
    "df = df.withColumn(\"order_date\", to_date(\"order_date\" ,\"MM-dd-yyyy\")).withColumn(\"insert_date\", to_date(\"insert_date\" ,\"MM-dd-yyyy\"))\n",
    "df.printSchema()\n",
    "df.show()"
   ]
  },
  {
   "cell_type": "code",
   "execution_count": 56,
   "id": "a386c6f4-7247-4537-90e8-4471033a560a",
   "metadata": {},
   "outputs": [],
   "source": [
    "# Write the history data in as partitioned output partitioned by order_date\n",
    "df.repartition(\"order_date\") \\\n",
    "    .write \\\n",
    "    .format(\"parquet\") \\\n",
    "    .partitionBy(\"order_date\") \\\n",
    "    .mode(\"overwrite\") \\\n",
    "    .save(\"dataset/orders_h\")"
   ]
  },
  {
   "cell_type": "code",
   "execution_count": 57,
   "id": "9d876202-355d-4d9c-8865-bd44b130510b",
   "metadata": {},
   "outputs": [
    {
     "name": "stdout",
     "output_type": "stream",
     "text": [
      "total 16\n",
      "drwxr-sr-x 2 jovyan users 4096 Nov  4 09:20 order_date=2022-01-10\n",
      "drwxr-sr-x 2 jovyan users 4096 Nov  4 09:20 order_date=2022-01-20\n",
      "drwxr-sr-x 2 jovyan users 4096 Nov  4 09:20 order_date=2022-01-21\n",
      "drwxr-sr-x 2 jovyan users 4096 Nov  4 09:20 order_date=2022-01-24\n"
     ]
    }
   ],
   "source": [
    "%%sh\n",
    "\n",
    "ls -ltr dataset/orders_h/"
   ]
  },
  {
   "cell_type": "code",
   "execution_count": 58,
   "id": "46219fa8-52f3-498f-a765-d9bfdbac775e",
   "metadata": {},
   "outputs": [
    {
     "name": "stdout",
     "output_type": "stream",
     "text": [
      "+----------+--------+\n",
      "|order_date|count(1)|\n",
      "+----------+--------+\n",
      "|2022-01-10|       2|\n",
      "|2022-01-24|       1|\n",
      "|2022-01-21|       1|\n",
      "|2022-01-20|       1|\n",
      "+----------+--------+\n",
      "\n",
      "root\n",
      " |-- order_id: string (nullable = true)\n",
      " |-- prod_id: string (nullable = true)\n",
      " |-- qty: long (nullable = true)\n",
      " |-- insert_date: date (nullable = true)\n",
      " |-- order_date: date (nullable = true)\n",
      "\n",
      "+--------+-------+---+-----------+----------+\n",
      "|order_id|prod_id|qty|insert_date|order_date|\n",
      "+--------+-------+---+-----------+----------+\n",
      "| ORD1002|   P016|  2| 2022-01-30|2022-01-10|\n",
      "| ORD1003|   P012|  6| 2022-01-30|2022-01-10|\n",
      "| ORD1004|   P033| 12| 2022-01-30|2022-01-24|\n",
      "| ORD1001|   P003| 70| 2022-01-30|2022-01-21|\n",
      "| ORD1005|   P036| 10| 2022-01-30|2022-01-20|\n",
      "+--------+-------+---+-----------+----------+\n",
      "\n"
     ]
    }
   ],
   "source": [
    "# Validate data\n",
    "from pyspark.sql.functions import count, lit\n",
    "\n",
    "spark.read.parquet(\"dataset/orders_h/\").groupBy(\"order_date\").agg(count(lit(1))).show()\n",
    "df = spark.read.parquet(\"dataset/orders_h\")\n",
    "df.printSchema()\n",
    "df.show()"
   ]
  },
  {
   "cell_type": "code",
   "execution_count": 59,
   "id": "bd62afac-024a-4605-b39c-33a126076a60",
   "metadata": {},
   "outputs": [
    {
     "name": "stdout",
     "output_type": "stream",
     "text": [
      "root\n",
      " |-- order_id: string (nullable = true)\n",
      " |-- prod_id: string (nullable = true)\n",
      " |-- qty: long (nullable = true)\n",
      " |-- order_date: date (nullable = true)\n",
      " |-- insert_date: date (nullable = true)\n",
      "\n",
      "+--------+-------+---+----------+-----------+\n",
      "|order_id|prod_id|qty|order_date|insert_date|\n",
      "+--------+-------+---+----------+-----------+\n",
      "| ORD1002|   P016| 16|2022-01-10| 2022-01-31|\n",
      "| ORD1011|   P076| 21|2022-01-20| 2022-01-31|\n",
      "+--------+-------+---+----------+-----------+\n",
      "\n"
     ]
    }
   ],
   "source": [
    "# Lets create our delta dataset for Upsert\n",
    "# Consider the Order ORD1002 the qty is update to 16 and new order ORD1011 is added on 01-20-2022\n",
    "_data = [\n",
    "    [\"ORD1002\", \"P016\", 16, \"01-10-2022\", \"01-31-2022\"],\n",
    "    [\"ORD1011\", \"P076\", 21, \"01-20-2022\", \"01-31-2022\"],\n",
    "]\n",
    "\n",
    "_cols = [\"order_id\", \"prod_id\", \"qty\", \"order_date\", \"insert_date\"]\n",
    "\n",
    "# Create the delta dataframe\n",
    "delta_df = spark.createDataFrame(data=_data, schema=_cols)\n",
    "\n",
    "# Cast the Order date from String to Date\n",
    "delta_df = delta_df.withColumn(\"order_date\", to_date(\"order_date\" ,\"MM-dd-yyyy\")).withColumn(\"insert_date\", to_date(\"insert_date\" ,\"MM-dd-yyyy\"))\n",
    "delta_df.printSchema()\n",
    "delta_df.show()"
   ]
  },
  {
   "cell_type": "code",
   "execution_count": 60,
   "id": "49530198-b3ce-4033-b0f0-705024aa86d7",
   "metadata": {},
   "outputs": [
    {
     "name": "stdout",
     "output_type": "stream",
     "text": [
      "+----------+\n",
      "|order_date|\n",
      "+----------+\n",
      "|2022-01-10|\n",
      "|2022-01-20|\n",
      "+----------+\n",
      "\n"
     ]
    }
   ],
   "source": [
    "# For Upsert identify the impacted partitions from delta data\n",
    "impacted_df = delta_df.select(\"order_date\").distinct()\n",
    "impacted_df.show()"
   ]
  },
  {
   "cell_type": "code",
   "execution_count": 61,
   "id": "1b509a72-a509-462b-8f31-d16e5716e2d2",
   "metadata": {},
   "outputs": [
    {
     "name": "stdout",
     "output_type": "stream",
     "text": [
      "+----------+--------+-------+---+-----------+\n",
      "|order_date|order_id|prod_id|qty|insert_date|\n",
      "+----------+--------+-------+---+-----------+\n",
      "|2022-01-10| ORD1003|   P012|  6| 2022-01-30|\n",
      "|2022-01-10| ORD1002|   P016|  2| 2022-01-30|\n",
      "|2022-01-20| ORD1005|   P036| 10| 2022-01-30|\n",
      "+----------+--------+-------+---+-----------+\n",
      "\n"
     ]
    }
   ],
   "source": [
    "# Select only the impacted partitions from history dataset\n",
    "impacted_history_df = df.join(impacted_df, on=\"order_date\", how=\"inner\")\n",
    "impacted_history_df.show()"
   ]
  },
  {
   "cell_type": "code",
   "execution_count": 62,
   "id": "1691185d-8b19-4807-a38a-c582d4bd3a48",
   "metadata": {},
   "outputs": [
    {
     "name": "stdout",
     "output_type": "stream",
     "text": [
      "+----------+--------+-------+---+-----------+-----+\n",
      "|order_date|order_id|prod_id|qty|insert_date|_rank|\n",
      "+----------+--------+-------+---+-----------+-----+\n",
      "|2022-01-10| ORD1002|   P016| 16| 2022-01-31|    1|\n",
      "|2022-01-10| ORD1002|   P016|  2| 2022-01-30|    2|\n",
      "|2022-01-10| ORD1003|   P012|  6| 2022-01-30|    1|\n",
      "|2022-01-20| ORD1005|   P036| 10| 2022-01-30|    1|\n",
      "|2022-01-20| ORD1011|   P076| 21| 2022-01-31|    1|\n",
      "+----------+--------+-------+---+-----------+-----+\n",
      "\n"
     ]
    }
   ],
   "source": [
    "# Union with delta_df and find out the number records for impacted partitions\n",
    "from pyspark.sql.functions import row_number, expr\n",
    "\n",
    "union_df = impacted_history_df.unionByName(delta_df)\n",
    "ranked_delta_df = union_df.withColumn(\"_rank\", expr(\"row_number() over (partition by order_id order by insert_date desc)\"))\n",
    "ranked_delta_df.show()"
   ]
  },
  {
   "cell_type": "code",
   "execution_count": 63,
   "id": "665a0fb0-6161-4620-bf92-94a913a8d22f",
   "metadata": {},
   "outputs": [
    {
     "name": "stdout",
     "output_type": "stream",
     "text": [
      "+----------+--------+-------+---+-----------+-----+\n",
      "|order_date|order_id|prod_id|qty|insert_date|_rank|\n",
      "+----------+--------+-------+---+-----------+-----+\n",
      "|2022-01-10| ORD1002|   P016| 16| 2022-01-31|    1|\n",
      "|2022-01-10| ORD1003|   P012|  6| 2022-01-30|    1|\n",
      "|2022-01-20| ORD1005|   P036| 10| 2022-01-30|    1|\n",
      "|2022-01-20| ORD1011|   P076| 21| 2022-01-31|    1|\n",
      "+----------+--------+-------+---+-----------+-----+\n",
      "\n"
     ]
    }
   ],
   "source": [
    "# Select the records based rank to upsert\n",
    "\n",
    "final_delta_df = ranked_delta_df.where(\"_rank = 1\")\n",
    "final_delta_df.show()"
   ]
  },
  {
   "cell_type": "code",
   "execution_count": 64,
   "id": "2fb6d87d-34ae-4e52-8032-d5b5a41c5015",
   "metadata": {},
   "outputs": [],
   "source": [
    "# Lets drop the rank column write the data into the history now\n",
    "\n",
    "final_delta_df.drop(\"_rank\").repartition(\"order_date\") \\\n",
    "    .write \\\n",
    "    .format(\"parquet\") \\\n",
    "    .partitionBy(\"order_date\") \\\n",
    "    .mode(\"overwrite\") \\\n",
    "    .save(\"dataset/orders_h\")"
   ]
  },
  {
   "cell_type": "code",
   "execution_count": 65,
   "id": "69e9ae03-8c71-4055-8ab4-ae43fadaabce",
   "metadata": {},
   "outputs": [
    {
     "name": "stdout",
     "output_type": "stream",
     "text": [
      "total 16\n",
      "drwxr-sr-x 2 jovyan users 4096 Nov  4 09:20 order_date=2022-01-21\n",
      "drwxr-sr-x 2 jovyan users 4096 Nov  4 09:20 order_date=2022-01-24\n",
      "drwxr-sr-x 2 jovyan users 4096 Nov  4 09:21 order_date=2022-01-10\n",
      "drwxr-sr-x 2 jovyan users 4096 Nov  4 09:21 order_date=2022-01-20\n"
     ]
    }
   ],
   "source": [
    "%%sh\n",
    "\n",
    "ls -ltr dataset/orders_h/"
   ]
  },
  {
   "cell_type": "code",
   "execution_count": 68,
   "id": "0a8747cd-b07f-4edf-b129-6886f7d769b3",
   "metadata": {},
   "outputs": [
    {
     "name": "stdout",
     "output_type": "stream",
     "text": [
      "+----------+--------+\n",
      "|order_date|count(1)|\n",
      "+----------+--------+\n",
      "|2022-01-10|       2|\n",
      "|2022-01-20|       2|\n",
      "|2022-01-24|       1|\n",
      "|2022-01-21|       1|\n",
      "+----------+--------+\n",
      "\n",
      "+--------+-------+---+-----------+----------+\n",
      "|order_id|prod_id|qty|insert_date|order_date|\n",
      "+--------+-------+---+-----------+----------+\n",
      "| ORD1002|   P016| 16| 2022-01-31|2022-01-10|\n",
      "| ORD1003|   P012|  6| 2022-01-30|2022-01-10|\n",
      "| ORD1005|   P036| 10| 2022-01-30|2022-01-20|\n",
      "| ORD1011|   P076| 21| 2022-01-31|2022-01-20|\n",
      "| ORD1004|   P033| 12| 2022-01-30|2022-01-24|\n",
      "| ORD1001|   P003| 70| 2022-01-30|2022-01-21|\n",
      "+--------+-------+---+-----------+----------+\n",
      "\n"
     ]
    }
   ],
   "source": [
    "# Validate data\n",
    "from pyspark.sql.functions import count, lit\n",
    "\n",
    "spark.read.parquet(\"dataset/orders_h/\").groupBy(\"order_date\").agg(count(lit(1))).show()\n",
    "df = spark.read.parquet(\"dataset/orders_h\")\n",
    "df.show()"
   ]
  },
  {
   "cell_type": "code",
   "execution_count": null,
   "id": "01673298-7aba-4454-adb0-0e21fd42104a",
   "metadata": {},
   "outputs": [],
   "source": []
  }
 ],
 "metadata": {
  "kernelspec": {
   "display_name": "Python 3 (ipykernel)",
   "language": "python",
   "name": "python3"
  },
  "language_info": {
   "codemirror_mode": {
    "name": "ipython",
    "version": 3
   },
   "file_extension": ".py",
   "mimetype": "text/x-python",
   "name": "python",
   "nbconvert_exporter": "python",
   "pygments_lexer": "ipython3",
   "version": "3.10.6"
  }
 },
 "nbformat": 4,
 "nbformat_minor": 5
}
