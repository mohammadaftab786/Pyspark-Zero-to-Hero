{
 "cells": [
  {
   "cell_type": "markdown",
   "id": "ac8bd51b-5167-49f0-94d3-80cd8653d278",
   "metadata": {},
   "source": [
    "## Optimize data scanning"
   ]
  },
  {
   "cell_type": "code",
   "execution_count": 2,
   "id": "b4ca5e8a-a1e7-44ae-a7e3-b1a278e80c3f",
   "metadata": {},
   "outputs": [],
   "source": [
    "# Placeholder: checkout - https://urlit.me/blog/pyspark-optimize-data-scanning-exponentially/"
   ]
  },
  {
   "cell_type": "code",
   "execution_count": null,
   "id": "c0e9cc87-5c17-4b97-8f91-14095937d470",
   "metadata": {},
   "outputs": [],
   "source": []
  }
 ],
 "metadata": {
  "kernelspec": {
   "display_name": "Python 3 (ipykernel)",
   "language": "python",
   "name": "python3"
  },
  "language_info": {
   "codemirror_mode": {
    "name": "ipython",
    "version": 3
   },
   "file_extension": ".py",
   "mimetype": "text/x-python",
   "name": "python",
   "nbconvert_exporter": "python",
   "pygments_lexer": "ipython3",
   "version": "3.10.6"
  }
 },
 "nbformat": 4,
 "nbformat_minor": 5
}
