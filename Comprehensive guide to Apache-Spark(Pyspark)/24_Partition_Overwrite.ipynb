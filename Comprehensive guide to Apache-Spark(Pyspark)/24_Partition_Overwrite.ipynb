{
 "cells": [
  {
   "cell_type": "markdown",
   "id": "37fa0b39-e276-409e-8d5d-b8dfe7f6425b",
   "metadata": {},
   "source": [
    "## Dynamic Partition Overwrite"
   ]
  },
  {
   "cell_type": "code",
   "execution_count": 1,
   "id": "0d92d87a-50c3-43fc-9e86-662584f8e0ae",
   "metadata": {},
   "outputs": [
    {
     "data": {
      "text/html": [
       "\n",
       "            <div>\n",
       "                <p><b>SparkSession - in-memory</b></p>\n",
       "                \n",
       "        <div>\n",
       "            <p><b>SparkContext</b></p>\n",
       "\n",
       "            <p><a href=\"http://eccf28b1656f:4040\">Spark UI</a></p>\n",
       "\n",
       "            <dl>\n",
       "              <dt>Version</dt>\n",
       "                <dd><code>v3.3.0</code></dd>\n",
       "              <dt>Master</dt>\n",
       "                <dd><code>local[2]</code></dd>\n",
       "              <dt>AppName</dt>\n",
       "                <dd><code>Partition Overwrite</code></dd>\n",
       "            </dl>\n",
       "        </div>\n",
       "        \n",
       "            </div>\n",
       "        "
      ],
      "text/plain": [
       "<pyspark.sql.session.SparkSession at 0x7f68782c7970>"
      ]
     },
     "execution_count": 1,
     "metadata": {},
     "output_type": "execute_result"
    }
   ],
   "source": [
    "# Create Spark Session\n",
    "\n",
    "from pyspark.sql import SparkSession\n",
    "\n",
    "spark = SparkSession \\\n",
    "    .builder \\\n",
    "    .appName(\"Partition Overwrite\") \\\n",
    "    .master(\"local[2]\") \\\n",
    "    .getOrCreate()\n",
    "\n",
    "spark"
   ]
  },
  {
   "cell_type": "code",
   "execution_count": 14,
   "id": "e4954f28-5dc8-4508-a504-89b3ba759f1f",
   "metadata": {},
   "outputs": [
    {
     "name": "stdout",
     "output_type": "stream",
     "text": [
      "root\n",
      " |-- order_id: string (nullable = true)\n",
      " |-- prod_id: string (nullable = true)\n",
      " |-- qty: long (nullable = true)\n",
      " |-- order_date: date (nullable = true)\n",
      "\n",
      "+--------+-------+---+----------+\n",
      "|order_id|prod_id|qty|order_date|\n",
      "+--------+-------+---+----------+\n",
      "| ORD1001|   P003| 70|2022-01-21|\n",
      "| ORD1004|   P033| 12|2022-01-24|\n",
      "| ORD1005|   P036| 10|2022-01-20|\n",
      "| ORD1002|   P016|  2|2022-01-10|\n",
      "| ORD1003|   P012|  6|2022-01-10|\n",
      "+--------+-------+---+----------+\n",
      "\n"
     ]
    }
   ],
   "source": [
    "# Example dataset\n",
    "from pyspark.sql.functions import cast, to_date\n",
    "_data = [\n",
    "    [\"ORD1001\", \"P003\", 70, \"01-21-2022\"],\n",
    "    [\"ORD1004\", \"P033\", 12, \"01-24-2022\"],\n",
    "    [\"ORD1005\", \"P036\", 10, \"01-20-2022\"],\n",
    "    [\"ORD1002\", \"P016\", 2, \"01-10-2022\"],\n",
    "    [\"ORD1003\", \"P012\", 6, \"01-10-2022\"],\n",
    "]\n",
    "\n",
    "_cols = [\"order_id\", \"prod_id\", \"qty\", \"order_date\"]\n",
    "\n",
    "# Create the dataframe\n",
    "df = spark.createDataFrame(data=_data, schema=_cols)\n",
    "\n",
    "# Cast the Order date from String to Date\n",
    "df = df.withColumn(\"order_date\", to_date(\"order_date\" ,\"MM-dd-yyyy\"))\n",
    "df.printSchema()\n",
    "df.show()"
   ]
  },
  {
   "cell_type": "code",
   "execution_count": 19,
   "id": "f36185ef-9894-4a8a-8fab-bec9422c10c1",
   "metadata": {},
   "outputs": [
    {
     "data": {
      "text/plain": [
       "'STATIC'"
      ]
     },
     "execution_count": 19,
     "metadata": {},
     "output_type": "execute_result"
    }
   ],
   "source": [
    "# Check the mode for Partition Overwrite\n",
    "spark.conf.get(\"spark.sql.sources.partitionOverwriteMode\")"
   ]
  },
  {
   "cell_type": "code",
   "execution_count": 17,
   "id": "4b394b78-0f88-461a-8e17-5d7b09c2911c",
   "metadata": {},
   "outputs": [],
   "source": [
    "# Lets repartition the data with order_date and write\n",
    "\n",
    "df.repartition(\"order_date\") \\\n",
    "    .write \\\n",
    "    .format(\"parquet\") \\\n",
    "    .partitionBy(\"order_date\") \\\n",
    "    .mode(\"overwrite\") \\\n",
    "    .save(\"dataset/orders_partitioned\")"
   ]
  },
  {
   "cell_type": "code",
   "execution_count": 18,
   "id": "253acc41-9b8c-41d4-aa24-2d3d20527476",
   "metadata": {},
   "outputs": [
    {
     "name": "stdout",
     "output_type": "stream",
     "text": [
      "total 16\n",
      "drwxr-sr-x 2 jovyan users 4096 Nov  1 06:03 order_date=2022-01-10\n",
      "drwxr-sr-x 2 jovyan users 4096 Nov  1 06:03 order_date=2022-01-20\n",
      "drwxr-sr-x 2 jovyan users 4096 Nov  1 06:03 order_date=2022-01-21\n",
      "drwxr-sr-x 2 jovyan users 4096 Nov  1 06:03 order_date=2022-01-24\n",
      "-rw-r--r-- 1 jovyan users    0 Nov  1 06:03 _SUCCESS\n"
     ]
    }
   ],
   "source": [
    "%%sh\n",
    "\n",
    "ls -ltr dataset/orders_partitioned/"
   ]
  },
  {
   "cell_type": "code",
   "execution_count": 21,
   "id": "fe17ce65-9ddc-40d4-b6a0-23a7a00885bb",
   "metadata": {},
   "outputs": [
    {
     "name": "stdout",
     "output_type": "stream",
     "text": [
      "+----------+--------+\n",
      "|order_date|count(1)|\n",
      "+----------+--------+\n",
      "|2022-01-24|       1|\n",
      "|2022-01-21|       1|\n",
      "|2022-01-10|       2|\n",
      "|2022-01-20|       1|\n",
      "+----------+--------+\n",
      "\n"
     ]
    }
   ],
   "source": [
    "# Validate data\n",
    "from pyspark.sql.functions import count, lit\n",
    "\n",
    "spark.read.parquet(\"dataset/orders_partitioned/\").groupBy(\"order_date\").agg(count(lit(1))).show()"
   ]
  },
  {
   "cell_type": "code",
   "execution_count": 22,
   "id": "b6a61128-c358-4aac-8696-f1ba02e9fb96",
   "metadata": {},
   "outputs": [
    {
     "name": "stdout",
     "output_type": "stream",
     "text": [
      "root\n",
      " |-- order_id: string (nullable = true)\n",
      " |-- prod_id: string (nullable = true)\n",
      " |-- qty: long (nullable = true)\n",
      " |-- order_date: date (nullable = true)\n",
      "\n",
      "+--------+-------+---+----------+\n",
      "|order_id|prod_id|qty|order_date|\n",
      "+--------+-------+---+----------+\n",
      "| ORD1010|   P053| 78|2022-01-24|\n",
      "| ORD1011|   P076| 21|2022-01-20|\n",
      "+--------+-------+---+----------+\n",
      "\n"
     ]
    }
   ],
   "source": [
    "# Lets create our delta dataset for Overwrite\n",
    "\n",
    "_data = [\n",
    "    [\"ORD1010\", \"P053\", 78, \"01-24-2022\"],\n",
    "    [\"ORD1011\", \"P076\", 21, \"01-20-2022\"],\n",
    "]\n",
    "\n",
    "_cols = [\"order_id\", \"prod_id\", \"qty\", \"order_date\"]\n",
    "\n",
    "# Create the delta dataframe\n",
    "delta_df = spark.createDataFrame(data=_data, schema=_cols)\n",
    "\n",
    "# Cast the Order date from String to Date\n",
    "delta_df = delta_df.withColumn(\"order_date\", to_date(\"order_date\" ,\"MM-dd-yyyy\"))\n",
    "delta_df.printSchema()\n",
    "delta_df.show()"
   ]
  },
  {
   "cell_type": "code",
   "execution_count": 23,
   "id": "bbc350eb-0d73-42b2-a102-4069f0c00155",
   "metadata": {},
   "outputs": [],
   "source": [
    "# Lets write to the same location for Orders partitioned\n",
    "\n",
    "delta_df.repartition(\"order_date\") \\\n",
    "    .write \\\n",
    "    .format(\"parquet\") \\\n",
    "    .partitionBy(\"order_date\") \\\n",
    "    .mode(\"overwrite\") \\\n",
    "    .save(\"dataset/orders_partitioned\")"
   ]
  },
  {
   "cell_type": "code",
   "execution_count": 24,
   "id": "12161c15-1a88-4d8f-b94f-0a7bdd416343",
   "metadata": {},
   "outputs": [
    {
     "name": "stdout",
     "output_type": "stream",
     "text": [
      "total 8\n",
      "drwxr-sr-x 2 jovyan users 4096 Nov  1 06:10 order_date=2022-01-20\n",
      "drwxr-sr-x 2 jovyan users 4096 Nov  1 06:10 order_date=2022-01-24\n",
      "-rw-r--r-- 1 jovyan users    0 Nov  1 06:10 _SUCCESS\n"
     ]
    }
   ],
   "source": [
    "%%sh\n",
    "\n",
    "ls -ltr dataset/orders_partitioned/"
   ]
  },
  {
   "cell_type": "code",
   "execution_count": 25,
   "id": "45b44a9e-1a59-4888-a93d-0b6dfef639da",
   "metadata": {},
   "outputs": [
    {
     "name": "stdout",
     "output_type": "stream",
     "text": [
      "+----------+--------+\n",
      "|order_date|count(1)|\n",
      "+----------+--------+\n",
      "|2022-01-24|       1|\n",
      "|2022-01-20|       1|\n",
      "+----------+--------+\n",
      "\n"
     ]
    }
   ],
   "source": [
    "# Validate data\n",
    "from pyspark.sql.functions import count, lit\n",
    "\n",
    "spark.read.parquet(\"dataset/orders_partitioned/\").groupBy(\"order_date\").agg(count(lit(1))).show()"
   ]
  },
  {
   "cell_type": "markdown",
   "id": "69cfa868-920a-484e-ba29-7be226f2c371",
   "metadata": {},
   "source": [
    "### Lets follow the same example but this time with partitionOverwriteMode as \"DYNAMIC\""
   ]
  },
  {
   "cell_type": "code",
   "execution_count": 28,
   "id": "43bde803-5238-4143-b6fb-48fa0ae163a1",
   "metadata": {},
   "outputs": [
    {
     "data": {
      "text/plain": [
       "'dynamic'"
      ]
     },
     "execution_count": 28,
     "metadata": {},
     "output_type": "execute_result"
    }
   ],
   "source": [
    "# Setting the partitionOverwriteMode as DYNAMIC\n",
    "\n",
    "spark.conf.set(\"spark.sql.sources.partitionOverwriteMode\", \"dynamic\")\n",
    "spark.conf.get(\"spark.sql.sources.partitionOverwriteMode\")"
   ]
  },
  {
   "cell_type": "code",
   "execution_count": 29,
   "id": "fbf452d3-aa64-484a-a7b3-3d6e9ccd3426",
   "metadata": {},
   "outputs": [
    {
     "name": "stdout",
     "output_type": "stream",
     "text": [
      "root\n",
      " |-- order_id: string (nullable = true)\n",
      " |-- prod_id: string (nullable = true)\n",
      " |-- qty: long (nullable = true)\n",
      " |-- order_date: date (nullable = true)\n",
      "\n",
      "+--------+-------+---+----------+\n",
      "|order_id|prod_id|qty|order_date|\n",
      "+--------+-------+---+----------+\n",
      "| ORD1001|   P003| 70|2022-01-21|\n",
      "| ORD1004|   P033| 12|2022-01-24|\n",
      "| ORD1005|   P036| 10|2022-01-20|\n",
      "| ORD1002|   P016|  2|2022-01-10|\n",
      "| ORD1003|   P012|  6|2022-01-10|\n",
      "+--------+-------+---+----------+\n",
      "\n"
     ]
    }
   ],
   "source": [
    "# Example dataset\n",
    "from pyspark.sql.functions import cast, to_date\n",
    "_data = [\n",
    "    [\"ORD1001\", \"P003\", 70, \"01-21-2022\"],\n",
    "    [\"ORD1004\", \"P033\", 12, \"01-24-2022\"],\n",
    "    [\"ORD1005\", \"P036\", 10, \"01-20-2022\"],\n",
    "    [\"ORD1002\", \"P016\", 2, \"01-10-2022\"],\n",
    "    [\"ORD1003\", \"P012\", 6, \"01-10-2022\"],\n",
    "]\n",
    "\n",
    "_cols = [\"order_id\", \"prod_id\", \"qty\", \"order_date\"]\n",
    "\n",
    "# Create the dataframe\n",
    "df = spark.createDataFrame(data=_data, schema=_cols)\n",
    "\n",
    "# Cast the Order date from String to Date\n",
    "df = df.withColumn(\"order_date\", to_date(\"order_date\" ,\"MM-dd-yyyy\"))\n",
    "df.printSchema()\n",
    "df.show()"
   ]
  },
  {
   "cell_type": "code",
   "execution_count": 30,
   "id": "4ebba3ea-0669-4570-a05b-e5751022e5c1",
   "metadata": {},
   "outputs": [],
   "source": [
    "# Lets repartition the data with order_date and write\n",
    "\n",
    "df.repartition(\"order_date\") \\\n",
    "    .write \\\n",
    "    .format(\"parquet\") \\\n",
    "    .partitionBy(\"order_date\") \\\n",
    "    .mode(\"overwrite\") \\\n",
    "    .save(\"dataset/orders_partitioned\")"
   ]
  },
  {
   "cell_type": "code",
   "execution_count": 33,
   "id": "78518de0-71ca-4bff-8563-b18769c0d0bc",
   "metadata": {},
   "outputs": [
    {
     "name": "stdout",
     "output_type": "stream",
     "text": [
      "total 16\n",
      "-rw-r--r-- 1 jovyan users    0 Nov  1 06:10 _SUCCESS\n",
      "drwxr-sr-x 2 jovyan users 4096 Nov  1 06:13 order_date=2022-01-10\n",
      "drwxr-sr-x 2 jovyan users 4096 Nov  1 06:13 order_date=2022-01-20\n",
      "drwxr-sr-x 2 jovyan users 4096 Nov  1 06:13 order_date=2022-01-21\n",
      "drwxr-sr-x 2 jovyan users 4096 Nov  1 06:13 order_date=2022-01-24\n"
     ]
    }
   ],
   "source": [
    "%%sh\n",
    "\n",
    "ls -ltr dataset/orders_partitioned/"
   ]
  },
  {
   "cell_type": "code",
   "execution_count": 34,
   "id": "c06a4ce8-ec83-418c-9eea-71755b0509ab",
   "metadata": {},
   "outputs": [
    {
     "name": "stdout",
     "output_type": "stream",
     "text": [
      "+----------+--------+\n",
      "|order_date|count(1)|\n",
      "+----------+--------+\n",
      "|2022-01-24|       1|\n",
      "|2022-01-21|       1|\n",
      "|2022-01-10|       2|\n",
      "|2022-01-20|       1|\n",
      "+----------+--------+\n",
      "\n"
     ]
    }
   ],
   "source": [
    "# Validate data\n",
    "from pyspark.sql.functions import count, lit\n",
    "\n",
    "spark.read.parquet(\"dataset/orders_partitioned/\").groupBy(\"order_date\").agg(count(lit(1))).show()"
   ]
  },
  {
   "cell_type": "code",
   "execution_count": 39,
   "id": "ba6b5d67-15d8-4607-8260-1fefa567458b",
   "metadata": {},
   "outputs": [
    {
     "name": "stdout",
     "output_type": "stream",
     "text": [
      "root\n",
      " |-- order_id: string (nullable = true)\n",
      " |-- prod_id: string (nullable = true)\n",
      " |-- qty: long (nullable = true)\n",
      " |-- order_date: date (nullable = true)\n",
      "\n",
      "+--------+-------+---+----------+\n",
      "|order_id|prod_id|qty|order_date|\n",
      "+--------+-------+---+----------+\n",
      "| ORD1010|   P053| 78|2022-01-24|\n",
      "| ORD1011|   P076| 21|2022-01-10|\n",
      "+--------+-------+---+----------+\n",
      "\n"
     ]
    }
   ],
   "source": [
    "# Lets create our delta dataset for Overwrite\n",
    "\n",
    "_data = [\n",
    "    [\"ORD1010\", \"P053\", 78, \"01-24-2022\"],\n",
    "    [\"ORD1011\", \"P076\", 21, \"01-10-2022\"],\n",
    "]\n",
    "\n",
    "_cols = [\"order_id\", \"prod_id\", \"qty\", \"order_date\"]\n",
    "\n",
    "# Create the delta dataframe\n",
    "delta_df = spark.createDataFrame(data=_data, schema=_cols)\n",
    "\n",
    "# Cast the Order date from String to Date\n",
    "delta_df = delta_df.withColumn(\"order_date\", to_date(\"order_date\" ,\"MM-dd-yyyy\"))\n",
    "delta_df.printSchema()\n",
    "delta_df.show()"
   ]
  },
  {
   "cell_type": "code",
   "execution_count": 40,
   "id": "854e0f82-7041-4c98-ae3f-fb889906c128",
   "metadata": {},
   "outputs": [],
   "source": [
    "# Lets write to the same location for Orders partitioned\n",
    "\n",
    "delta_df.repartition(\"order_date\") \\\n",
    "    .write \\\n",
    "    .format(\"parquet\") \\\n",
    "    .partitionBy(\"order_date\") \\\n",
    "    .mode(\"overwrite\") \\\n",
    "    .save(\"dataset/orders_partitioned\")"
   ]
  },
  {
   "cell_type": "code",
   "execution_count": 41,
   "id": "111e5fc1-6fd5-49a4-975a-e83375d58fcb",
   "metadata": {},
   "outputs": [
    {
     "name": "stdout",
     "output_type": "stream",
     "text": [
      "total 16\n",
      "-rw-r--r-- 1 jovyan users    0 Nov  1 06:10 _SUCCESS\n",
      "drwxr-sr-x 2 jovyan users 4096 Nov  1 06:13 order_date=2022-01-21\n",
      "drwxr-sr-x 2 jovyan users 4096 Nov  1 06:14 order_date=2022-01-20\n",
      "drwxr-sr-x 2 jovyan users 4096 Nov  1 06:15 order_date=2022-01-10\n",
      "drwxr-sr-x 2 jovyan users 4096 Nov  1 06:15 order_date=2022-01-24\n"
     ]
    }
   ],
   "source": [
    "%%sh\n",
    "\n",
    "ls -ltr dataset/orders_partitioned/"
   ]
  },
  {
   "cell_type": "code",
   "execution_count": 42,
   "id": "d5e81ea2-74db-4cbf-b6bc-8d04717de615",
   "metadata": {},
   "outputs": [
    {
     "name": "stdout",
     "output_type": "stream",
     "text": [
      "+----------+--------+\n",
      "|order_date|count(1)|\n",
      "+----------+--------+\n",
      "|2022-01-10|       1|\n",
      "|2022-01-24|       1|\n",
      "|2022-01-20|       1|\n",
      "|2022-01-21|       1|\n",
      "+----------+--------+\n",
      "\n"
     ]
    }
   ],
   "source": [
    "# Validate data\n",
    "from pyspark.sql.functions import count, lit\n",
    "\n",
    "spark.read.parquet(\"dataset/orders_partitioned/\").groupBy(\"order_date\").agg(count(lit(1))).show()"
   ]
  },
  {
   "cell_type": "code",
   "execution_count": null,
   "id": "95ea8831-1b1f-45ed-9d9f-91fa8d18b9ed",
   "metadata": {},
   "outputs": [],
   "source": []
  }
 ],
 "metadata": {
  "kernelspec": {
   "display_name": "Python 3 (ipykernel)",
   "language": "python",
   "name": "python3"
  },
  "language_info": {
   "codemirror_mode": {
    "name": "ipython",
    "version": 3
   },
   "file_extension": ".py",
   "mimetype": "text/x-python",
   "name": "python",
   "nbconvert_exporter": "python",
   "pygments_lexer": "ipython3",
   "version": "3.10.6"
  }
 },
 "nbformat": 4,
 "nbformat_minor": 5
}
