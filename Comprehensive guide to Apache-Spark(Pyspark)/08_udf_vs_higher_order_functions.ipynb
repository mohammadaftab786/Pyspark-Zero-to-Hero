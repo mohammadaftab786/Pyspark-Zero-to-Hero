{
 "cells": [
  {
   "cell_type": "markdown",
   "id": "de1e42d6-8351-428f-924c-d1b790550359",
   "metadata": {},
   "source": [
    "# UDF vs Higher order functions"
   ]
  },
  {
   "cell_type": "code",
   "execution_count": 1,
   "id": "094d2593-004d-41bc-b232-f0a5e1b424b0",
   "metadata": {},
   "outputs": [
    {
     "data": {
      "text/html": [
       "\n",
       "            <div>\n",
       "                <p><b>SparkSession - in-memory</b></p>\n",
       "                \n",
       "        <div>\n",
       "            <p><b>SparkContext</b></p>\n",
       "\n",
       "            <p><a href=\"http://e85ba8ba0610:4041\">Spark UI</a></p>\n",
       "\n",
       "            <dl>\n",
       "              <dt>Version</dt>\n",
       "                <dd><code>v3.3.0</code></dd>\n",
       "              <dt>Master</dt>\n",
       "                <dd><code>local[*]</code></dd>\n",
       "              <dt>AppName</dt>\n",
       "                <dd><code>UDF vs Higher Order Functions</code></dd>\n",
       "            </dl>\n",
       "        </div>\n",
       "        \n",
       "            </div>\n",
       "        "
      ],
      "text/plain": [
       "<pyspark.sql.session.SparkSession at 0x7fbfad151b40>"
      ]
     },
     "execution_count": 1,
     "metadata": {},
     "output_type": "execute_result"
    }
   ],
   "source": [
    "# Create Spark Session\n",
    "\n",
    "from pyspark.sql import SparkSession\n",
    "\n",
    "spark = SparkSession \\\n",
    "    .builder \\\n",
    "    .appName(\"UDF vs Higher Order Functions\") \\\n",
    "    .master(\"local[*]\") \\\n",
    "    .getOrCreate()\n",
    "\n",
    "spark"
   ]
  },
  {
   "cell_type": "code",
   "execution_count": 47,
   "id": "12d0c9dc-9320-4738-b524-85b61bf38d27",
   "metadata": {},
   "outputs": [
    {
     "name": "stdout",
     "output_type": "stream",
     "text": [
      "root\n",
      " |-- id: long (nullable = true)\n",
      " |-- cities: array (nullable = true)\n",
      " |    |-- element: string (containsNull = true)\n",
      "\n",
      "+---+--------------------+\n",
      "| id|              cities|\n",
      "+---+--------------------+\n",
      "|  1|[Bangalore, Mumba...|\n",
      "|  2|         [Bangalore]|\n",
      "|  3|                  []|\n",
      "|  4|[Kolkata, Bhubane...|\n",
      "|  5|[Bangalore, Mumba...|\n",
      "|  6|[Delhi, Mumbai, K...|\n",
      "+---+--------------------+\n",
      "\n"
     ]
    }
   ],
   "source": [
    "# Example Data Frame\n",
    "\n",
    "_data = [\n",
    "    [1, [\"Bangalore\", \"Mumbai\", \"Pune\", \"Indore\"]],\n",
    "    [2, [\"Bangalore\"]],\n",
    "    [3, []],\n",
    "    [4, [\"Kolkata\", \"Bhubaneshwar\"]],\n",
    "    [5, [\"Bangalore\", \"Mumbai\", \"Pune\", \"Indore\", \"Ahmedabad\", \"Suratkal\"]],\n",
    "    [6, [\"Delhi\", \"Mumbai\", \"Kolkāta\", \"Bangalore\", \"Chennai\", \"Hyderābād\", \"Pune\", \"Ahmedabad\", \"Sūrat\", \"Lucknow\", \"Jaipur\", \"Cawnpore\", \"Mirzāpur\", \"Nāgpur\", \"Ghāziābād\", \"Indore\", \"Vadodara\", \"Vishākhapatnam\", \"Bhopāl\", \"Chinchvad\", \"Patna\", \"Ludhiāna\", \"Āgra\", \"Kalyān\", \"Madurai\", \"Jamshedpur\", \"Nāsik\", \"Farīdābād\", \"Aurangābād\", \"Rājkot\", \"Meerut\", \"Jabalpur\", \"Thāne\", \"Dhanbād\", \"Allahābād\", \"Vārānasi\", \"Srīnagar\", \"Amritsar\", \"Alīgarh\", \"Bhiwandi\", \"Gwalior\", \"Bhilai\", \"Hāora\", \"Rānchi\", \"Bezwāda\", \"Chandīgarh\", \"Mysore\", \"Raipur\", \"Kota\", \"Bareilly\", \"Jodhpur\", \"Coimbatore\", \"Dispur\", \"Guwāhāti\", \"Solāpur\", \"Trichinopoly\", \"Hubli\", \"Jalandhar\", \"Bhubaneshwar\", \"Bhayandar\", \"Morādābād\", \"Kolhāpur\", \"Thiruvananthapuram\", \"Sahāranpur\", \"Warangal\", \"Salem\", \"Mālegaon\", \"Kochi\", \"Gorakhpur\", \"Shimoga\", \"Tiruppūr\", \"Guntūr\", \"Raurkela\", \"Mangalore\", \"Nānded\", \"Cuttack\", \"Chānda\", \"Dehra Dūn\", \"Durgāpur\", \"Āsansol\", \"Bhāvnagar\", \"Amrāvati\", \"Nellore\", \"Ajmer\", \"Tinnevelly\", \"Bīkaner\", \"Agartala\", \"Ujjain\", \"Jhānsi\", \"Ulhāsnagar\", \"Davangere\", \"Jammu\", \"Belgaum\", \"Gulbarga\", \"Jāmnagar\", \"Dhūlia\", \"Gaya\", \"Jalgaon\", \"Kurnool\", \"Udaipur\", \"Bellary\", \"Sāngli\", \"Tuticorin\", \"Calicut\", \"Akola\", \"Bhāgalpur\", \"Sīkar\", \"Tumkūr\", \"Quilon\", \"Muzaffarnagar\", \"Bhīlwāra\", \"Nizāmābād\", \"Bhātpāra\", \"Kākināda\", \"Parbhani\", \"Pānihāti\", \"Lātūr\", \"Rohtak\", \"Rājapālaiyam\", \"Ahmadnagar\", \"Cuddapah\", \"Rājahmundry\", \"Alwar\", \"Muzaffarpur\", \"Bilāspur\", \"Mathura\", \"Kāmārhāti\", \"Patiāla\", \"Saugor\", \"Bijāpur\", \"Brahmapur\", \"Shāhjānpur\", \"Trichūr\", \"Barddhamān\", \"Kulti\", \"Sambalpur\", \"Purnea\", \"Hisar\", \"Fīrozābād\", \"Bīdar\", \"Rāmpur\", \"Shiliguri\", \"Bāli\", \"Pānīpat\", \"Karīmnagar\", \"Bhuj\", \"Ichalkaranji\", \"Tirupati\", \"Hospet\", \"Āīzawl\", \"Sannai\", \"Bārāsat\", \"Ratlām\", \"Handwāra\", \"Drug\", \"Imphāl\", \"Anantapur\", \"Etāwah\", \"Rāichūr\", \"Ongole\", \"Bharatpur\", \"Begusarai\", \"Sonīpat\", \"Rāmgundam\", \"Hāpur\", \"Uluberiya\", \"Porbandar\", \"Pāli\", \"Vizianagaram\", \"Puducherry\", \"Karnāl\", \"Nāgercoil\", \"Tanjore\", \"Sambhal\", \"Naihāti\", \"Secunderābād\", \"Kharagpur\", \"Dindigul\", \"Shimla\", \"Ingrāj Bāzār\", \"Ellore\", \"Puri\", \"Haldia\", \"Nandyāl\", \"Bulandshahr\", \"Chakradharpur\", \"Bhiwāni\", \"Gurgaon\", \"Burhānpur\", \"Khammam\", \"Madhyamgram\", \"Ghāndīnagar\", \"Baharampur\", \"Mahbūbnagar\", \"Mahesāna\", \"Ādoni\", \"Rāiganj\", \"Bhusāval\", \"Bahraigh\", \"Shrīrāmpur\", \"Tonk\", \"Sirsa\", \"Jaunpur\", \"Madanapalle\", \"Hugli\", \"Vellore\", \"Alleppey\", \"Cuddalore\", \"Deo\", \"Chīrāla\", \"Machilīpatnam\", \"Medinīpur\", \"Bāramūla\", \"Chandannagar\", \"Fatehpur\", \"Udipi\", \"Tenāli\", \"Sitalpur\", \"Conjeeveram\", \"Proddatūr\", \"Navsāri\", \"Godhra\", \"Budaun\", \"Chittoor\", \"Harīpur\", \"Saharsa\", \"Vidisha\", \"Pathānkot\", \"Nalgonda\", \"Dibrugarh\", \"Bālurghāt\", \"Krishnanagar\", \"Fyzābād\", \"Silchar\", \"Shāntipur\", \"Hindupur\"]]\n",
    "]\n",
    "\n",
    "_cols = [\"id\", \"cities\"]\n",
    "\n",
    "# Create Data Frame\n",
    "df = spark.createDataFrame(data = _data, schema = _cols)\n",
    "df.printSchema()s\n",
    "df.show()"
   ]
  },
  {
   "cell_type": "code",
   "execution_count": 48,
   "id": "ef5bea88-45f4-457a-b31a-ccd58e69603e",
   "metadata": {},
   "outputs": [],
   "source": [
    "# Lets create a simple Python decorator - {get_time} to get the execution timings\n",
    "# If you dont know about Python decorators - check out : https://www.geeksforgeeks.org/decorators-in-python/\n",
    "import time\n",
    "\n",
    "def get_time(func):\n",
    "    def inner_get_time() -> str:\n",
    "        start_time = time.time()\n",
    "        func()\n",
    "        end_time = time.time()\n",
    "        return (f\"Execution time: {(end_time - start_time)*1000} ms\")\n",
    "    print(inner_get_time())"
   ]
  },
  {
   "cell_type": "code",
   "execution_count": 67,
   "id": "f476fe72-6456-4adf-8530-0b7b790cdeb7",
   "metadata": {},
   "outputs": [],
   "source": [
    "# UDF for len of cities\n",
    "from pyspark.sql.functions import udf\n",
    "\n",
    "def len_of_cities(col):\n",
    "    _len = 0\n",
    "    for i in col:\n",
    "        _len += len(i)\n",
    "    return _len\n",
    "\n",
    "len_of_cities_udf = udf(lambda x: len_of_cities(x))"
   ]
  },
  {
   "cell_type": "code",
   "execution_count": 80,
   "id": "cf621a87-e246-477b-b138-b3f8230e612c",
   "metadata": {},
   "outputs": [
    {
     "name": "stdout",
     "output_type": "stream",
     "text": [
      "+---+--------------------+-------------+\n",
      "| id|              cities|len_of_cities|\n",
      "+---+--------------------+-------------+\n",
      "|  1|[Bangalore, Mumba...|           25|\n",
      "|  2|         [Bangalore]|            9|\n",
      "|  3|                  []|            0|\n",
      "|  4|[Kolkata, Bhubane...|           19|\n",
      "|  5|[Bangalore, Mumba...|           42|\n",
      "|  6|[Delhi, Mumbai, K...|         1806|\n",
      "+---+--------------------+-------------+\n",
      "\n",
      "Execution time: 395.79248428344727 ms\n"
     ]
    }
   ],
   "source": [
    "# Getting the execution time using the UDF\n",
    "\n",
    "@get_time\n",
    "def x(): df.withColumn(\"len_of_cities\", count_of_cities_udf(\"cities\")).show()"
   ]
  },
  {
   "cell_type": "code",
   "execution_count": 79,
   "id": "a3158949-5071-4af7-924c-e4d00283dd5e",
   "metadata": {},
   "outputs": [
    {
     "name": "stdout",
     "output_type": "stream",
     "text": [
      "+---+--------------------+-------------+\n",
      "| id|              cities|len_of_cities|\n",
      "+---+--------------------+-------------+\n",
      "|  1|[Bangalore, Mumba...|           25|\n",
      "|  2|         [Bangalore]|            9|\n",
      "|  3|                  []|            0|\n",
      "|  4|[Kolkata, Bhubane...|           19|\n",
      "|  5|[Bangalore, Mumba...|           42|\n",
      "|  6|[Delhi, Mumbai, K...|         1806|\n",
      "+---+--------------------+-------------+\n",
      "\n",
      "Execution time: 286.47470474243164 ms\n"
     ]
    }
   ],
   "source": [
    "# Using Higher Order Function\n",
    "from pyspark.sql.functions import aggregate, lit, length, size\n",
    "\n",
    "@get_time\n",
    "def x(): df.withColumn(\"len_of_cities\", aggregate(\"cities\", lit(0), lambda x, y: x + length(y))).show()"
   ]
  },
  {
   "cell_type": "code",
   "execution_count": null,
   "id": "3ea55b8e-e098-4e8d-bb63-eff8afd7b799",
   "metadata": {},
   "outputs": [],
   "source": []
  }
 ],
 "metadata": {
  "kernelspec": {
   "display_name": "Python 3 (ipykernel)",
   "language": "python",
   "name": "python3"
  },
  "language_info": {
   "codemirror_mode": {
    "name": "ipython",
    "version": 3
   },
   "file_extension": ".py",
   "mimetype": "text/x-python",
   "name": "python",
   "nbconvert_exporter": "python",
   "pygments_lexer": "ipython3",
   "version": "3.10.6"
  }
 },
 "nbformat": 4,
 "nbformat_minor": 5
}
