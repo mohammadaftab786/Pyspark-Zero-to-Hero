{
 "cells": [
  {
   "cell_type": "markdown",
   "id": "9f3d128a-1a3c-405e-b375-f024d37be2e4",
   "metadata": {},
   "source": [
    "### The effects of Multiline"
   ]
  },
  {
   "cell_type": "code",
   "execution_count": 1,
   "id": "997b82c1-625f-4d3c-a4cc-4d7e1da845db",
   "metadata": {},
   "outputs": [
    {
     "data": {
      "text/html": [
       "\n",
       "            <div>\n",
       "                <p><b>SparkSession - in-memory</b></p>\n",
       "                \n",
       "        <div>\n",
       "            <p><b>SparkContext</b></p>\n",
       "\n",
       "            <p><a href=\"http://eccf28b1656f:4040\">Spark UI</a></p>\n",
       "\n",
       "            <dl>\n",
       "              <dt>Version</dt>\n",
       "                <dd><code>v3.3.0</code></dd>\n",
       "              <dt>Master</dt>\n",
       "                <dd><code>local[*]</code></dd>\n",
       "              <dt>AppName</dt>\n",
       "                <dd><code>Multiline Functionality</code></dd>\n",
       "            </dl>\n",
       "        </div>\n",
       "        \n",
       "            </div>\n",
       "        "
      ],
      "text/plain": [
       "<pyspark.sql.session.SparkSession at 0x7f3ef05bd1b0>"
      ]
     },
     "execution_count": 1,
     "metadata": {},
     "output_type": "execute_result"
    }
   ],
   "source": [
    "# Create Spark Session\n",
    "\n",
    "from pyspark.sql import SparkSession\n",
    "\n",
    "spark = SparkSession \\\n",
    "    .builder \\\n",
    "    .appName(\"Multiline Functionality\") \\\n",
    "    .master(\"local[*]\") \\\n",
    "    .getOrCreate()\n",
    "\n",
    "spark"
   ]
  },
  {
   "cell_type": "code",
   "execution_count": 2,
   "id": "32790656-c283-4ecb-89e8-2da110d4bb2d",
   "metadata": {},
   "outputs": [
    {
     "name": "stdout",
     "output_type": "stream",
     "text": [
      "root\n",
      " |-- orders: array (nullable = true)\n",
      " |    |-- element: struct (containsNull = true)\n",
      " |    |    |-- cust_id: string (nullable = true)\n",
      " |    |    |-- invoice_num: string (nullable = true)\n",
      " |    |    |-- order_date: string (nullable = true)\n",
      " |    |    |-- order_id: string (nullable = true)\n",
      " |    |    |-- order_lines: array (nullable = true)\n",
      " |    |    |    |-- element: struct (containsNull = true)\n",
      " |    |    |    |    |-- currency_code: string (nullable = true)\n",
      " |    |    |    |    |-- discount: long (nullable = true)\n",
      " |    |    |    |    |-- discount_type: string (nullable = true)\n",
      " |    |    |    |    |-- prod_id: string (nullable = true)\n",
      " |    |    |    |    |-- qty: long (nullable = true)\n",
      " |    |    |    |    |-- tax: long (nullable = true)\n",
      " |    |    |    |    |-- tax_type: string (nullable = true)\n",
      " |    |    |-- store_id: string (nullable = true)\n",
      " |    |    |-- system_date: string (nullable = true)\n",
      "\n"
     ]
    }
   ],
   "source": [
    "# Lets read the Multiline JSON\n",
    "from pyspark.sql.functions import explode\n",
    "\n",
    "df_json_multiline = spark \\\n",
    "    .read \\\n",
    "    .option(\"multiLine\", True) \\\n",
    "    .format(\"json\") \\\n",
    "    .load(\"dataset/orders_json/orders_json_multiline.json\")\n",
    "\n",
    "df_json_multiline.printSchema()\n",
    "\n",
    "# Lets perform explode operation\n",
    "df_temp = df_json_multiline.withColumn(\"orders\", explode(\"orders\"))\n",
    "\n",
    "# Write with for performance benchmarking\n",
    "df_temp.write.format(\"parquet\").mode(\"overwrite\").save(\"dataset/orders_json/output/parquet_1\")"
   ]
  },
  {
   "cell_type": "code",
   "execution_count": 3,
   "id": "747f53a5-bdf2-4a6a-8889-b24a0398eee3",
   "metadata": {},
   "outputs": [
    {
     "data": {
      "text/plain": [
       "1"
      ]
     },
     "execution_count": 3,
     "metadata": {},
     "output_type": "execute_result"
    }
   ],
   "source": [
    "# Check number of partitions\n",
    "df_json_multiline.rdd.getNumPartitions()"
   ]
  },
  {
   "cell_type": "code",
   "execution_count": 5,
   "id": "9e8638e2-0e6f-4af5-ba0c-6198cfb1948a",
   "metadata": {},
   "outputs": [
    {
     "name": "stdout",
     "output_type": "stream",
     "text": [
      "root\n",
      " |-- orders: array (nullable = true)\n",
      " |    |-- element: struct (containsNull = true)\n",
      " |    |    |-- cust_id: string (nullable = true)\n",
      " |    |    |-- invoice_num: string (nullable = true)\n",
      " |    |    |-- order_date: string (nullable = true)\n",
      " |    |    |-- order_id: string (nullable = true)\n",
      " |    |    |-- order_lines: array (nullable = true)\n",
      " |    |    |    |-- element: struct (containsNull = true)\n",
      " |    |    |    |    |-- currency_code: string (nullable = true)\n",
      " |    |    |    |    |-- discount: long (nullable = true)\n",
      " |    |    |    |    |-- discount_type: string (nullable = true)\n",
      " |    |    |    |    |-- prod_id: string (nullable = true)\n",
      " |    |    |    |    |-- qty: long (nullable = true)\n",
      " |    |    |    |    |-- tax: long (nullable = true)\n",
      " |    |    |    |    |-- tax_type: string (nullable = true)\n",
      " |    |    |-- store_id: string (nullable = true)\n",
      " |    |    |-- system_date: string (nullable = true)\n",
      "\n"
     ]
    }
   ],
   "source": [
    "# Lets read the SingleLine JSON\n",
    "from pyspark.sql.functions import explode\n",
    "\n",
    "df_json_singleline = spark \\\n",
    "    .read \\\n",
    "    .option(\"multiLine\", False) \\\n",
    "    .format(\"json\") \\\n",
    "    .load(\"dataset/orders_json/orders_json_singleline.json\")\n",
    "\n",
    "df_json_singleline.printSchema()\n",
    "\n",
    "# Lets perform explode operation\n",
    "df_temp = df_json_singleline.withColumn(\"orders\", explode(\"orders\"))\n",
    "\n",
    "# Write for performance benchmarking\n",
    "df_temp.write.format(\"parquet\").mode(\"overwrite\").save(\"dataset/orders_json/output/parquet_2\")"
   ]
  },
  {
   "cell_type": "code",
   "execution_count": 6,
   "id": "dfd76dc9-7cbf-40f9-9405-3ab65c304e64",
   "metadata": {},
   "outputs": [
    {
     "data": {
      "text/plain": [
       "8"
      ]
     },
     "execution_count": 6,
     "metadata": {},
     "output_type": "execute_result"
    }
   ],
   "source": [
    "# Check number of partitions\n",
    "df_json_singleline.rdd.getNumPartitions()"
   ]
  },
  {
   "cell_type": "code",
   "execution_count": 7,
   "id": "8b7888c1-0bd6-4602-9c35-e6b2070430e7",
   "metadata": {},
   "outputs": [],
   "source": [
    "spark.stop()"
   ]
  },
  {
   "cell_type": "code",
   "execution_count": null,
   "id": "f9abeb82-d9f8-4d98-ab7a-9326cadcedb9",
   "metadata": {},
   "outputs": [],
   "source": []
  }
 ],
 "metadata": {
  "kernelspec": {
   "display_name": "Python 3 (ipykernel)",
   "language": "python",
   "name": "python3"
  },
  "language_info": {
   "codemirror_mode": {
    "name": "ipython",
    "version": 3
   },
   "file_extension": ".py",
   "mimetype": "text/x-python",
   "name": "python",
   "nbconvert_exporter": "python",
   "pygments_lexer": "ipython3",
   "version": "3.10.6"
  }
 },
 "nbformat": 4,
 "nbformat_minor": 5
}
