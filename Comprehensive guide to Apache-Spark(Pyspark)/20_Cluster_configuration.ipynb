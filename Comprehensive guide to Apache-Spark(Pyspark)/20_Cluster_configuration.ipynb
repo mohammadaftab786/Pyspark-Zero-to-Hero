{
 "cells": [
  {
   "cell_type": "markdown",
   "id": "4901d385-0f83-4ae7-89bd-26d5b47adceb",
   "metadata": {},
   "source": [
    "## Spark Cluster Configuration"
   ]
  },
  {
   "cell_type": "code",
   "execution_count": 1,
   "id": "55d34b07-4d1a-4c2b-b9f0-11fc64a0c252",
   "metadata": {},
   "outputs": [],
   "source": [
    "### Placeholder checkout - https://urlit.me/blog/pyspark-the-cluster-configuration/"
   ]
  },
  {
   "cell_type": "code",
   "execution_count": null,
   "id": "075471cb-0cad-471b-85ef-995d80d44393",
   "metadata": {},
   "outputs": [],
   "source": []
  }
 ],
 "metadata": {
  "kernelspec": {
   "display_name": "Python 3 (ipykernel)",
   "language": "python",
   "name": "python3"
  },
  "language_info": {
   "codemirror_mode": {
    "name": "ipython",
    "version": 3
   },
   "file_extension": ".py",
   "mimetype": "text/x-python",
   "name": "python",
   "nbconvert_exporter": "python",
   "pygments_lexer": "ipython3",
   "version": "3.10.6"
  }
 },
 "nbformat": 4,
 "nbformat_minor": 5
}
