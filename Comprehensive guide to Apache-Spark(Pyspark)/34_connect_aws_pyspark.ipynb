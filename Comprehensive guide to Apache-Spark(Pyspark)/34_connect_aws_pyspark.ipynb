{
 "cells": [
  {
   "cell_type": "markdown",
   "id": "a66567fd-085e-49d4-b996-0cdebcaf2a7a",
   "metadata": {},
   "source": [
    "## Connect to AWS S3"
   ]
  },
  {
   "cell_type": "code",
   "execution_count": 1,
   "id": "b3b39226-155d-486c-8f63-efbf095a1c7b",
   "metadata": {},
   "outputs": [
    {
     "name": "stdout",
     "output_type": "stream",
     "text": [
      ":: loading settings :: url = jar:file:/spark/jars/ivy-2.5.0.jar!/org/apache/ivy/core/settings/ivysettings.xml\n"
     ]
    },
    {
     "name": "stderr",
     "output_type": "stream",
     "text": [
      "Ivy Default Cache set to: /root/.ivy2/cache\n",
      "The jars for the packages stored in: /root/.ivy2/jars\n",
      "org.apache.hadoop#hadoop-aws added as a dependency\n",
      ":: resolving dependencies :: org.apache.spark#spark-submit-parent-58952316-3fb1-4107-bd40-6d595b38f19c;1.0\n",
      "\tconfs: [default]\n",
      "\tfound org.apache.hadoop#hadoop-aws;3.3.2 in central\n",
      "\tfound com.amazonaws#aws-java-sdk-bundle;1.11.1026 in central\n",
      "\tfound org.wildfly.openssl#wildfly-openssl;1.0.7.Final in central\n",
      ":: resolution report :: resolve 187ms :: artifacts dl 5ms\n",
      "\t:: modules in use:\n",
      "\tcom.amazonaws#aws-java-sdk-bundle;1.11.1026 from central in [default]\n",
      "\torg.apache.hadoop#hadoop-aws;3.3.2 from central in [default]\n",
      "\torg.wildfly.openssl#wildfly-openssl;1.0.7.Final from central in [default]\n",
      "\t---------------------------------------------------------------------\n",
      "\t|                  |            modules            ||   artifacts   |\n",
      "\t|       conf       | number| search|dwnlded|evicted|| number|dwnlded|\n",
      "\t---------------------------------------------------------------------\n",
      "\t|      default     |   3   |   0   |   0   |   0   ||   3   |   0   |\n",
      "\t---------------------------------------------------------------------\n",
      ":: retrieving :: org.apache.spark#spark-submit-parent-58952316-3fb1-4107-bd40-6d595b38f19c\n",
      "\tconfs: [default]\n",
      "\t0 artifacts copied, 3 already retrieved (0kB/10ms)\n",
      "23/01/28 09:13:00 WARN NativeCodeLoader: Unable to load native-hadoop library for your platform... using builtin-java classes where applicable\n",
      "Setting default log level to \"WARN\".\n",
      "To adjust logging level use sc.setLogLevel(newLevel). For SparkR, use setLogLevel(newLevel).\n"
     ]
    },
    {
     "data": {
      "text/html": [
       "\n",
       "            <div>\n",
       "                <p><b>SparkSession - in-memory</b></p>\n",
       "                \n",
       "        <div>\n",
       "            <p><b>SparkContext</b></p>\n",
       "\n",
       "            <p><a href=\"http://6999a9127218:4040\">Spark UI</a></p>\n",
       "\n",
       "            <dl>\n",
       "              <dt>Version</dt>\n",
       "                <dd><code>v3.3.0</code></dd>\n",
       "              <dt>Master</dt>\n",
       "                <dd><code>local[*]</code></dd>\n",
       "              <dt>AppName</dt>\n",
       "                <dd><code>Connect AWS</code></dd>\n",
       "            </dl>\n",
       "        </div>\n",
       "        \n",
       "            </div>\n",
       "        "
      ],
      "text/plain": [
       "<pyspark.sql.session.SparkSession at 0x7f5fdc21d2d0>"
      ]
     },
     "execution_count": 1,
     "metadata": {},
     "output_type": "execute_result"
    }
   ],
   "source": [
    "# Create Spark Session\n",
    "\n",
    "from pyspark.sql import SparkSession\n",
    "from pyspark import SparkConf\n",
    "\n",
    "conf = SparkConf() \\\n",
    "    .setAppName(\"Connect AWS\") \\\n",
    "    .setMaster(\"local[*]\") \\\n",
    "\n",
    "conf.set(\"spark.jars.packages\",\"org.apache.hadoop:hadoop-aws:3.3.2\")\n",
    "\n",
    "spark = SparkSession \\\n",
    "    .builder \\\n",
    "    .config(conf=conf) \\\n",
    "    .getOrCreate()\n",
    "\n",
    "spark"
   ]
  },
  {
   "cell_type": "code",
   "execution_count": 8,
   "id": "617fc3c8-bf93-4c1b-9bb8-9bbf8e3f5dc8",
   "metadata": {},
   "outputs": [
    {
     "name": "stdout",
     "output_type": "stream",
     "text": [
      "+--------+--------------+--------------+--------------+-----+--------+------------+\n",
      "|store_id|    store_name|       address|          city|state|zip_code|phone_number|\n",
      "+--------+--------------+--------------+--------------+-----+--------+------------+\n",
      "|    S000|Not Applicable|Not Applicable|Not Applicable|   NA|   00000|000-000-0000|\n",
      "|    S001|  Pet House TX|   123 Main St|       Anytown|   TX|   12345|555-555-5555|\n",
      "|    S002|  Pet House NY|    456 Elm St|   Anothertown|   NY|   67890|555-555-5556|\n",
      "|    S003|  Pet House CA|   789 Oak Ave|       Bigcity|   CA|   09876|555-555-5557|\n",
      "|    S004|  Pet House FL|321 Birch Blvd|    Smallville|   FL|   55555|555-555-5558|\n",
      "|    S005|  Pet House IL|   654 Pine St|      Busytown|   IL|   11111|555-555-5559|\n",
      "|    S006|  Pet House PA|  987 Cedar Rd|    Quietville|   PA|   22222|555-555-5560|\n",
      "|    S007|  Pet House AZ|  246 Maple St|      Anywhere|   AZ|   33333|555-555-5561|\n",
      "+--------+--------------+--------------+--------------+-----+--------+------------+\n",
      "\n"
     ]
    }
   ],
   "source": [
    "# Read file from S3\n",
    "df = spark \\\n",
    "    .read \\\n",
    "    .format(\"csv\") \\\n",
    "    .option(\"header\", True) \\\n",
    "    .load(\"s3a://easewithdata/dw-with-pyspark/landing/store/*.csv\")\n",
    "\n",
    "df.show()"
   ]
  },
  {
   "cell_type": "code",
   "execution_count": 9,
   "id": "a0a5f29e-3ce7-49e5-bc30-8ee0276bf12e",
   "metadata": {},
   "outputs": [
    {
     "name": "stderr",
     "output_type": "stream",
     "text": [
      "                                                                                \r"
     ]
    }
   ],
   "source": [
    "# Write the data to AWS S3\n",
    "\n",
    "df.coalesce(1) \\\n",
    "    .write \\\n",
    "    .format(\"parquet\") \\\n",
    "    .save(\"s3a://easewithdata/dw-with-pyspark/target/demo/store_parquet\")    "
   ]
  }
 ],
 "metadata": {
  "kernelspec": {
   "display_name": "Python 3 (ipykernel)",
   "language": "python",
   "name": "python3"
  },
  "language_info": {
   "codemirror_mode": {
    "name": "ipython",
    "version": 3
   },
   "file_extension": ".py",
   "mimetype": "text/x-python",
   "name": "python",
   "nbconvert_exporter": "python",
   "pygments_lexer": "ipython3",
   "version": "3.10.9"
  }
 },
 "nbformat": 4,
 "nbformat_minor": 5
}
