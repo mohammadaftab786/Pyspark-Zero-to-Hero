{
 "cells": [
  {
   "cell_type": "markdown",
   "id": "1ad0c4db-7abf-404b-bdca-9d20f6992fa5",
   "metadata": {},
   "source": [
    "### Optimize huge file read"
   ]
  },
  {
   "cell_type": "code",
   "execution_count": 2,
   "id": "fdef6a58-1082-4ba5-bc4a-666bf20ed7db",
   "metadata": {},
   "outputs": [
    {
     "data": {
      "text/html": [
       "\n",
       "            <div>\n",
       "                <p><b>SparkSession - in-memory</b></p>\n",
       "                \n",
       "        <div>\n",
       "            <p><b>SparkContext</b></p>\n",
       "\n",
       "            <p><a href=\"http://eccf28b1656f:4040\">Spark UI</a></p>\n",
       "\n",
       "            <dl>\n",
       "              <dt>Version</dt>\n",
       "                <dd><code>v3.3.0</code></dd>\n",
       "              <dt>Master</dt>\n",
       "                <dd><code>local[*]</code></dd>\n",
       "              <dt>AppName</dt>\n",
       "                <dd><code>Optimize huge file reads</code></dd>\n",
       "            </dl>\n",
       "        </div>\n",
       "        \n",
       "            </div>\n",
       "        "
      ],
      "text/plain": [
       "<pyspark.sql.session.SparkSession at 0x7fb9e837ad40>"
      ]
     },
     "execution_count": 2,
     "metadata": {},
     "output_type": "execute_result"
    }
   ],
   "source": [
    "# Create Spark Session\n",
    "\n",
    "from pyspark.sql import SparkSession\n",
    "\n",
    "spark = SparkSession \\\n",
    "    .builder \\\n",
    "    .appName(\"Optimize huge file reads\") \\\n",
    "    .master(\"local[*]\") \\\n",
    "    .getOrCreate()\n",
    "\n",
    "spark"
   ]
  },
  {
   "cell_type": "code",
   "execution_count": 5,
   "id": "bbf81c9b-47a3-4af0-aee6-0c54fbdaf418",
   "metadata": {},
   "outputs": [
    {
     "name": "stdout",
     "output_type": "stream",
     "text": [
      "Partition Size: 134217728 in bytes and 128.0 in MB\n"
     ]
    }
   ],
   "source": [
    "# Check the default partition size\n",
    "partition_size = spark.conf.get(\"spark.sql.files.maxPartitionBytes\").replace(\"b\",\"\")\n",
    "print(f\"Partition Size: {partition_size} in bytes and {int(partition_size) / 1024 / 1024} in MB\")"
   ]
  },
  {
   "cell_type": "code",
   "execution_count": 6,
   "id": "a57164fa-d074-4c41-9e85-912a53b1a48c",
   "metadata": {},
   "outputs": [
    {
     "name": "stdout",
     "output_type": "stream",
     "text": [
      "Parallelism : 8\n"
     ]
    }
   ],
   "source": [
    "# Check the default parallelism available\n",
    "print(f\"Parallelism : {spark.sparkContext.defaultParallelism}\")"
   ]
  },
  {
   "cell_type": "code",
   "execution_count": 18,
   "id": "7aa3f120-34bf-401a-900f-9741aa6cece1",
   "metadata": {},
   "outputs": [
    {
     "name": "stdout",
     "output_type": "stream",
     "text": [
      "Data File Size: \n",
      "            2647733632 in bytes \n",
      "            2525.0755615234375 in MB\n",
      "            2.465894103050232 in GB\n"
     ]
    }
   ],
   "source": [
    "# File size that we are going to import\n",
    "import os\n",
    "file_size = os.path.getsize('dataset/sales_combined_2.csv')\n",
    "print(f\"\"\"Data File Size: \n",
    "            {file_size} in bytes \n",
    "            {int(file_size) / 1024 / 1024} in MB\n",
    "            {int(file_size) / 1024 / 1024 / 1024} in GB\"\"\")"
   ]
  },
  {
   "cell_type": "code",
   "execution_count": 19,
   "id": "67304493-2a9f-4d89-ae14-9a17d98e6143",
   "metadata": {},
   "outputs": [],
   "source": [
    "# Lets create a simple Python decorator - {get_time} to get the execution timings\n",
    "# If you dont know about Python decorators - check out : https://www.geeksforgeeks.org/decorators-in-python/\n",
    "import time\n",
    "\n",
    "def get_time(func):\n",
    "    def inner_get_time() -> str:\n",
    "        start_time = time.time()\n",
    "        func()\n",
    "        end_time = time.time()\n",
    "        print(\"-\"*80)\n",
    "        return (f\"Execution time: {(end_time - start_time)*1000} ms\")\n",
    "    print(inner_get_time())\n",
    "    print(\"-\"*80)"
   ]
  },
  {
   "cell_type": "code",
   "execution_count": 20,
   "id": "a5db4b77-afcf-45de-8efc-e6b78a4b0a5e",
   "metadata": {},
   "outputs": [
    {
     "name": "stdout",
     "output_type": "stream",
     "text": [
      "Number of Partition -> 20\n",
      "--------------------------------------------------------------------------------\n",
      "Execution time: 11532.451629638672 ms\n",
      "--------------------------------------------------------------------------------\n"
     ]
    }
   ],
   "source": [
    "# Lets read the file and write in noop format for Performance Benchmarking\n",
    "@get_time\n",
    "def x():\n",
    "    df = spark.read.format(\"csv\").option(\"header\", True).load(\"dataset/sales_combined_2.csv\")\n",
    "    print(f\"Number of Partition -> {df.rdd.getNumPartitions()}\")\n",
    "    df.write.format(\"noop\").mode(\"overwrite\").save()"
   ]
  },
  {
   "cell_type": "code",
   "execution_count": 45,
   "id": "5379fc09-af7e-447a-8657-84b5c748077a",
   "metadata": {},
   "outputs": [
    {
     "name": "stdout",
     "output_type": "stream",
     "text": [
      "Partition Size: 402653184 in bytes and 384.0 in MB\n"
     ]
    }
   ],
   "source": [
    "# Change the default partition size to 3 times to decrease the number of partitions\n",
    "spark.conf.set(\"spark.sql.files.maxPartitionBytes\", str(128 * 3 * 1024 * 1024)+\"b\")\n",
    "\n",
    "# Verify the partition size\n",
    "partition_size = spark.conf.get(\"spark.sql.files.maxPartitionBytes\").replace(\"b\",\"\")\n",
    "print(f\"Partition Size: {partition_size} in bytes and {int(partition_size) / 1024 / 1024} in MB\")"
   ]
  },
  {
   "cell_type": "code",
   "execution_count": 46,
   "id": "63b49278-a828-49d5-b2cc-aa0253d29d51",
   "metadata": {},
   "outputs": [
    {
     "name": "stdout",
     "output_type": "stream",
     "text": [
      "Number of Partition -> 8\n",
      "--------------------------------------------------------------------------------\n",
      "Execution time: 9590.608835220337 ms\n",
      "--------------------------------------------------------------------------------\n"
     ]
    }
   ],
   "source": [
    "# Lets read the file again with new partition size and write in noop format for Performance Benchmarking\n",
    "@get_time\n",
    "def x():\n",
    "    df = spark.read.format(\"csv\").option(\"header\", True).load(\"dataset/sales_combined_2.csv\")\n",
    "    print(f\"Number of Partition -> {df.rdd.getNumPartitions()}\")\n",
    "    df.write.format(\"noop\").mode(\"overwrite\").save()"
   ]
  },
  {
   "cell_type": "code",
   "execution_count": 47,
   "id": "e196defd-3bd1-4ca2-8306-f97c6003bc37",
   "metadata": {},
   "outputs": [
    {
     "name": "stdout",
     "output_type": "stream",
     "text": [
      "Partition Size: 167772160 in bytes and 160.0 in MB\n"
     ]
    }
   ],
   "source": [
    "# Change the default partition size to 160 MB to decrease the number of partitions\n",
    "spark.conf.set(\"spark.sql.files.maxPartitionBytes\", str(160 * 1024 * 1024)+\"b\")\n",
    "\n",
    "# Verify the partition size\n",
    "partition_size = spark.conf.get(\"spark.sql.files.maxPartitionBytes\").replace(\"b\",\"\")\n",
    "print(f\"Partition Size: {partition_size} in bytes and {int(partition_size) / 1024 / 1024} in MB\")"
   ]
  },
  {
   "cell_type": "code",
   "execution_count": 48,
   "id": "45c98587-2db5-471b-8b93-d042e7aa37b2",
   "metadata": {},
   "outputs": [
    {
     "name": "stdout",
     "output_type": "stream",
     "text": [
      "Number of Partition -> 16\n",
      "--------------------------------------------------------------------------------\n",
      "Execution time: 7111.926555633545 ms\n",
      "--------------------------------------------------------------------------------\n"
     ]
    }
   ],
   "source": [
    "# Lets read the file again with new partition size and write in noop format for Performance Benchmarking\n",
    "@get_time\n",
    "def x():\n",
    "    df = spark.read.format(\"csv\").option(\"header\", True).load(\"dataset/sales_combined_2.csv\")\n",
    "    print(f\"Number of Partition -> {df.rdd.getNumPartitions()}\")\n",
    "    df.write.format(\"noop\").mode(\"overwrite\").save()"
   ]
  },
  {
   "cell_type": "code",
   "execution_count": 49,
   "id": "b444a989-064a-49b6-b86e-0028d3f431b4",
   "metadata": {},
   "outputs": [],
   "source": [
    "spark.stop()"
   ]
  },
  {
   "cell_type": "code",
   "execution_count": null,
   "id": "4d7b48f7-657a-4d9f-bd76-19c095701061",
   "metadata": {},
   "outputs": [],
   "source": []
  }
 ],
 "metadata": {
  "kernelspec": {
   "display_name": "Python 3 (ipykernel)",
   "language": "python",
   "name": "python3"
  },
  "language_info": {
   "codemirror_mode": {
    "name": "ipython",
    "version": 3
   },
   "file_extension": ".py",
   "mimetype": "text/x-python",
   "name": "python",
   "nbconvert_exporter": "python",
   "pygments_lexer": "ipython3",
   "version": "3.10.6"
  }
 },
 "nbformat": 4,
 "nbformat_minor": 5
}
