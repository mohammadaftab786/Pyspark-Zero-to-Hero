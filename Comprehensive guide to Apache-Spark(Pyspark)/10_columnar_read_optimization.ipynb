{
 "cells": [
  {
   "cell_type": "markdown",
   "id": "12b22570-72df-400e-abf8-e0f15a04f534",
   "metadata": {},
   "source": [
    "# Columnar Read Optimization"
   ]
  },
  {
   "cell_type": "code",
   "execution_count": 1,
   "id": "b0849c40-ad3f-4cbc-9997-6346f0528290",
   "metadata": {},
   "outputs": [
    {
     "data": {
      "text/html": [
       "\n",
       "            <div>\n",
       "                <p><b>SparkSession - in-memory</b></p>\n",
       "                \n",
       "        <div>\n",
       "            <p><b>SparkContext</b></p>\n",
       "\n",
       "            <p><a href=\"http://e85ba8ba0610:4040\">Spark UI</a></p>\n",
       "\n",
       "            <dl>\n",
       "              <dt>Version</dt>\n",
       "                <dd><code>v3.3.0</code></dd>\n",
       "              <dt>Master</dt>\n",
       "                <dd><code>local[*]</code></dd>\n",
       "              <dt>AppName</dt>\n",
       "                <dd><code>Parquet Columnar Optimization</code></dd>\n",
       "            </dl>\n",
       "        </div>\n",
       "        \n",
       "            </div>\n",
       "        "
      ],
      "text/plain": [
       "<pyspark.sql.session.SparkSession at 0x7fdd400904f0>"
      ]
     },
     "execution_count": 1,
     "metadata": {},
     "output_type": "execute_result"
    }
   ],
   "source": [
    "# Create Spark Session\n",
    "\n",
    "from pyspark.sql import SparkSession\n",
    "\n",
    "spark = SparkSession \\\n",
    "    .builder \\\n",
    "    .appName(\"Parquet Columnar Optimization\") \\\n",
    "    .master(\"local[*]\") \\\n",
    "    .getOrCreate()\n",
    "\n",
    "spark"
   ]
  },
  {
   "cell_type": "code",
   "execution_count": 3,
   "id": "857edc74-8279-4232-a661-84fe2a73d78f",
   "metadata": {},
   "outputs": [],
   "source": [
    "# Lets create a simple Python decorator - {get_time} to get the execution timings\n",
    "# If you dont know about Python decorators - check out : https://www.geeksforgeeks.org/decorators-in-python/\n",
    "import time\n",
    "\n",
    "def get_time(func):\n",
    "    def inner_get_time() -> str:\n",
    "        start_time = time.time()\n",
    "        func()\n",
    "        end_time = time.time()\n",
    "        return (f\"Execution time: {(end_time - start_time)*1000} ms\")\n",
    "    print(inner_get_time())"
   ]
  },
  {
   "cell_type": "code",
   "execution_count": 1,
   "id": "2be70f66-777b-4ff1-bac0-f810ea923ed2",
   "metadata": {},
   "outputs": [
    {
     "name": "stdout",
     "output_type": "stream",
     "text": [
      "total 118M\n",
      "-rw-r--r-- 1 jovyan users    0 Oct 12 12:24 _SUCCESS\n",
      "-rw-r--r-- 1 jovyan users 118M Oct 12 12:24 part-00000-ca408bb4-a0c2-4ae1-a794-5d46f4655fae-c000.snappy.parquet\n"
     ]
    }
   ],
   "source": [
    "%%sh\n",
    "ls -lhtr dataset/sales.parquet/"
   ]
  },
  {
   "cell_type": "code",
   "execution_count": 15,
   "id": "9c940376-ca67-40b4-806b-f07744536c80",
   "metadata": {},
   "outputs": [
    {
     "name": "stdout",
     "output_type": "stream",
     "text": [
      "root\n",
      " |-- transacted_at: string (nullable = true)\n",
      " |-- trx_id: string (nullable = true)\n",
      " |-- retailer_id: string (nullable = true)\n",
      " |-- description: string (nullable = true)\n",
      " |-- amount: string (nullable = true)\n",
      " |-- city_id: string (nullable = true)\n",
      "\n",
      "Execution time: 2433.0270290374756 ms\n"
     ]
    }
   ],
   "source": [
    "# Now lets read the dataset without specifying the schema\n",
    "\n",
    "df_sales = spark \\\n",
    "    .read \\\n",
    "    .format(\"parquet\") \\\n",
    "    .load(\"dataset/sales.parquet\")\n",
    "\n",
    "df_sales.printSchema()\n",
    "    \n",
    "@get_time\n",
    "def x(): df_sales.write.format(\"noop\").mode(\"overwrite\").save()"
   ]
  },
  {
   "cell_type": "code",
   "execution_count": 20,
   "id": "4e6d7ce0-dde0-41f6-a395-6ee6f28abe11",
   "metadata": {},
   "outputs": [
    {
     "name": "stdout",
     "output_type": "stream",
     "text": [
      "root\n",
      " |-- transacted_at: string (nullable = true)\n",
      " |-- trx_id: string (nullable = true)\n",
      " |-- retailer_id: string (nullable = true)\n",
      " |-- description: string (nullable = true)\n",
      " |-- amount: string (nullable = true)\n",
      " |-- city_id: string (nullable = true)\n",
      "\n",
      "Execution time: 2173.130989074707 ms\n"
     ]
    }
   ],
   "source": [
    "# Now we specify the schema before reading\n",
    "\n",
    "_schema = \"transacted_at STRING, trx_id STRING, retailer_id STRING, description STRING, amount STRING, city_id STRING\"\n",
    "\n",
    "df_sales = spark \\\n",
    "    .read \\\n",
    "    .schema(_schema) \\\n",
    "    .format(\"parquet\") \\\n",
    "    .load(\"dataset/sales.parquet\")\n",
    "\n",
    "df_sales.printSchema()\n",
    "    \n",
    "@get_time\n",
    "def x(): df_sales.write.format(\"noop\").mode(\"overwrite\").save()"
   ]
  },
  {
   "cell_type": "code",
   "execution_count": 21,
   "id": "091d3282-ede5-4f6e-9531-5c4e156366b8",
   "metadata": {},
   "outputs": [
    {
     "name": "stdout",
     "output_type": "stream",
     "text": [
      "root\n",
      " |-- transacted_at: string (nullable = true)\n",
      " |-- trx_id: string (nullable = true)\n",
      " |-- amount: string (nullable = true)\n",
      "\n",
      "Execution time: 1123.8584518432617 ms\n"
     ]
    }
   ],
   "source": [
    "# Now if we only query the required columns\n",
    "\n",
    "_required_schema = \"transacted_at STRING, trx_id STRING, amount STRING\"\n",
    "\n",
    "\n",
    "df_sales = spark \\\n",
    "    .read \\\n",
    "    .schema(_required_schema) \\\n",
    "    .format(\"parquet\") \\\n",
    "    .load(\"dataset/sales.parquet\")\n",
    "\n",
    "df_sales.printSchema()\n",
    "    \n",
    "@get_time\n",
    "def x(): df_sales.write.format(\"noop\").mode(\"overwrite\").save()"
   ]
  },
  {
   "cell_type": "code",
   "execution_count": 22,
   "id": "04c17f4b-78f4-43cd-81fd-a9b7c482338d",
   "metadata": {},
   "outputs": [
    {
     "name": "stdout",
     "output_type": "stream",
     "text": [
      "root\n",
      " |-- transacted_at: string (nullable = true)\n",
      " |-- trx_id: string (nullable = true)\n",
      " |-- amount: string (nullable = true)\n",
      "\n",
      "Execution time: 1142.024278640747 ms\n"
     ]
    }
   ],
   "source": [
    "# If we read the partial schema again but this time with select\n",
    "\n",
    "_schema = \"transacted_at STRING, trx_id STRING, retailer_id STRING, description STRING, amount STRING, city_id STRING\"\n",
    "\n",
    "df_sales = spark \\\n",
    "    .read \\\n",
    "    .schema(_schema) \\\n",
    "    .parquet(\"dataset/sales.parquet\") \\\n",
    "    .select(\"transacted_at\", \"trx_id\", \"amount\")\n",
    "\n",
    "df_sales.printSchema()\n",
    "    \n",
    "@get_time\n",
    "def x(): df_sales.write.format(\"noop\").mode(\"overwrite\").save()"
   ]
  },
  {
   "cell_type": "code",
   "execution_count": 24,
   "id": "be104925-cdb6-4368-b921-de2da78df7c4",
   "metadata": {},
   "outputs": [
    {
     "name": "stdout",
     "output_type": "stream",
     "text": [
      "root\n",
      " |-- transacted_at: string (nullable = true)\n",
      " |-- trx_id: string (nullable = true)\n",
      " |-- amount: string (nullable = true)\n",
      "\n",
      "Execution time: 1156.738519668579 ms\n"
     ]
    }
   ],
   "source": [
    "# We can also use drop to remove the un-wanted columns\n",
    "\n",
    "_schema = \"transacted_at STRING, trx_id STRING, retailer_id STRING, description STRING, amount STRING, city_id STRING\"\n",
    "\n",
    "df_sales = spark \\\n",
    "    .read \\\n",
    "    .schema(_schema) \\\n",
    "    .parquet(\"dataset/sales.parquet\") \\\n",
    "    .drop(\"retailer_id\", \"description\", \"city_id\")\n",
    "\n",
    "df_sales.printSchema()\n",
    "    \n",
    "@get_time\n",
    "def x(): df_sales.write.format(\"noop\").mode(\"overwrite\").save()"
   ]
  },
  {
   "cell_type": "code",
   "execution_count": null,
   "id": "09d9267b-e407-4cf1-972e-66cdd7c8ca9e",
   "metadata": {},
   "outputs": [],
   "source": []
  }
 ],
 "metadata": {
  "kernelspec": {
   "display_name": "Python 3 (ipykernel)",
   "language": "python",
   "name": "python3"
  },
  "language_info": {
   "codemirror_mode": {
    "name": "ipython",
    "version": 3
   },
   "file_extension": ".py",
   "mimetype": "text/x-python",
   "name": "python",
   "nbconvert_exporter": "python",
   "pygments_lexer": "ipython3",
   "version": "3.10.6"
  }
 },
 "nbformat": 4,
 "nbformat_minor": 5
}
