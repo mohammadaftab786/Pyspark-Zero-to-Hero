{
 "cells": [
  {
   "cell_type": "markdown",
   "id": "12273655-f58d-48d7-ac30-e29f352b1a42",
   "metadata": {},
   "source": [
    "## Fix Column Headers"
   ]
  },
  {
   "cell_type": "code",
   "execution_count": 1,
   "id": "782638a0-1ccc-4205-9584-2c878af93067",
   "metadata": {},
   "outputs": [
    {
     "data": {
      "text/html": [
       "\n",
       "            <div>\n",
       "                <p><b>SparkSession - in-memory</b></p>\n",
       "                \n",
       "        <div>\n",
       "            <p><b>SparkContext</b></p>\n",
       "\n",
       "            <p><a href=\"http://eccf28b1656f:4040\">Spark UI</a></p>\n",
       "\n",
       "            <dl>\n",
       "              <dt>Version</dt>\n",
       "                <dd><code>v3.3.0</code></dd>\n",
       "              <dt>Master</dt>\n",
       "                <dd><code>local[2]</code></dd>\n",
       "              <dt>AppName</dt>\n",
       "                <dd><code>Fix Headers</code></dd>\n",
       "            </dl>\n",
       "        </div>\n",
       "        \n",
       "            </div>\n",
       "        "
      ],
      "text/plain": [
       "<pyspark.sql.session.SparkSession at 0x7f26444f86a0>"
      ]
     },
     "execution_count": 1,
     "metadata": {},
     "output_type": "execute_result"
    }
   ],
   "source": [
    "# Create Spark Session\n",
    "\n",
    "from pyspark.sql import SparkSession\n",
    "\n",
    "spark = SparkSession \\\n",
    "    .builder \\\n",
    "    .appName(\"Fix Headers\") \\\n",
    "    .master(\"local[2]\") \\\n",
    "    .getOrCreate()\n",
    "\n",
    "spark"
   ]
  },
  {
   "cell_type": "code",
   "execution_count": 10,
   "id": "005c2b10-8b8c-4e5e-a2e4-9f1badca3778",
   "metadata": {},
   "outputs": [
    {
     "name": "stdout",
     "output_type": "stream",
     "text": [
      "::::::::::::::\n",
      "dataset/students.csv\n",
      "::::::::::::::\n",
      "﻿First Name,Last Name,Dept Name,Dept ID,Salary\n",
      "Amit,Kumar,Physics,PHY,30000\n",
      "Anwar,Ansari,Chemistry,CHEM,30000\n",
      "Rita,,Maths,MATH,39000\n",
      "Deepak,Chaturvedi,Biology,BIO,30000"
     ]
    }
   ],
   "source": [
    "%%sh \n",
    "\n",
    "more \"dataset/students.csv\""
   ]
  },
  {
   "cell_type": "code",
   "execution_count": 16,
   "id": "f01c14d8-93d6-4b9b-89d6-fd2c832fb2e8",
   "metadata": {},
   "outputs": [],
   "source": [
    "# Python function to read the column name and fix the space with underscore \"_\"\n",
    "from pyspark.sql import DataFrame\n",
    "\n",
    "def fix_header(df: DataFrame) -> list:\n",
    "    fixed_col_list: list = []\n",
    "    for col in df.columns:\n",
    "        fixed_col_list.append(f\"`{str(col).strip()}` as {str(col).strip().replace(' ','_').lower()}\")\n",
    "        \n",
    "    return fixed_col_list"
   ]
  },
  {
   "cell_type": "code",
   "execution_count": 22,
   "id": "1bd66b9f-0bd6-4dee-82dd-0444f43d0557",
   "metadata": {},
   "outputs": [
    {
     "name": "stdout",
     "output_type": "stream",
     "text": [
      "root\n",
      " |-- First Name: string (nullable = true)\n",
      " |-- Last Name: string (nullable = true)\n",
      " |-- Dept Name: string (nullable = true)\n",
      " |-- Dept ID: string (nullable = true)\n",
      " |-- Salary: string (nullable = true)\n",
      "\n",
      "+----------+----------+---------+-------+------+\n",
      "|First Name| Last Name|Dept Name|Dept ID|Salary|\n",
      "+----------+----------+---------+-------+------+\n",
      "|      Amit|     Kumar|  Physics|    PHY| 30000|\n",
      "|     Anwar|    Ansari|Chemistry|   CHEM| 30000|\n",
      "|      Rita|      null|    Maths|   MATH| 39000|\n",
      "|    Deepak|Chaturvedi|  Biology|    BIO| 30000|\n",
      "+----------+----------+---------+-------+------+\n",
      "\n"
     ]
    }
   ],
   "source": [
    "# Read the CSV file with malformed header\n",
    "raw_df = spark.read.format(\"csv\").option(\"header\", True).load(\"dataset/students.csv\")\n",
    "raw_df.printSchema()\n",
    "raw_df.show()"
   ]
  },
  {
   "cell_type": "code",
   "execution_count": 21,
   "id": "6da379de-d1a1-4fe0-b68c-91e107d4ff5a",
   "metadata": {},
   "outputs": [
    {
     "name": "stdout",
     "output_type": "stream",
     "text": [
      "['`First Name` as first_name', '`Last Name` as last_name', '`Dept Name` as dept_name', '`Dept ID` as dept_id', '`Salary` as salary']\n",
      "root\n",
      " |-- first_name: string (nullable = true)\n",
      " |-- last_name: string (nullable = true)\n",
      " |-- dept_name: string (nullable = true)\n",
      " |-- dept_id: string (nullable = true)\n",
      " |-- salary: string (nullable = true)\n",
      "\n",
      "+----------+----------+---------+-------+------+\n",
      "|first_name| last_name|dept_name|dept_id|salary|\n",
      "+----------+----------+---------+-------+------+\n",
      "|      Amit|     Kumar|  Physics|    PHY| 30000|\n",
      "|     Anwar|    Ansari|Chemistry|   CHEM| 30000|\n",
      "|      Rita|      null|    Maths|   MATH| 39000|\n",
      "|    Deepak|Chaturvedi|  Biology|    BIO| 30000|\n",
      "+----------+----------+---------+-------+------+\n",
      "\n"
     ]
    }
   ],
   "source": [
    "# Create a new dataframe with fixed column names\n",
    "fixed_headers = fix_header(df = raw_df)\n",
    "print(fixed_headers)\n",
    "\n",
    "# Apply to create the new dataframe\n",
    "fixed_df = df.selectExpr(fixed_headers)\n",
    "fixed_df.printSchema()\n",
    "fixed_df.show()"
   ]
  },
  {
   "cell_type": "code",
   "execution_count": null,
   "id": "1cdac798-0805-4a2a-8110-6728bdad383c",
   "metadata": {},
   "outputs": [],
   "source": []
  }
 ],
 "metadata": {
  "kernelspec": {
   "display_name": "Python 3 (ipykernel)",
   "language": "python",
   "name": "python3"
  },
  "language_info": {
   "codemirror_mode": {
    "name": "ipython",
    "version": 3
   },
   "file_extension": ".py",
   "mimetype": "text/x-python",
   "name": "python",
   "nbconvert_exporter": "python",
   "pygments_lexer": "ipython3",
   "version": "3.10.6"
  }
 },
 "nbformat": 4,
 "nbformat_minor": 5
}
