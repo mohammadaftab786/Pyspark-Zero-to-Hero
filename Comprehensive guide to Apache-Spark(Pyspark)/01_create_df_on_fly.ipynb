{
 "cells": [
  {
   "cell_type": "markdown",
   "id": "b7fc9401-3de5-4ece-b288-3b211e7e1831",
   "metadata": {},
   "source": [
    "# PySpark - Create Data Frame from List or RDD on the fly"
   ]
  },
  {
   "cell_type": "code",
   "execution_count": 1,
   "id": "58bc3416-4671-4b0f-a9b1-6b669f1f2d06",
   "metadata": {},
   "outputs": [
    {
     "data": {
      "text/html": [
       "\n",
       "            <div>\n",
       "                <p><b>SparkSession - in-memory</b></p>\n",
       "                \n",
       "        <div>\n",
       "            <p><b>SparkContext</b></p>\n",
       "\n",
       "            <p><a href=\"http://e85ba8ba0610:4040\">Spark UI</a></p>\n",
       "\n",
       "            <dl>\n",
       "              <dt>Version</dt>\n",
       "                <dd><code>v3.3.0</code></dd>\n",
       "              <dt>Master</dt>\n",
       "                <dd><code>local[*]</code></dd>\n",
       "              <dt>AppName</dt>\n",
       "                <dd><code>Create DF on fly</code></dd>\n",
       "            </dl>\n",
       "        </div>\n",
       "        \n",
       "            </div>\n",
       "        "
      ],
      "text/plain": [
       "<pyspark.sql.session.SparkSession at 0x7f3b69ca32e0>"
      ]
     },
     "execution_count": 1,
     "metadata": {},
     "output_type": "execute_result"
    }
   ],
   "source": [
    "# Create Spark Session\n",
    "\n",
    "from pyspark.sql import SparkSession\n",
    "\n",
    "spark = SparkSession \\\n",
    "    .builder \\\n",
    "    .appName(\"Create DF on fly\") \\\n",
    "    .master(\"local[*]\") \\\n",
    "    .getOrCreate()\n",
    "\n",
    "spark"
   ]
  },
  {
   "cell_type": "markdown",
   "id": "ea70809f-7704-4ac7-b12f-28135cdc2a71",
   "metadata": {
    "tags": []
   },
   "source": [
    "### SparkSession range() method"
   ]
  },
  {
   "cell_type": "code",
   "execution_count": 7,
   "id": "d0f72f9a-138e-4883-bd21-eaf93731aa0c",
   "metadata": {},
   "outputs": [
    {
     "name": "stdout",
     "output_type": "stream",
     "text": [
      "+---+\n",
      "|id |\n",
      "+---+\n",
      "|0  |\n",
      "|1  |\n",
      "|2  |\n",
      "|3  |\n",
      "|4  |\n",
      "+---+\n",
      "\n"
     ]
    }
   ],
   "source": [
    "# Create an Dataframe from range of values\n",
    "df_range_1 = spark.range(5)\n",
    "df_range_1.show(5, truncate = False)"
   ]
  },
  {
   "cell_type": "code",
   "execution_count": 8,
   "id": "552976ef-f2e5-4b2f-99ba-0a6f5e5407d6",
   "metadata": {},
   "outputs": [
    {
     "name": "stdout",
     "output_type": "stream",
     "text": [
      "+---+\n",
      "|id |\n",
      "+---+\n",
      "|1  |\n",
      "|3  |\n",
      "|5  |\n",
      "|7  |\n",
      "|9  |\n",
      "+---+\n",
      "\n"
     ]
    }
   ],
   "source": [
    "# You can optionally specify start, end and steps as well\n",
    "df_range_2 = spark.range(start = 1, end = 10, step = 2)\n",
    "df_range_2.show(10, False)"
   ]
  },
  {
   "cell_type": "markdown",
   "id": "7a2d80c7-f564-4e78-b590-e60cfa4ca01c",
   "metadata": {
    "tags": []
   },
   "source": [
    "### Spark createDataFrame() method"
   ]
  },
  {
   "cell_type": "code",
   "execution_count": 44,
   "id": "ff8a89af-9420-4960-b74f-6ad9441c48eb",
   "metadata": {},
   "outputs": [],
   "source": [
    "# Create Python Native List of Data\n",
    "_data = [\n",
    "    [1, \"Ram\"],\n",
    "    [2, \"Shyam\"],\n",
    "    [3, \"Asraf\"],\n",
    "    [4, None]\n",
    "]\n",
    "\n",
    "# Create the list of column names\n",
    "_cols = [\"id\", \"name\"]"
   ]
  },
  {
   "cell_type": "code",
   "execution_count": 47,
   "id": "f8f0f18d-c890-4879-939d-abe5da0c9953",
   "metadata": {},
   "outputs": [
    {
     "name": "stdout",
     "output_type": "stream",
     "text": [
      "root\n",
      " |-- id: long (nullable = true)\n",
      " |-- name: string (nullable = true)\n",
      "\n",
      "+---+-----+\n",
      "|id |name |\n",
      "+---+-----+\n",
      "|1  |Ram  |\n",
      "|2  |Shyam|\n",
      "|3  |Asraf|\n",
      "|4  |null |\n",
      "+---+-----+\n",
      "\n"
     ]
    }
   ],
   "source": [
    "# Create Data Frame using the createDataFrame method\n",
    "df_users = spark.createDataFrame(data = _data, schema=_cols)\n",
    "df_users.printSchema()\n",
    "\n",
    "# Check Data Frame\n",
    "df_users.show(truncate=False)"
   ]
  },
  {
   "cell_type": "markdown",
   "id": "5210cfda-8852-42e1-8c5b-b89b4bb95ed4",
   "metadata": {},
   "source": [
    "### Spark toDF() method"
   ]
  },
  {
   "cell_type": "code",
   "execution_count": 55,
   "id": "cedc597c-d5fc-4d8d-a760-78f78ee4e88f",
   "metadata": {},
   "outputs": [
    {
     "data": {
      "text/plain": [
       "[[1, 'Ram'], [2, 'Shyam'], [3, 'Asraf'], [4, None]]"
      ]
     },
     "execution_count": 55,
     "metadata": {},
     "output_type": "execute_result"
    }
   ],
   "source": [
    "# From the same data list we create new RDD\n",
    "\n",
    "_data_rdd = spark.sparkContext.parallelize(_data)\n",
    "_data_rdd.collect()\n",
    "\n",
    "# To check number of partitions of the data\n",
    "# _data_rdd.getNumPartitions()"
   ]
  },
  {
   "cell_type": "code",
   "execution_count": 60,
   "id": "a381dcf6-3a89-475c-b929-63d2545f5fc2",
   "metadata": {},
   "outputs": [
    {
     "name": "stdout",
     "output_type": "stream",
     "text": [
      "+---+-----+\n",
      "| id| name|\n",
      "+---+-----+\n",
      "|  1|  Ram|\n",
      "|  2|Shyam|\n",
      "|  3|Asraf|\n",
      "|  4| null|\n",
      "+---+-----+\n",
      "\n"
     ]
    }
   ],
   "source": [
    " # Create Data Frame from the rdd\n",
    "\n",
    "df_users_new = _data_rdd.toDF(_cols)\n",
    "df_users_new.show()"
   ]
  },
  {
   "cell_type": "code",
   "execution_count": null,
   "id": "56afc144-97b6-48b6-ae1f-1d18758903d0",
   "metadata": {},
   "outputs": [],
   "source": []
  }
 ],
 "metadata": {
  "kernelspec": {
   "display_name": "Python 3 (ipykernel)",
   "language": "python",
   "name": "python3"
  },
  "language_info": {
   "codemirror_mode": {
    "name": "ipython",
    "version": 3
   },
   "file_extension": ".py",
   "mimetype": "text/x-python",
   "name": "python",
   "nbconvert_exporter": "python",
   "pygments_lexer": "ipython3",
   "version": "3.10.6"
  }
 },
 "nbformat": 4,
 "nbformat_minor": 5
}
